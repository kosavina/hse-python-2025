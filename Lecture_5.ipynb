{
  "nbformat": 4,
  "nbformat_minor": 0,
  "metadata": {
    "colab": {
      "provenance": []
    },
    "kernelspec": {
      "name": "python3",
      "display_name": "Python 3"
    },
    "language_info": {
      "name": "python"
    }
  },
  "cells": [
    {
      "cell_type": "markdown",
      "source": [
        "# Lecture 5 (01 Nov 2025)\n",
        "\n",
        "[![Open In Colab](https://colab.research.google.com/assets/colab-badge.svg)](https://colab.research.google.com/github/kosavina/hse-python-2025/blob/main/Lecture_5.ipynb)"
      ],
      "metadata": {
        "id": "08Jwt1iCJ9_s"
      }
    },
    {
      "cell_type": "code",
      "execution_count": null,
      "metadata": {
        "id": "QW9i3JnvIOsp"
      },
      "outputs": [],
      "source": [
        "%%shell\n",
        "if [ ! -d \"data\" ]; then\n",
        "  git clone https://github.com/PacktPublishing/Pandas-Cookbook/\n",
        "  mv ./Pandas-Cookbook/data/ ./\n",
        "  rm -R ./Pandas-Cookbook\n",
        "else\n",
        "  echo \"Skipping clone.\"\n",
        "fi"
      ]
    },
    {
      "cell_type": "markdown",
      "source": [
        "# Pandas Foundations"
      ],
      "metadata": {
        "id": "7o1TLUi7LJtX"
      }
    },
    {
      "cell_type": "code",
      "source": [
        "import pandas as pd\n",
        "import numpy as np"
      ],
      "metadata": {
        "id": "MrSgv0VVLNRc"
      },
      "execution_count": null,
      "outputs": []
    },
    {
      "cell_type": "markdown",
      "source": [
        "Read `data/movie.csv`"
      ],
      "metadata": {
        "id": "j9pmcy6WZHWb"
      }
    },
    {
      "cell_type": "code",
      "source": [
        "!head -n 5 ./data/movie.csv"
      ],
      "metadata": {
        "id": "lf8kOjx7XjMc"
      },
      "execution_count": null,
      "outputs": []
    },
    {
      "cell_type": "code",
      "source": [
        "df = pd.read_csv()"
      ],
      "metadata": {
        "id": "qnkZRU6ZXFoQ"
      },
      "execution_count": null,
      "outputs": []
    },
    {
      "cell_type": "code",
      "source": [
        "gsheetkey = ''\n",
        "sheet_name = ''\n",
        "url=f'https://docs.google.com/spreadsheet/ccc?key={gsheetkey}&output=xlsx'\n",
        "df = pd.read_excel(url,sheet_name=sheet_name)\n",
        "df"
      ],
      "metadata": {
        "id": "2J_FovoOWjf5"
      },
      "execution_count": null,
      "outputs": []
    },
    {
      "cell_type": "code",
      "source": [
        "df = pd.read_excel()"
      ],
      "metadata": {
        "id": "Qg4LIeUGXWeu"
      },
      "execution_count": null,
      "outputs": []
    },
    {
      "cell_type": "markdown",
      "metadata": {
        "id": "avbDmRJ2Hraj"
      },
      "source": [
        "## Dissecting the anatomy of a DataFrame"
      ]
    },
    {
      "cell_type": "markdown",
      "metadata": {
        "id": "cpaJ1Ox3Hraj"
      },
      "source": [
        "### Change options to get specific output for book"
      ]
    },
    {
      "cell_type": "code",
      "execution_count": null,
      "metadata": {
        "collapsed": true,
        "id": "xbbKgdlCHraj"
      },
      "outputs": [],
      "source": [
        "pd.set_option('display.max_columns', 8)\n",
        "pd.set_option('display.max_rows', 10)"
      ]
    },
    {
      "cell_type": "code",
      "source": [
        "movie = pd.read_csv('data/movie.csv')"
      ],
      "metadata": {
        "id": "2-HVHLBLdOjB"
      },
      "execution_count": null,
      "outputs": []
    },
    {
      "cell_type": "code",
      "execution_count": null,
      "metadata": {
        "id": "_Zdm9uEYHrak"
      },
      "outputs": [],
      "source": [
        "movie.head()"
      ]
    },
    {
      "cell_type": "code",
      "source": [
        "from google.colab import data_table\n",
        "data_table.DataTable.max_columns = 10\n",
        "data_table.enable_dataframe_formatter()\n",
        "movie.head()"
      ],
      "metadata": {
        "id": "_D1uymLzN96c"
      },
      "execution_count": null,
      "outputs": []
    },
    {
      "cell_type": "markdown",
      "metadata": {
        "id": "f5V6LBajHrak"
      },
      "source": [
        "## Accessing the main DataFrame components"
      ]
    },
    {
      "cell_type": "code",
      "source": [
        "movie.head()"
      ],
      "metadata": {
        "id": "F4VhoK3Sf3CO"
      },
      "execution_count": null,
      "outputs": []
    },
    {
      "cell_type": "code",
      "execution_count": null,
      "metadata": {
        "collapsed": true,
        "id": "f8W_VveRHrak"
      },
      "outputs": [],
      "source": [
        "columns = movie.columns\n",
        "index = movie.index\n",
        "data = movie.values"
      ]
    },
    {
      "cell_type": "code",
      "execution_count": null,
      "metadata": {
        "id": "bFVYwR9BHral"
      },
      "outputs": [],
      "source": [
        "columns"
      ]
    },
    {
      "cell_type": "code",
      "execution_count": null,
      "metadata": {
        "id": "yqw7lvtLHral"
      },
      "outputs": [],
      "source": [
        "index"
      ]
    },
    {
      "cell_type": "code",
      "execution_count": null,
      "metadata": {
        "id": "JSL7dlXQHral"
      },
      "outputs": [],
      "source": [
        "data"
      ]
    },
    {
      "cell_type": "code",
      "execution_count": null,
      "metadata": {
        "id": "Q-5PXO9bHral"
      },
      "outputs": [],
      "source": [
        "type(index)"
      ]
    },
    {
      "cell_type": "code",
      "execution_count": null,
      "metadata": {
        "id": "DA_XM6TuHral"
      },
      "outputs": [],
      "source": [
        "type(columns)"
      ]
    },
    {
      "cell_type": "code",
      "execution_count": null,
      "metadata": {
        "id": "txE0kpnLHram"
      },
      "outputs": [],
      "source": [
        "type(data)"
      ]
    },
    {
      "cell_type": "markdown",
      "metadata": {
        "id": "LazDOA8EHram"
      },
      "source": [
        "### There's more"
      ]
    },
    {
      "cell_type": "code",
      "execution_count": null,
      "metadata": {
        "id": "Rb8If3FIHram"
      },
      "outputs": [],
      "source": [
        "type(index.values)"
      ]
    },
    {
      "cell_type": "code",
      "execution_count": null,
      "metadata": {
        "id": "RoSpRHTCHram"
      },
      "outputs": [],
      "source": [
        "columns.values"
      ]
    },
    {
      "cell_type": "markdown",
      "metadata": {
        "id": "QnQ0X1UoHran"
      },
      "source": [
        "## Understanding data types"
      ]
    },
    {
      "cell_type": "code",
      "execution_count": null,
      "metadata": {
        "collapsed": true,
        "id": "nv28K5DoHran"
      },
      "outputs": [],
      "source": [
        "movie = pd.read_csv('data/movie.csv')"
      ]
    },
    {
      "cell_type": "code",
      "execution_count": null,
      "metadata": {
        "id": "Uma-wr-BHran"
      },
      "outputs": [],
      "source": [
        "movie.dtypes"
      ]
    },
    {
      "cell_type": "code",
      "execution_count": null,
      "metadata": {
        "id": "z4FdWLusHran"
      },
      "outputs": [],
      "source": [
        "movie.dtypes.value_counts()"
      ]
    },
    {
      "cell_type": "markdown",
      "metadata": {
        "id": "lIWJVvWxHran"
      },
      "source": [
        "## Selecting a single column of data as a Series"
      ]
    },
    {
      "cell_type": "code",
      "execution_count": null,
      "metadata": {
        "collapsed": true,
        "id": "49PFfavnHran"
      },
      "outputs": [],
      "source": [
        "movie = pd.read_csv('data/movie.csv')"
      ]
    },
    {
      "cell_type": "code",
      "source": [
        "movie"
      ],
      "metadata": {
        "id": "ECt1tRsFgrwz"
      },
      "execution_count": null,
      "outputs": []
    },
    {
      "cell_type": "code",
      "execution_count": null,
      "metadata": {
        "id": "wJ2fd3QVHrao"
      },
      "outputs": [],
      "source": [
        "movie['director_name']"
      ]
    },
    {
      "cell_type": "code",
      "execution_count": null,
      "metadata": {
        "id": "UNTPYtNdHrao"
      },
      "outputs": [],
      "source": [
        "movie.director_name"
      ]
    },
    {
      "cell_type": "code",
      "source": [
        "type(movie)"
      ],
      "metadata": {
        "id": "6lKu8OHRg_yy"
      },
      "execution_count": null,
      "outputs": []
    },
    {
      "cell_type": "code",
      "execution_count": null,
      "metadata": {
        "id": "bxKe0MngHrao"
      },
      "outputs": [],
      "source": [
        "type(movie['director_name'])"
      ]
    },
    {
      "cell_type": "markdown",
      "metadata": {
        "id": "GeZOyCNOHrao"
      },
      "source": [
        "### There's more"
      ]
    },
    {
      "cell_type": "code",
      "execution_count": null,
      "metadata": {
        "id": "eKl-FckeHrao"
      },
      "outputs": [],
      "source": [
        "director = movie['director_name']\n",
        "director.name"
      ]
    },
    {
      "cell_type": "code",
      "execution_count": null,
      "metadata": {
        "id": "vvggvL66Hrao"
      },
      "outputs": [],
      "source": [
        "type(director.to_frame())"
      ]
    },
    {
      "cell_type": "markdown",
      "metadata": {
        "id": "aZaQ5RubHrao"
      },
      "source": [
        "## Calling Series methods"
      ]
    },
    {
      "cell_type": "markdown",
      "metadata": {
        "id": "YVku7ZGbHrap"
      },
      "source": [
        "### Getting ready..."
      ]
    },
    {
      "cell_type": "code",
      "execution_count": null,
      "metadata": {
        "id": "uuguTVoCHrap"
      },
      "outputs": [],
      "source": [
        "s_attr_methods = set(dir(pd.Series))\n",
        "len(s_attr_methods)"
      ]
    },
    {
      "cell_type": "code",
      "execution_count": null,
      "metadata": {
        "id": "HH9U_li6Hrap"
      },
      "outputs": [],
      "source": [
        "df_attr_methods = set(dir(pd.DataFrame))\n",
        "len(df_attr_methods)"
      ]
    },
    {
      "cell_type": "code",
      "execution_count": null,
      "metadata": {
        "id": "Agaueu2_Hrap"
      },
      "outputs": [],
      "source": [
        "len(s_attr_methods & df_attr_methods)"
      ]
    },
    {
      "cell_type": "markdown",
      "metadata": {
        "id": "pl0XlnTEHraq"
      },
      "source": [
        "### How to do it..."
      ]
    },
    {
      "cell_type": "code",
      "source": [
        "movie"
      ],
      "metadata": {
        "id": "4FX_EMeyiHu5"
      },
      "execution_count": null,
      "outputs": []
    },
    {
      "cell_type": "code",
      "execution_count": null,
      "metadata": {
        "collapsed": true,
        "id": "pcyjiMy7Hraq"
      },
      "outputs": [],
      "source": [
        "movie = pd.read_csv('data/movie.csv')\n",
        "director = movie['director_name']\n",
        "actor_1_fb_likes = movie['actor_1_facebook_likes']"
      ]
    },
    {
      "cell_type": "code",
      "execution_count": null,
      "metadata": {
        "id": "YgF5QSc3Hraq"
      },
      "outputs": [],
      "source": [
        "director.head()"
      ]
    },
    {
      "cell_type": "code",
      "execution_count": null,
      "metadata": {
        "id": "nMgqZ_ITHrar"
      },
      "outputs": [],
      "source": [
        "actor_1_fb_likes.head()"
      ]
    },
    {
      "cell_type": "code",
      "execution_count": null,
      "metadata": {
        "id": "EMP1sHgBHrar"
      },
      "outputs": [],
      "source": [
        "director.value_counts()"
      ]
    },
    {
      "cell_type": "code",
      "execution_count": null,
      "metadata": {
        "id": "GhqdmhEmHrar"
      },
      "outputs": [],
      "source": [
        "actor_1_fb_likes.value_counts()"
      ]
    },
    {
      "cell_type": "code",
      "execution_count": null,
      "metadata": {
        "id": "fWIE8qPhHrar"
      },
      "outputs": [],
      "source": [
        "director.size"
      ]
    },
    {
      "cell_type": "code",
      "source": [
        "movie.shape"
      ],
      "metadata": {
        "id": "NMVsCcsujZi5"
      },
      "execution_count": null,
      "outputs": []
    },
    {
      "cell_type": "code",
      "execution_count": null,
      "metadata": {
        "id": "0sDrjlZ2Hrar"
      },
      "outputs": [],
      "source": [
        "director.shape"
      ]
    },
    {
      "cell_type": "code",
      "execution_count": null,
      "metadata": {
        "id": "p1cnvz7tHrar"
      },
      "outputs": [],
      "source": [
        "len(director)"
      ]
    },
    {
      "cell_type": "code",
      "execution_count": null,
      "metadata": {
        "id": "CoOotZ-tHras"
      },
      "outputs": [],
      "source": [
        "director.count()"
      ]
    },
    {
      "cell_type": "code",
      "execution_count": null,
      "metadata": {
        "id": "ZocsOFSUHras"
      },
      "outputs": [],
      "source": [
        "actor_1_fb_likes.count()"
      ]
    },
    {
      "cell_type": "code",
      "execution_count": null,
      "metadata": {
        "id": "CIUrDLoVHras"
      },
      "outputs": [],
      "source": [
        "actor_1_fb_likes.quantile()"
      ]
    },
    {
      "cell_type": "code",
      "execution_count": null,
      "metadata": {
        "id": "VREgFNnRHras"
      },
      "outputs": [],
      "source": [
        "actor_1_fb_likes.min(), actor_1_fb_likes.max(), \\\n",
        "actor_1_fb_likes.mean(), actor_1_fb_likes.median(), \\\n",
        "actor_1_fb_likes.std(), actor_1_fb_likes.sum()"
      ]
    },
    {
      "cell_type": "code",
      "source": [
        "actor_1_fb_likes.shape"
      ],
      "metadata": {
        "id": "O76mT1BXl14l"
      },
      "execution_count": null,
      "outputs": []
    },
    {
      "cell_type": "code",
      "execution_count": null,
      "metadata": {
        "id": "7xfB9H1NHras"
      },
      "outputs": [],
      "source": [
        "actor_1_fb_likes.describe()"
      ]
    },
    {
      "cell_type": "code",
      "execution_count": null,
      "metadata": {
        "id": "yDQufiSpHras"
      },
      "outputs": [],
      "source": [
        "director.describe()"
      ]
    },
    {
      "cell_type": "code",
      "execution_count": null,
      "metadata": {
        "id": "Q5EQl6T1Hras"
      },
      "outputs": [],
      "source": [
        "actor_1_fb_likes.quantile(.2)"
      ]
    },
    {
      "cell_type": "code",
      "execution_count": null,
      "metadata": {
        "id": "l9FWEb9eHras"
      },
      "outputs": [],
      "source": [
        "actor_1_fb_likes.quantile([.1, .2, .3, .4, .5, .6, .7, .8, .9])"
      ]
    },
    {
      "cell_type": "code",
      "execution_count": null,
      "metadata": {
        "id": "hARWw4cqHras"
      },
      "outputs": [],
      "source": [
        "director.isnull()"
      ]
    },
    {
      "cell_type": "code",
      "source": [
        "actor_1_fb_likes.count()"
      ],
      "metadata": {
        "id": "f0EeIXctmxZu"
      },
      "execution_count": null,
      "outputs": []
    },
    {
      "cell_type": "code",
      "execution_count": null,
      "metadata": {
        "id": "Q_xr1baXHrat"
      },
      "outputs": [],
      "source": [
        "actor_1_fb_likes_filled = actor_1_fb_likes.fillna(0)\n",
        "actor_1_fb_likes_filled.count()"
      ]
    },
    {
      "cell_type": "code",
      "source": [
        "actor_1_fb_likes_filled.shape"
      ],
      "metadata": {
        "id": "RKL5T4m6nBei"
      },
      "execution_count": null,
      "outputs": []
    },
    {
      "cell_type": "code",
      "execution_count": null,
      "metadata": {
        "id": "oLJS7IZqHrat"
      },
      "outputs": [],
      "source": [
        "actor_1_fb_likes_dropped = actor_1_fb_likes.dropna()\n",
        "actor_1_fb_likes_dropped.size"
      ]
    },
    {
      "cell_type": "markdown",
      "metadata": {
        "id": "E6VuWMNFHrat"
      },
      "source": [
        "### There's more..."
      ]
    },
    {
      "cell_type": "code",
      "execution_count": null,
      "metadata": {
        "id": "glqXlDIMHrat"
      },
      "outputs": [],
      "source": [
        "director.value_counts(normalize=True)"
      ]
    },
    {
      "cell_type": "code",
      "source": [
        "director"
      ],
      "metadata": {
        "id": "2XkMFbDCn7AU"
      },
      "execution_count": null,
      "outputs": []
    },
    {
      "cell_type": "code",
      "execution_count": null,
      "metadata": {
        "id": "I08J7PSeHrat"
      },
      "outputs": [],
      "source": [
        "director.hasnans"
      ]
    },
    {
      "cell_type": "code",
      "execution_count": null,
      "metadata": {
        "id": "3GBlidDtHrat"
      },
      "outputs": [],
      "source": [
        "director.notnull()"
      ]
    },
    {
      "cell_type": "markdown",
      "metadata": {
        "id": "QCUoe3viHrat"
      },
      "source": [
        "## Working with operators on a Series"
      ]
    },
    {
      "cell_type": "markdown",
      "metadata": {
        "id": "JA1JLfOGHrau"
      },
      "source": [
        "### Getting ready..."
      ]
    },
    {
      "cell_type": "code",
      "execution_count": null,
      "metadata": {
        "id": "I1x3UbLEHrau"
      },
      "outputs": [],
      "source": [
        "movie = pd.read_csv('data/movie.csv')\n",
        "imdb_score = movie['imdb_score']\n",
        "imdb_score"
      ]
    },
    {
      "cell_type": "code",
      "execution_count": null,
      "metadata": {
        "id": "pKSq3BOwHrau"
      },
      "outputs": [],
      "source": [
        "imdb_score + 1"
      ]
    },
    {
      "cell_type": "code",
      "execution_count": null,
      "metadata": {
        "id": "IxYLjXVTHrau"
      },
      "outputs": [],
      "source": [
        "imdb_score * 2.5"
      ]
    },
    {
      "cell_type": "code",
      "execution_count": null,
      "metadata": {
        "id": "uQtB-WUeHrau"
      },
      "outputs": [],
      "source": [
        "imdb_score // 7"
      ]
    },
    {
      "cell_type": "code",
      "execution_count": null,
      "metadata": {
        "id": "mZFVRKkQHrau"
      },
      "outputs": [],
      "source": [
        "imdb_score > 7"
      ]
    },
    {
      "cell_type": "code",
      "execution_count": null,
      "metadata": {
        "collapsed": true,
        "id": "2DaDH4kUHrau"
      },
      "outputs": [],
      "source": [
        "director = movie['director_name']"
      ]
    },
    {
      "cell_type": "code",
      "source": [
        "director"
      ],
      "metadata": {
        "id": "t2OTGIF5xgs8"
      },
      "execution_count": null,
      "outputs": []
    },
    {
      "cell_type": "code",
      "execution_count": null,
      "metadata": {
        "id": "5_W5kyC4Hrau"
      },
      "outputs": [],
      "source": [
        "director == 'James Cameron'"
      ]
    },
    {
      "cell_type": "markdown",
      "metadata": {
        "id": "c4ylsLQnHrav"
      },
      "source": [
        "### There's more..."
      ]
    },
    {
      "cell_type": "code",
      "execution_count": null,
      "metadata": {
        "id": "Y9-KBU0cHrav"
      },
      "outputs": [],
      "source": [
        "imdb_score.add(1)              # imdb_score + 1"
      ]
    },
    {
      "cell_type": "code",
      "execution_count": null,
      "metadata": {
        "id": "9AAYTtcMHrav"
      },
      "outputs": [],
      "source": [
        "imdb_score.mul(2.5)            # imdb_score * 2.5"
      ]
    },
    {
      "cell_type": "code",
      "execution_count": null,
      "metadata": {
        "id": "rOBhwC5MHrav"
      },
      "outputs": [],
      "source": [
        "imdb_score.floordiv(7)         # imdb_score // 7"
      ]
    },
    {
      "cell_type": "code",
      "execution_count": null,
      "metadata": {
        "id": "7ZWazVAJHrav"
      },
      "outputs": [],
      "source": [
        "imdb_score.gt(7)               # imdb_score > 7"
      ]
    },
    {
      "cell_type": "code",
      "execution_count": null,
      "metadata": {
        "id": "gSL4CQMiHrav"
      },
      "outputs": [],
      "source": [
        "director.eq('James Cameron')   # director == 'James Cameron'"
      ]
    },
    {
      "cell_type": "code",
      "execution_count": null,
      "metadata": {
        "id": "4hfu03Z7Hrav"
      },
      "outputs": [],
      "source": [
        "imdb_score.astype(int).mod(5)"
      ]
    },
    {
      "cell_type": "markdown",
      "metadata": {
        "id": "b0Ju9nyyHrav"
      },
      "source": [
        "## Chaining Series methods together"
      ]
    },
    {
      "cell_type": "code",
      "execution_count": null,
      "metadata": {
        "collapsed": true,
        "id": "KiEDs-2JHrav"
      },
      "outputs": [],
      "source": [
        "movie = pd.read_csv('data/movie.csv')\n",
        "actor_1_fb_likes = movie['actor_1_facebook_likes']\n",
        "director = movie['director_name']"
      ]
    },
    {
      "cell_type": "code",
      "source": [
        "director.value_counts().value_counts()"
      ],
      "metadata": {
        "id": "UDtHvoooyM0s"
      },
      "execution_count": null,
      "outputs": []
    },
    {
      "cell_type": "code",
      "execution_count": null,
      "metadata": {
        "id": "jaQGJ8m5Hrav"
      },
      "outputs": [],
      "source": [
        "director.value_counts().head(3)"
      ]
    },
    {
      "cell_type": "code",
      "execution_count": null,
      "metadata": {
        "id": "BgBUsxfLHrav"
      },
      "outputs": [],
      "source": [
        "actor_1_fb_likes.isnull().value_counts()"
      ]
    },
    {
      "cell_type": "code",
      "execution_count": null,
      "metadata": {
        "id": "3q99P-_pHraw"
      },
      "outputs": [],
      "source": [
        "actor_1_fb_likes.dtype"
      ]
    },
    {
      "cell_type": "code",
      "execution_count": null,
      "metadata": {
        "id": "grFHDJp3Hraw"
      },
      "outputs": [],
      "source": [
        "actor_1_fb_likes.fillna(0)\\\n",
        "                .astype(int)\\\n",
        "                .head()"
      ]
    },
    {
      "cell_type": "code",
      "execution_count": null,
      "metadata": {
        "id": "PSKFKmQNHraw"
      },
      "outputs": [],
      "source": [
        "actor_1_fb_likes.isnull().mean()"
      ]
    },
    {
      "cell_type": "markdown",
      "metadata": {
        "id": "cPyYt159Hraw"
      },
      "source": [
        "## Making the index meaningful"
      ]
    },
    {
      "cell_type": "code",
      "execution_count": null,
      "metadata": {
        "collapsed": true,
        "id": "p2_XPVdlHraw"
      },
      "outputs": [],
      "source": [
        "movie = pd.read_csv('data/movie.csv')"
      ]
    },
    {
      "cell_type": "code",
      "source": [
        "movie"
      ],
      "metadata": {
        "id": "gI01PzczzH7f"
      },
      "execution_count": null,
      "outputs": []
    },
    {
      "cell_type": "code",
      "execution_count": null,
      "metadata": {
        "id": "x07QwvK7Hraw"
      },
      "outputs": [],
      "source": [
        "movie.shape"
      ]
    },
    {
      "cell_type": "code",
      "execution_count": null,
      "metadata": {
        "id": "6P0c2_DwHraw"
      },
      "outputs": [],
      "source": [
        "movie2 = movie.set_index('movie_title')\n",
        "movie2"
      ]
    },
    {
      "cell_type": "code",
      "source": [
        "pd.read_csv('data/movie.csv').set_index('movie_title')"
      ],
      "metadata": {
        "id": "v123wSO8zcN4"
      },
      "execution_count": null,
      "outputs": []
    },
    {
      "cell_type": "code",
      "execution_count": null,
      "metadata": {
        "scrolled": true,
        "id": "Os9D9MbVHraw"
      },
      "outputs": [],
      "source": [
        "pd.read_csv('data/movie.csv', index_col='movie_title')"
      ]
    },
    {
      "cell_type": "code",
      "execution_count": null,
      "metadata": {
        "id": "eCHv79esHraw"
      },
      "outputs": [],
      "source": [
        "movie2.reset_index(drop=True)"
      ]
    },
    {
      "cell_type": "markdown",
      "metadata": {
        "id": "C2ZGxG2YHraw"
      },
      "source": [
        "# Renaming row and column names"
      ]
    },
    {
      "cell_type": "code",
      "execution_count": null,
      "metadata": {
        "collapsed": true,
        "id": "1q-QR677Hraw"
      },
      "outputs": [],
      "source": [
        "movie = pd.read_csv('data/movie.csv', index_col='movie_title')"
      ]
    },
    {
      "cell_type": "code",
      "execution_count": null,
      "metadata": {
        "collapsed": true,
        "id": "WI2NxNoGHrax"
      },
      "outputs": [],
      "source": [
        "idx_rename = {'Avatar':'Ratava', 'Spectre': 'Ertceps'}\n",
        "col_rename = {'director_name':'Director Name',\n",
        "              'num_critic_for_reviews': 'Critical Reviews'}"
      ]
    },
    {
      "cell_type": "code",
      "execution_count": null,
      "metadata": {
        "id": "o10rzNRpHrax"
      },
      "outputs": [],
      "source": [
        "movie.rename(index=idx_rename,\n",
        "             columns=col_rename,\n",
        "             ).head()"
      ]
    },
    {
      "cell_type": "code",
      "source": [
        "movie = pd.read_csv('data/movie.csv', index_col='movie_title')\n",
        "index = movie.index\n",
        "columns = movie.columns"
      ],
      "metadata": {
        "id": "0uyFmNjh0NtR"
      },
      "execution_count": null,
      "outputs": []
    },
    {
      "cell_type": "code",
      "source": [
        "index.tolist()"
      ],
      "metadata": {
        "id": "33fX3TST0PHr"
      },
      "execution_count": null,
      "outputs": []
    },
    {
      "cell_type": "code",
      "source": [
        "columns"
      ],
      "metadata": {
        "id": "PlXzRmxU0Sa3"
      },
      "execution_count": null,
      "outputs": []
    },
    {
      "cell_type": "code",
      "source": [
        "index_list = index.tolist()\n",
        "column_list = columns.tolist()"
      ],
      "metadata": {
        "id": "5o6FAGXR0fkl"
      },
      "execution_count": null,
      "outputs": []
    },
    {
      "cell_type": "code",
      "source": [
        "index_list"
      ],
      "metadata": {
        "collapsed": true,
        "id": "E4NhcbWA0jt8"
      },
      "execution_count": null,
      "outputs": []
    },
    {
      "cell_type": "code",
      "execution_count": null,
      "metadata": {
        "collapsed": true,
        "id": "pmlEfOgZHrax"
      },
      "outputs": [],
      "source": [
        "index_list[0] = 'Ratava'\n",
        "index_list[2] = 'Ertceps'\n",
        "column_list[1] = 'Director Name'\n",
        "column_list[2] = 'Critical Reviews'"
      ]
    },
    {
      "cell_type": "code",
      "source": [
        "movie.index = index_list"
      ],
      "metadata": {
        "id": "CwffuWEZ0vup"
      },
      "execution_count": null,
      "outputs": []
    },
    {
      "cell_type": "code",
      "execution_count": null,
      "metadata": {
        "id": "4-DVvPfUHrax"
      },
      "outputs": [],
      "source": [
        "print(index_list[:5])"
      ]
    },
    {
      "cell_type": "code",
      "execution_count": null,
      "metadata": {
        "id": "QCoGXCQWHrax"
      },
      "outputs": [],
      "source": [
        "print(column_list)"
      ]
    },
    {
      "cell_type": "code",
      "execution_count": null,
      "metadata": {
        "collapsed": true,
        "id": "Y1gZEHxKHrax"
      },
      "outputs": [],
      "source": [
        "movie.index = index_list\n",
        "movie.columns = column_list"
      ]
    },
    {
      "cell_type": "code",
      "execution_count": null,
      "metadata": {
        "id": "AOZ05lSiHrax"
      },
      "outputs": [],
      "source": [
        "movie.head()"
      ]
    },
    {
      "cell_type": "markdown",
      "metadata": {
        "id": "VeZxqMlVHrax"
      },
      "source": [
        "# Creating and deleting columns"
      ]
    },
    {
      "cell_type": "code",
      "execution_count": null,
      "metadata": {
        "collapsed": true,
        "id": "can64jjLHrax"
      },
      "outputs": [],
      "source": [
        "movie = pd.read_csv('data/movie.csv')"
      ]
    },
    {
      "cell_type": "code",
      "execution_count": null,
      "metadata": {
        "collapsed": true,
        "id": "XeU5KhHvHrax"
      },
      "outputs": [],
      "source": [
        "movie['has_seen'] = 0"
      ]
    },
    {
      "cell_type": "code",
      "execution_count": null,
      "metadata": {
        "id": "zHH86rE0Hrax"
      },
      "outputs": [],
      "source": [
        "movie.has_seen"
      ]
    },
    {
      "cell_type": "code",
      "execution_count": null,
      "metadata": {
        "collapsed": true,
        "id": "IC0yc5HVHrax"
      },
      "outputs": [],
      "source": [
        "movie['actor_director_facebook_likes'] = (movie['actor_1_facebook_likes'] +\n",
        "                                          movie['actor_2_facebook_likes'] +\n",
        "                                          movie['actor_3_facebook_likes'] +\n",
        "                                          movie['director_facebook_likes'])"
      ]
    },
    {
      "cell_type": "code",
      "execution_count": null,
      "metadata": {
        "id": "sM516V-_Hrax"
      },
      "outputs": [],
      "source": [
        "movie['actor_director_facebook_likes'].isnull().sum()"
      ]
    },
    {
      "cell_type": "code",
      "source": [
        "movie['actor_director_facebook_likes'].fillna(0)"
      ],
      "metadata": {
        "id": "NfocWxCd2BDY"
      },
      "execution_count": null,
      "outputs": []
    },
    {
      "cell_type": "code",
      "execution_count": null,
      "metadata": {
        "collapsed": true,
        "id": "7VOzHrBIHrax"
      },
      "outputs": [],
      "source": [
        "movie['actor_director_facebook_likes'] = movie['actor_director_facebook_likes'].fillna(0)"
      ]
    },
    {
      "cell_type": "code",
      "execution_count": null,
      "metadata": {
        "collapsed": true,
        "id": "TFGOi3OcHray"
      },
      "outputs": [],
      "source": [
        "movie['is_cast_likes_more'] = (movie['cast_total_facebook_likes'] >=\n",
        "                                  movie['actor_director_facebook_likes'])"
      ]
    },
    {
      "cell_type": "code",
      "execution_count": null,
      "metadata": {
        "id": "0HQJn3rNHray"
      },
      "outputs": [],
      "source": [
        "movie['is_cast_likes_more'].any()"
      ]
    },
    {
      "cell_type": "code",
      "execution_count": null,
      "metadata": {
        "collapsed": true,
        "id": "srY8IvyvHray"
      },
      "outputs": [],
      "source": [
        "movie = movie.drop('actor_director_facebook_likes', axis='columns')"
      ]
    },
    {
      "cell_type": "code",
      "execution_count": null,
      "metadata": {
        "collapsed": true,
        "id": "lvtfLxiVHray"
      },
      "outputs": [],
      "source": [
        "movie['actor_total_facebook_likes'] = (movie['actor_1_facebook_likes'] +\n",
        "                                       movie['actor_2_facebook_likes'] +\n",
        "                                       movie['actor_3_facebook_likes'])\n",
        "\n",
        "movie['actor_total_facebook_likes'] = movie['actor_total_facebook_likes'].fillna(0)"
      ]
    },
    {
      "cell_type": "code",
      "execution_count": null,
      "metadata": {
        "id": "-ZOlB9CYHray"
      },
      "outputs": [],
      "source": [
        "movie['is_cast_likes_more'] = movie['cast_total_facebook_likes'] >= \\\n",
        "                                  movie['actor_total_facebook_likes']\n",
        "\n",
        "movie['is_cast_likes_more'].all()"
      ]
    },
    {
      "cell_type": "code",
      "execution_count": null,
      "metadata": {
        "collapsed": true,
        "id": "rQMsuOREHray"
      },
      "outputs": [],
      "source": [
        "movie['pct_actor_cast_like'] = (movie['actor_total_facebook_likes'] /\n",
        "                                movie['cast_total_facebook_likes'])"
      ]
    },
    {
      "cell_type": "code",
      "execution_count": null,
      "metadata": {
        "id": "QkULpPFbHray"
      },
      "outputs": [],
      "source": [
        "movie['pct_actor_cast_like'].min(), movie['pct_actor_cast_like'].max()"
      ]
    },
    {
      "cell_type": "code",
      "execution_count": null,
      "metadata": {
        "id": "hXz3syEjHray"
      },
      "outputs": [],
      "source": [
        "movie.set_index('movie_title')['pct_actor_cast_like'].head()"
      ]
    },
    {
      "cell_type": "code",
      "execution_count": null,
      "metadata": {
        "id": "mFHxP5PtHray"
      },
      "outputs": [],
      "source": [
        "profit_index = movie.columns.get_loc('gross') + 1\n",
        "profit_index"
      ]
    },
    {
      "cell_type": "code",
      "execution_count": null,
      "metadata": {
        "collapsed": true,
        "id": "INeMxIZCHray"
      },
      "outputs": [],
      "source": [
        "movie.insert(loc=profit_index,\n",
        "                 column='profit',\n",
        "                 value=movie['gross'] - movie['budget'])"
      ]
    },
    {
      "cell_type": "code",
      "execution_count": null,
      "metadata": {
        "id": "YnkIsUqOHray"
      },
      "outputs": [],
      "source": [
        "movie.head()"
      ]
    },
    {
      "cell_type": "markdown",
      "metadata": {
        "id": "cMqucXluP7kc"
      },
      "source": [
        "## Selecting Series data"
      ]
    },
    {
      "cell_type": "code",
      "execution_count": null,
      "metadata": {
        "id": "Nj5T-3nhP7kh"
      },
      "outputs": [],
      "source": [
        "college = pd.read_csv('data/college.csv', index_col='INSTNM')\n",
        "city = college['CITY']\n",
        "city.head()"
      ]
    },
    {
      "cell_type": "code",
      "execution_count": null,
      "metadata": {
        "id": "w0BsITvpP7kl"
      },
      "outputs": [],
      "source": [
        "city.iloc[3]"
      ]
    },
    {
      "cell_type": "code",
      "execution_count": null,
      "metadata": {
        "id": "molawFHOP7kl"
      },
      "outputs": [],
      "source": [
        "city.iloc[[10,20,30]]"
      ]
    },
    {
      "cell_type": "code",
      "execution_count": null,
      "metadata": {
        "id": "2rcsz1kUP7kn"
      },
      "outputs": [],
      "source": [
        "city.iloc[4:50:10]"
      ]
    },
    {
      "cell_type": "code",
      "source": [
        "city"
      ],
      "metadata": {
        "id": "-RCiIrHI33jR"
      },
      "execution_count": null,
      "outputs": []
    },
    {
      "cell_type": "code",
      "execution_count": null,
      "metadata": {
        "id": "CT5q9YcnP7kn"
      },
      "outputs": [],
      "source": [
        "city.loc['Heritage Christian University']"
      ]
    },
    {
      "cell_type": "code",
      "source": [
        "np.random.choice(city.index, 4)"
      ],
      "metadata": {
        "id": "SdklIPDM4T2f"
      },
      "execution_count": null,
      "outputs": []
    },
    {
      "cell_type": "code",
      "execution_count": null,
      "metadata": {
        "id": "bMA_5VEiP7ko"
      },
      "outputs": [],
      "source": [
        "labels = list(np.random.choice(city.index, 4))\n",
        "labels"
      ]
    },
    {
      "cell_type": "code",
      "execution_count": null,
      "metadata": {
        "id": "URPQQLnHP7ko"
      },
      "outputs": [],
      "source": [
        "city.loc[labels]"
      ]
    },
    {
      "cell_type": "code",
      "execution_count": null,
      "metadata": {
        "id": "48CNPKhLP7ku"
      },
      "outputs": [],
      "source": [
        "city.loc['Alabama State University':'Reid State Technical College':10]"
      ]
    },
    {
      "cell_type": "code",
      "execution_count": null,
      "metadata": {
        "id": "1nShKsmBP7kv"
      },
      "outputs": [],
      "source": [
        "city['Alabama State University':'Reid State Technical College':10]"
      ]
    },
    {
      "cell_type": "code",
      "execution_count": null,
      "metadata": {
        "id": "N1H-Hg2nP7k1"
      },
      "outputs": [],
      "source": [
        "city.iloc[[3]]"
      ]
    },
    {
      "cell_type": "code",
      "execution_count": null,
      "metadata": {
        "id": "PvnIaYI3P7k2"
      },
      "outputs": [],
      "source": [
        "city.loc['Reid State Technical College':'Alabama State University':10]"
      ]
    },
    {
      "cell_type": "code",
      "execution_count": null,
      "metadata": {
        "id": "oq0jBZPtP7k3"
      },
      "outputs": [],
      "source": [
        "city.loc['Reid State Technical College':'Alabama State University':-10]"
      ]
    },
    {
      "cell_type": "markdown",
      "metadata": {
        "id": "HSHHaAlFP7k8"
      },
      "source": [
        "# Selecting DataFrame rows"
      ]
    },
    {
      "cell_type": "code",
      "execution_count": null,
      "metadata": {
        "id": "0DlggTUTP7k9"
      },
      "outputs": [],
      "source": [
        "college = pd.read_csv('data/college.csv', index_col='INSTNM')\n",
        "college.head()"
      ]
    },
    {
      "cell_type": "code",
      "execution_count": null,
      "metadata": {
        "collapsed": true,
        "id": "oBFOzd7NP7k9"
      },
      "outputs": [],
      "source": [
        "pd.options.display.max_rows = 6"
      ]
    },
    {
      "cell_type": "code",
      "execution_count": null,
      "metadata": {
        "id": "KUqE4DGFP7lD"
      },
      "outputs": [],
      "source": [
        "college.iloc[60]"
      ]
    },
    {
      "cell_type": "code",
      "execution_count": null,
      "metadata": {
        "id": "DRFh5p93P7lF"
      },
      "outputs": [],
      "source": [
        "college.loc['University of Alaska Anchorage']"
      ]
    },
    {
      "cell_type": "code",
      "execution_count": null,
      "metadata": {
        "id": "rfqlOeRfP7lF"
      },
      "outputs": [],
      "source": [
        "college.iloc[[60, 99, 3]]"
      ]
    },
    {
      "cell_type": "code",
      "execution_count": null,
      "metadata": {
        "id": "TV4kmuidP7lF"
      },
      "outputs": [],
      "source": [
        "labels = ['University of Alaska Anchorage',\n",
        "          'International Academy of Hair Design',\n",
        "          'University of Alabama in Huntsville']\n",
        "college.loc[labels]"
      ]
    },
    {
      "cell_type": "code",
      "execution_count": null,
      "metadata": {
        "id": "m_Z7oFJWP7lG"
      },
      "outputs": [],
      "source": [
        "college.iloc[99:102]"
      ]
    },
    {
      "cell_type": "code",
      "execution_count": null,
      "metadata": {
        "id": "X-SP50MJP7lH"
      },
      "outputs": [],
      "source": [
        "start = 'International Academy of Hair Design'\n",
        "stop = 'Mesa Community College'\n",
        "college.loc[start:stop]"
      ]
    },
    {
      "cell_type": "code",
      "execution_count": null,
      "metadata": {
        "id": "Q8FocvxYP7lH"
      },
      "outputs": [],
      "source": [
        "college.iloc[[60, 99, 3]].index.tolist()"
      ]
    },
    {
      "cell_type": "markdown",
      "metadata": {
        "id": "Qe67smh8P7lI"
      },
      "source": [
        "# Selecting DataFrame rows and columns simultaneously"
      ]
    },
    {
      "cell_type": "code",
      "execution_count": null,
      "metadata": {
        "id": "sE5-p5CeP7lM"
      },
      "outputs": [],
      "source": [
        "college = pd.read_csv('data/college.csv', index_col='INSTNM')\n",
        "college.iloc[:3, :4]"
      ]
    },
    {
      "cell_type": "code",
      "execution_count": null,
      "metadata": {
        "id": "pvWRdoZbP7lN"
      },
      "outputs": [],
      "source": [
        "college.loc[:'Amridge University', :'MENONLY']"
      ]
    },
    {
      "cell_type": "code",
      "execution_count": null,
      "metadata": {
        "id": "cwp2i3-yP7lN"
      },
      "outputs": [],
      "source": [
        "college.iloc[:, [4,6]].head()"
      ]
    },
    {
      "cell_type": "code",
      "execution_count": null,
      "metadata": {
        "id": "yKV8ZPEZP7lW"
      },
      "outputs": [],
      "source": [
        "college.loc[:, ['WOMENONLY', 'SATVRMID']]"
      ]
    },
    {
      "cell_type": "code",
      "execution_count": null,
      "metadata": {
        "id": "7rZw2Ct-P7lc"
      },
      "outputs": [],
      "source": [
        "college.iloc[[100, 200], [7, 15]]"
      ]
    },
    {
      "cell_type": "code",
      "execution_count": null,
      "metadata": {
        "id": "09qsvdSfP7ld"
      },
      "outputs": [],
      "source": [
        "rows = ['GateWay Community College', 'American Baptist Seminary of the West']\n",
        "columns = ['SATMTMID', 'UGDS_NHPI']\n",
        "college.loc[rows, columns]"
      ]
    },
    {
      "cell_type": "code",
      "execution_count": null,
      "metadata": {
        "id": "TnRJubdLP7lj"
      },
      "outputs": [],
      "source": [
        "college.iloc[5, -4]"
      ]
    },
    {
      "cell_type": "code",
      "execution_count": null,
      "metadata": {
        "id": "CNw7wKlHP7lk"
      },
      "outputs": [],
      "source": [
        "college.loc['The University of Alabama', 'PCTFLOAN']"
      ]
    },
    {
      "cell_type": "code",
      "execution_count": null,
      "metadata": {
        "id": "3nvSmuLZP7lr"
      },
      "outputs": [],
      "source": [
        "college.iloc[90:80:-2, 5]"
      ]
    },
    {
      "cell_type": "code",
      "execution_count": null,
      "metadata": {
        "id": "I50jrdGCP7lr"
      },
      "outputs": [],
      "source": [
        "start = 'Empire Beauty School-Flagstaff'\n",
        "stop = 'Arizona State University-Tempe'\n",
        "college.loc[start:stop:-2, 'RELAFFIL']"
      ]
    },
    {
      "cell_type": "markdown",
      "metadata": {
        "id": "67OlpMQzP7ls"
      },
      "source": [
        "# Selecting data with both integers and labels"
      ]
    },
    {
      "cell_type": "code",
      "execution_count": null,
      "metadata": {
        "collapsed": true,
        "id": "vzPTiiUDP7l4"
      },
      "outputs": [],
      "source": [
        "college = pd.read_csv('data/college.csv', index_col='INSTNM')"
      ]
    },
    {
      "cell_type": "code",
      "source": [
        "college.columns.get_loc('UGDS_WHITE')"
      ],
      "metadata": {
        "id": "un39ST6-7EcZ"
      },
      "execution_count": null,
      "outputs": []
    },
    {
      "cell_type": "code",
      "execution_count": null,
      "metadata": {
        "id": "o__-P5JBP7l4"
      },
      "outputs": [],
      "source": [
        "col_start = college.columns.get_loc('UGDS_WHITE')\n",
        "col_end = college.columns.get_loc('UGDS_UNKN') + 1\n",
        "col_start, col_end"
      ]
    },
    {
      "cell_type": "code",
      "execution_count": null,
      "metadata": {
        "id": "q-EkPVjQP7l8"
      },
      "outputs": [],
      "source": [
        "college.iloc[:5, col_start:col_end]"
      ]
    },
    {
      "cell_type": "code",
      "execution_count": null,
      "metadata": {
        "id": "9ecm5tg-P7mC"
      },
      "outputs": [],
      "source": [
        "row_start = college.index[10]\n",
        "row_end = college.index[15]\n",
        "print(row_start)\n",
        "college.loc[row_start:row_end, 'UGDS_WHITE':'UGDS_UNKN']"
      ]
    },
    {
      "cell_type": "markdown",
      "metadata": {
        "id": "XXms0GJgP7mk"
      },
      "source": [
        "# Slicing Lexicographically"
      ]
    },
    {
      "cell_type": "code",
      "execution_count": null,
      "metadata": {
        "id": "R8u9BXpzP7mo"
      },
      "outputs": [],
      "source": [
        "college = pd.read_csv('data/college.csv', index_col='INSTNM')"
      ]
    },
    {
      "cell_type": "code",
      "source": [
        "college.index"
      ],
      "metadata": {
        "id": "vlG5SImcpHnw"
      },
      "execution_count": null,
      "outputs": []
    },
    {
      "cell_type": "code",
      "source": [
        "college.loc['Sp':'Su']"
      ],
      "metadata": {
        "id": "SpnBBdYNpJAs"
      },
      "execution_count": null,
      "outputs": []
    },
    {
      "cell_type": "code",
      "source": [
        "college.index.is_monotonic_increasing"
      ],
      "metadata": {
        "id": "ETT4O8rHoSbU"
      },
      "execution_count": null,
      "outputs": []
    },
    {
      "cell_type": "code",
      "execution_count": null,
      "metadata": {
        "collapsed": true,
        "id": "4A_ojWR1P7mp"
      },
      "outputs": [],
      "source": [
        "college = college.sort_index()"
      ]
    },
    {
      "cell_type": "code",
      "source": [
        "college.index"
      ],
      "metadata": {
        "id": "k5-ZVfLhoYao"
      },
      "execution_count": null,
      "outputs": []
    },
    {
      "cell_type": "code",
      "source": [
        "college.index.is_monotonic_increasing"
      ],
      "metadata": {
        "id": "OeTXNA8rpNaX"
      },
      "execution_count": null,
      "outputs": []
    },
    {
      "cell_type": "code",
      "execution_count": null,
      "metadata": {
        "id": "rhOB2Jx8P7mq"
      },
      "outputs": [],
      "source": [
        "college.loc['Sp':'Su']"
      ]
    },
    {
      "cell_type": "code",
      "execution_count": null,
      "metadata": {
        "id": "xa0sFQ8gP7mq"
      },
      "outputs": [],
      "source": [
        "college = college.sort_index(ascending=False)\n",
        "college.index.is_monotonic_decreasing"
      ]
    },
    {
      "cell_type": "code",
      "execution_count": null,
      "metadata": {
        "id": "Ppk-vvORP7mq"
      },
      "outputs": [],
      "source": [
        "college.loc['E':'B']"
      ]
    },
    {
      "cell_type": "markdown",
      "source": [
        "## Indices"
      ],
      "metadata": {
        "id": "PBhOorc1SR8q"
      }
    },
    {
      "cell_type": "markdown",
      "metadata": {
        "id": "n2POtGvQP-8X"
      },
      "source": [
        "## Examining the index"
      ]
    },
    {
      "cell_type": "code",
      "execution_count": null,
      "metadata": {
        "id": "ayktC04BP-8X"
      },
      "outputs": [],
      "source": [
        "college = pd.read_csv('data/college.csv')\n",
        "columns = college.columns\n",
        "columns"
      ]
    },
    {
      "cell_type": "code",
      "execution_count": null,
      "metadata": {
        "id": "0GRzHFRKP-8Y"
      },
      "outputs": [],
      "source": [
        "columns.values"
      ]
    },
    {
      "cell_type": "code",
      "execution_count": null,
      "metadata": {
        "id": "pd8ksgaMP-8Y"
      },
      "outputs": [],
      "source": [
        "columns[5]"
      ]
    },
    {
      "cell_type": "code",
      "execution_count": null,
      "metadata": {
        "id": "2e_nr5dpP-8Y"
      },
      "outputs": [],
      "source": [
        "columns[[1,8,10]]"
      ]
    },
    {
      "cell_type": "code",
      "execution_count": null,
      "metadata": {
        "id": "iD7pBkkuP-8Y"
      },
      "outputs": [],
      "source": [
        "columns[-7:-4]"
      ]
    },
    {
      "cell_type": "code",
      "execution_count": null,
      "metadata": {
        "id": "hIr04bxQP-8Y"
      },
      "outputs": [],
      "source": [
        "columns.min(), columns.max(), columns.isnull().sum()"
      ]
    },
    {
      "cell_type": "code",
      "execution_count": null,
      "metadata": {
        "id": "t9MYyD0VP-8Z"
      },
      "outputs": [],
      "source": [
        "columns + '_A'"
      ]
    },
    {
      "cell_type": "code",
      "execution_count": null,
      "metadata": {
        "id": "f-sF-wi3P-8Z"
      },
      "outputs": [],
      "source": [
        "columns > 'G'"
      ]
    },
    {
      "cell_type": "code",
      "execution_count": null,
      "metadata": {
        "id": "6DsVieOdP-8Z"
      },
      "outputs": [],
      "source": [
        "columns[1] = 'city'"
      ]
    },
    {
      "cell_type": "code",
      "execution_count": null,
      "metadata": {
        "id": "A0OVehwYP-8Z"
      },
      "outputs": [],
      "source": [
        "c1 = columns[:4]\n",
        "c1"
      ]
    },
    {
      "cell_type": "code",
      "execution_count": null,
      "metadata": {
        "id": "bilKxpMOP-8Z"
      },
      "outputs": [],
      "source": [
        "c2 = columns[2:5]\n",
        "c2"
      ]
    },
    {
      "cell_type": "code",
      "execution_count": null,
      "metadata": {
        "id": "cpH82IZ9P-8Z"
      },
      "outputs": [],
      "source": [
        "c1.union(c2)"
      ]
    },
    {
      "cell_type": "code",
      "execution_count": null,
      "metadata": {
        "id": "-4mVXOivP-8a"
      },
      "outputs": [],
      "source": [
        "c1.symmetric_difference(c2)"
      ]
    },
    {
      "cell_type": "markdown",
      "metadata": {
        "id": "73KjmN0uP-8a"
      },
      "source": [
        "## Producing Cartesian products"
      ]
    },
    {
      "cell_type": "code",
      "execution_count": null,
      "metadata": {
        "id": "u-bLs62YP-8a"
      },
      "outputs": [],
      "source": [
        "s1 = pd.Series(index=list('aaab'), data=np.arange(4))\n",
        "s1"
      ]
    },
    {
      "cell_type": "code",
      "execution_count": null,
      "metadata": {
        "id": "DBXQqwSQP-8a"
      },
      "outputs": [],
      "source": [
        "s2 = pd.Series(index=list('cababb'), data=np.arange(6))\n",
        "s2"
      ]
    },
    {
      "cell_type": "code",
      "execution_count": null,
      "metadata": {
        "id": "90MIns7iP-8a"
      },
      "outputs": [],
      "source": [
        "s1 + s2"
      ]
    },
    {
      "cell_type": "code",
      "source": [
        "(s1 + s2).index"
      ],
      "metadata": {
        "id": "dW8BBrjaS1Kg"
      },
      "execution_count": null,
      "outputs": []
    },
    {
      "cell_type": "code",
      "execution_count": null,
      "metadata": {
        "id": "WUD3h8VVP-8a"
      },
      "outputs": [],
      "source": [
        "s1 = pd.Series(index=list('aaabb'), data=np.arange(5))\n",
        "s2 = pd.Series(index=list('aaabb'), data=np.arange(5))\n",
        "s1 + s2"
      ]
    },
    {
      "cell_type": "code",
      "execution_count": null,
      "metadata": {
        "id": "kXm0o2nDP-8a"
      },
      "outputs": [],
      "source": [
        "s1 = pd.Series(index=list('aaabb'), data=np.arange(5))\n",
        "s2 = pd.Series(index=list('bbaaa'), data=np.arange(5))\n",
        "s1 + s2"
      ]
    },
    {
      "cell_type": "markdown",
      "metadata": {
        "id": "jNBd1gpWP-8b"
      },
      "source": [
        "## Exploding Indexes"
      ]
    },
    {
      "cell_type": "code",
      "execution_count": null,
      "metadata": {
        "id": "4usEVkkKP-8b"
      },
      "outputs": [],
      "source": [
        "employee = pd.read_csv('data/employee.csv', index_col='RACE')\n",
        "employee.head()"
      ]
    },
    {
      "cell_type": "code",
      "execution_count": null,
      "metadata": {
        "id": "lST-tWo7P-8b"
      },
      "outputs": [],
      "source": [
        "salary1 = employee['BASE_SALARY']\n",
        "salary2 = employee['BASE_SALARY']\n",
        "salary1 is salary2"
      ]
    },
    {
      "cell_type": "code",
      "execution_count": null,
      "metadata": {
        "id": "ck_R2ZCsP-8b"
      },
      "outputs": [],
      "source": [
        "salary1 = employee['BASE_SALARY'].copy()\n",
        "salary2 = employee['BASE_SALARY'].copy()\n",
        "salary1 is salary2"
      ]
    },
    {
      "cell_type": "code",
      "source": [
        "salary1.shape"
      ],
      "metadata": {
        "id": "bpoTQrQZTVJ9"
      },
      "execution_count": null,
      "outputs": []
    },
    {
      "cell_type": "code",
      "execution_count": null,
      "metadata": {
        "id": "fb8OzQ9FP-8b"
      },
      "outputs": [],
      "source": [
        "salary1 = salary1.sort_index()\n",
        "salary1.head()"
      ]
    },
    {
      "cell_type": "code",
      "execution_count": null,
      "metadata": {
        "id": "wZSoGnZIP-8b"
      },
      "outputs": [],
      "source": [
        "salary2.head()"
      ]
    },
    {
      "cell_type": "code",
      "execution_count": null,
      "metadata": {
        "collapsed": true,
        "id": "UGjrlX5FP-8b"
      },
      "outputs": [],
      "source": [
        "salary_add = salary1 + salary2"
      ]
    },
    {
      "cell_type": "code",
      "execution_count": null,
      "metadata": {
        "id": "y3_GutPDP-8b"
      },
      "outputs": [],
      "source": [
        "salary_add.head()"
      ]
    },
    {
      "cell_type": "code",
      "source": [
        "salary_add.shape"
      ],
      "metadata": {
        "id": "sgsg6NwUTYsV"
      },
      "execution_count": null,
      "outputs": []
    },
    {
      "cell_type": "code",
      "execution_count": null,
      "metadata": {
        "id": "Sdycd793P-8c"
      },
      "outputs": [],
      "source": [
        "salary_add1 = salary1 + salary1\n",
        "len(salary1), len(salary2), len(salary_add), len(salary_add1)"
      ]
    },
    {
      "cell_type": "code",
      "execution_count": null,
      "metadata": {
        "id": "OyxZYtjtP-8c"
      },
      "outputs": [],
      "source": [
        "index_vc = salary1.index.value_counts(dropna=False)\n",
        "index_vc"
      ]
    },
    {
      "cell_type": "code",
      "execution_count": null,
      "metadata": {
        "id": "ywA1CZFJP-8c"
      },
      "outputs": [],
      "source": [
        "index_vc.pow(2).sum()"
      ]
    },
    {
      "cell_type": "markdown",
      "metadata": {
        "id": "5DkSztWwP-8c"
      },
      "source": [
        "## Filling values with unequal indexes"
      ]
    },
    {
      "cell_type": "code",
      "execution_count": null,
      "metadata": {
        "id": "prFB8sFXP-8d"
      },
      "outputs": [],
      "source": [
        "baseball_14 = pd.read_csv('data/baseball14.csv', index_col='playerID')\n",
        "baseball_15 = pd.read_csv('data/baseball15.csv', index_col='playerID')\n",
        "baseball_16 = pd.read_csv('data/baseball16.csv', index_col='playerID')\n",
        "baseball_14.head()"
      ]
    },
    {
      "cell_type": "code",
      "source": [
        "baseball_14.shape"
      ],
      "metadata": {
        "id": "BAC6yqniUCxX"
      },
      "execution_count": null,
      "outputs": []
    },
    {
      "cell_type": "code",
      "source": [
        "baseball_15.shape"
      ],
      "metadata": {
        "id": "n0TMM5cUUEIh"
      },
      "execution_count": null,
      "outputs": []
    },
    {
      "cell_type": "code",
      "source": [
        "baseball_14 + baseball_15"
      ],
      "metadata": {
        "id": "gF5F094_rbaf"
      },
      "execution_count": null,
      "outputs": []
    },
    {
      "cell_type": "code",
      "source": [
        "(baseball_14 + baseball_15).shape"
      ],
      "metadata": {
        "id": "lR9sAe9vUKfm"
      },
      "execution_count": null,
      "outputs": []
    },
    {
      "cell_type": "code",
      "execution_count": null,
      "metadata": {
        "id": "5aAQi57_P-8d"
      },
      "outputs": [],
      "source": [
        "baseball_14.index.difference(baseball_15.index)"
      ]
    },
    {
      "cell_type": "code",
      "execution_count": null,
      "metadata": {
        "id": "shb364ZJP-8d"
      },
      "outputs": [],
      "source": [
        "hits_14 = baseball_14['H']\n",
        "hits_15 = baseball_15['H']\n",
        "hits_16 = baseball_16['H']\n",
        "hits_14.head()"
      ]
    },
    {
      "cell_type": "code",
      "execution_count": null,
      "metadata": {
        "id": "LAreCQJ2P-8d"
      },
      "outputs": [],
      "source": [
        "(hits_14 + hits_15).head()"
      ]
    },
    {
      "cell_type": "code",
      "execution_count": null,
      "metadata": {
        "id": "q5wDjq2TP-8d"
      },
      "outputs": [],
      "source": [
        "hits_14.add(hits_15, fill_value=0).head()"
      ]
    },
    {
      "cell_type": "code",
      "execution_count": null,
      "metadata": {
        "id": "IDd7Z2TxP-8d"
      },
      "outputs": [],
      "source": [
        "hits_total = hits_14.add(hits_15, fill_value=0).add(hits_16, fill_value=0)\n",
        "hits_total.head()"
      ]
    },
    {
      "cell_type": "code",
      "execution_count": null,
      "metadata": {
        "id": "kSgJ5llSP-8e"
      },
      "outputs": [],
      "source": [
        "hits_total.hasnans"
      ]
    },
    {
      "cell_type": "code",
      "execution_count": null,
      "metadata": {
        "id": "IWlhJETUP-8e"
      },
      "outputs": [],
      "source": [
        "s1 = pd.Series(index=['a', 'b', 'c', 'd'], data=[np.nan, 3, np.nan, 1])\n",
        "s1"
      ]
    },
    {
      "cell_type": "code",
      "execution_count": null,
      "metadata": {
        "id": "LK4KwSI-P-8e"
      },
      "outputs": [],
      "source": [
        "s2 = pd.Series(index=['a', 'b', 'c'], data=[np.nan, 6, 10])\n",
        "s2"
      ]
    },
    {
      "cell_type": "code",
      "execution_count": null,
      "metadata": {
        "id": "WVaqvryLP-8e"
      },
      "outputs": [],
      "source": [
        "s1.add(s2, fill_value=5)"
      ]
    },
    {
      "cell_type": "code",
      "execution_count": null,
      "metadata": {
        "id": "wUDspK8LP-8e"
      },
      "outputs": [],
      "source": [
        "df_14 = baseball_14[['G','AB', 'R', 'H']]\n",
        "df_14.head()"
      ]
    },
    {
      "cell_type": "code",
      "execution_count": null,
      "metadata": {
        "id": "tcQOQZM5P-8e"
      },
      "outputs": [],
      "source": [
        "df_15 = baseball_15[['AB', 'R', 'H', 'HR']]\n",
        "df_15.head()"
      ]
    },
    {
      "cell_type": "code",
      "execution_count": null,
      "metadata": {
        "id": "ap3zUrxZP-8e"
      },
      "outputs": [],
      "source": [
        "(df_14 + df_15).head(10).style.highlight_null('yellow')"
      ]
    },
    {
      "cell_type": "code",
      "execution_count": null,
      "metadata": {
        "id": "0yDHvMtmP-8e"
      },
      "outputs": [],
      "source": [
        "df_14.add(df_15, fill_value=0).head(10).style.highlight_null('yellow')"
      ]
    }
  ]
}