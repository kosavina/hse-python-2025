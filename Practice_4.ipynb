{
  "nbformat": 4,
  "nbformat_minor": 0,
  "metadata": {
    "colab": {
      "provenance": []
    },
    "kernelspec": {
      "name": "python3",
      "display_name": "Python 3"
    },
    "language_info": {
      "name": "python"
    }
  },
  "cells": [
    {
      "cell_type": "markdown",
      "source": [
        "## Practice 4 (25 Oct 2025)\n",
        "\n",
        "[![Open In Colab](https://colab.research.google.com/assets/colab-badge.svg)](https://colab.research.google.com/github/kosavina/hse-python-2025/blob/main/Practice_4.ipynb)"
      ],
      "metadata": {
        "id": "GrAM4nmufGah"
      }
    },
    {
      "cell_type": "markdown",
      "source": [
        "1. Create a 3x3 identity matrix and then replace the diagonal elements with random integers between 1 and 10."
      ],
      "metadata": {
        "id": "6FGNfg1nfU2Q"
      }
    },
    {
      "cell_type": "code",
      "source": [],
      "metadata": {
        "id": "CZFZxYq0fgM0"
      },
      "execution_count": null,
      "outputs": []
    },
    {
      "cell_type": "markdown",
      "source": [
        "2. Given a 1D array of numbers from 1 to 20, reshape it into a 4x5 matrix and then extract the submatrix consisting of rows 1 to 3 and columns 2 to 4.\n",
        "\n"
      ],
      "metadata": {
        "id": "nHxp1KjIh4g2"
      }
    },
    {
      "cell_type": "code",
      "source": [],
      "metadata": {
        "id": "_99oHXHih5aZ"
      },
      "execution_count": null,
      "outputs": []
    },
    {
      "cell_type": "markdown",
      "source": [
        "3. Create two 2x3 matrices with random floats between 0 and 1, stack them vertically, and then compute the sum along the columns."
      ],
      "metadata": {
        "id": "vdwET2Xth5yE"
      }
    },
    {
      "cell_type": "code",
      "source": [],
      "metadata": {
        "id": "Yetz1F64h77i"
      },
      "execution_count": null,
      "outputs": []
    },
    {
      "cell_type": "markdown",
      "source": [
        "4. Generate a 5x5 matrix of random integers from 1 to 100, find the indices of the maximum value in each row, and replace those maximum values with 0."
      ],
      "metadata": {
        "id": "vcQLp63ph8OU"
      }
    },
    {
      "cell_type": "code",
      "source": [],
      "metadata": {
        "id": "BytTHkqGh-Lj"
      },
      "execution_count": null,
      "outputs": []
    },
    {
      "cell_type": "markdown",
      "source": [
        "5. Create a 1D array of 10 evenly spaced values between 0 and 1 using linspace, then compute the element-wise square root and sum the results."
      ],
      "metadata": {
        "id": "guZhGRKzh-gZ"
      }
    },
    {
      "cell_type": "code",
      "source": [],
      "metadata": {
        "id": "Y7anQGchiBHD"
      },
      "execution_count": null,
      "outputs": []
    },
    {
      "cell_type": "markdown",
      "source": [
        "6. Given a 3x3 matrix, use boolean indexing to select all elements greater than the matrix mean and replace them with the matrix median."
      ],
      "metadata": {
        "id": "DhQPCb1diBad"
      }
    },
    {
      "cell_type": "code",
      "source": [],
      "metadata": {
        "id": "4nyyp4wPiDmK"
      },
      "execution_count": null,
      "outputs": []
    },
    {
      "cell_type": "markdown",
      "source": [
        "7. Create two vectors of length 4 with random integers, compute their dot product, and then verify it by manual element-wise multiplication and summation."
      ],
      "metadata": {
        "id": "9xaO1t5_iD6w"
      }
    },
    {
      "cell_type": "code",
      "source": [],
      "metadata": {
        "id": "HlgCX9g_iF-i"
      },
      "execution_count": null,
      "outputs": []
    },
    {
      "cell_type": "markdown",
      "source": [
        "8. Generate a 4x4 matrix of zeros, set the border elements to 1 (like a frame), and then transpose it."
      ],
      "metadata": {
        "id": "5CWdgBnciJNS"
      }
    },
    {
      "cell_type": "code",
      "source": [],
      "metadata": {
        "id": "NMyXxkdKiLI-"
      },
      "execution_count": null,
      "outputs": []
    },
    {
      "cell_type": "markdown",
      "source": [
        "9. Using broadcasting, add a 1D array of shape (3,) to each row of a 3x3 matrix filled with sequential numbers from 1 to 9."
      ],
      "metadata": {
        "id": "JTrjpsMSiLby"
      }
    },
    {
      "cell_type": "code",
      "source": [],
      "metadata": {
        "id": "cDCf4AvviOag"
      },
      "execution_count": null,
      "outputs": []
    },
    {
      "cell_type": "markdown",
      "source": [
        "10. Create a 5x2 matrix with random floats, find the row with the highest sum, and set all elements in that row to the row's minimum value."
      ],
      "metadata": {
        "id": "fLOOqiTSiOqw"
      }
    },
    {
      "cell_type": "code",
      "source": [],
      "metadata": {
        "id": "gd7OONrUiRWN"
      },
      "execution_count": null,
      "outputs": []
    },
    {
      "cell_type": "markdown",
      "source": [
        "11. Generate an array of 100 random numbers between -1 and 1, use np.where to find indices where values are positive, and compute the mean of those positive values."
      ],
      "metadata": {
        "id": "CkY2emwaiRtR"
      }
    },
    {
      "cell_type": "code",
      "source": [],
      "metadata": {
        "id": "YYyJ2O9oiU7t"
      },
      "execution_count": null,
      "outputs": []
    },
    {
      "cell_type": "markdown",
      "source": [
        "12. Create two 2x2 matrices using np.matrix, perform matrix multiplication using the * operator, and compare with np.dot on np.array versions."
      ],
      "metadata": {
        "id": "1krXLKAGiVRm"
      }
    },
    {
      "cell_type": "code",
      "source": [],
      "metadata": {
        "id": "7rmWraznib1H"
      },
      "execution_count": null,
      "outputs": []
    },
    {
      "cell_type": "markdown",
      "source": [
        "13. Reshape a 1D array of numbers from 1 to 12 into a 3D array of shape (2, 2, 3), then squeeze it back to 2D and compute the sum along axis=0."
      ],
      "metadata": {
        "id": "M3d97hYBicOO"
      }
    },
    {
      "cell_type": "code",
      "source": [],
      "metadata": {
        "id": "GA0hSxmQiefv"
      },
      "execution_count": null,
      "outputs": []
    },
    {
      "cell_type": "markdown",
      "source": [
        "14. Create a 4x4 matrix with values from 1 to 16, use advanced indexing to select elements where row index equals column index plus 1, and set them to -1.\n",
        "\n"
      ],
      "metadata": {
        "id": "zG0uXcvqie4I"
      }
    },
    {
      "cell_type": "code",
      "source": [],
      "metadata": {
        "id": "D9ZvOdBmigtO"
      },
      "execution_count": null,
      "outputs": []
    },
    {
      "cell_type": "markdown",
      "source": [
        "15. Using arange, create an array from 0 to 99, reshape to 10x10, find argsort along rows, and use it to sort the matrix row-wise."
      ],
      "metadata": {
        "id": "K_yl2D4jig_m"
      }
    },
    {
      "cell_type": "code",
      "source": [],
      "metadata": {
        "id": "tAvQI16dijPi"
      },
      "execution_count": null,
      "outputs": []
    },
    {
      "cell_type": "markdown",
      "source": [
        "16. Create a 3x4 matrix of random integers, transpose it, then use broadcasting to subtract the column means from each element."
      ],
      "metadata": {
        "id": "fxfP3yd-ijjA"
      }
    },
    {
      "cell_type": "code",
      "source": [],
      "metadata": {
        "id": "9U4oiOMKilaR"
      },
      "execution_count": null,
      "outputs": []
    },
    {
      "cell_type": "markdown",
      "source": [
        "17. Generate two 1D arrays of length 5 with random values, stack them horizontally into a matrix, then compute the Euclidean norm of each row."
      ],
      "metadata": {
        "id": "wBSnC5IWil22"
      }
    },
    {
      "cell_type": "code",
      "source": [],
      "metadata": {
        "id": "IEqaGqSBir75"
      },
      "execution_count": null,
      "outputs": []
    },
    {
      "cell_type": "markdown",
      "source": [
        "18. Create a 6x6 checkerboard pattern matrix (alternating 0s and 1s) using broadcasting and slicing, then flip it upside down."
      ],
      "metadata": {
        "id": "dtOmPG0hisXM"
      }
    },
    {
      "cell_type": "code",
      "source": [],
      "metadata": {
        "id": "Dochzf2Oiuhr"
      },
      "execution_count": null,
      "outputs": []
    },
    {
      "cell_type": "markdown",
      "source": [
        "19. Using np.full, create a 5x5 matrix filled with 7, then use integer array indexing to set specific positions (e.g., [0,2], [1,3], [2,4], etc.) to their row indices."
      ],
      "metadata": {
        "id": "iVvqojzTiu6B"
      }
    },
    {
      "cell_type": "code",
      "source": [],
      "metadata": {
        "id": "-m7Ygp20iyU7"
      },
      "execution_count": null,
      "outputs": []
    },
    {
      "cell_type": "markdown",
      "source": [
        "20. Create a random 4x4 matrix, compute its inverse using np.linalg.inv (assuming invertible), then verify by multiplying back and checking if result is identity."
      ],
      "metadata": {
        "id": "6AwxqNIuiymR"
      }
    },
    {
      "cell_type": "code",
      "source": [],
      "metadata": {
        "id": "akaZZAayi2Jc"
      },
      "execution_count": null,
      "outputs": []
    }
  ]
}