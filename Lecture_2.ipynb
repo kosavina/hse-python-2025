{
  "nbformat": 4,
  "nbformat_minor": 0,
  "metadata": {
    "colab": {
      "provenance": [],
      "collapsed_sections": [
        "y5vouUVYKR3h"
      ]
    },
    "kernelspec": {
      "name": "python3",
      "display_name": "Python 3"
    },
    "language_info": {
      "name": "python"
    }
  },
  "cells": [
    {
      "cell_type": "markdown",
      "source": [
        "## Lecture 2 (11 Oct 2025)\n",
        "\n",
        "[![Open In Colab](https://colab.research.google.com/assets/colab-badge.svg)](https://colab.research.google.com/github/kosavina/hse-python-2025/blob/main/Lecture_2.ipynb)\n"
      ],
      "metadata": {
        "id": "qGVtVY_FVg1H"
      }
    },
    {
      "cell_type": "markdown",
      "source": [
        "# Functions"
      ],
      "metadata": {
        "id": "Ne7flr7BzLzD"
      }
    },
    {
      "cell_type": "markdown",
      "source": [
        "## What is a Function?\n",
        "\n",
        "A function is a block of organized, reusable code that is used to perform a single, related action. Functions provide better modularity for your application and a high degree of code reusing."
      ],
      "metadata": {
        "id": "lVH6OaxKzNhB"
      }
    },
    {
      "cell_type": "markdown",
      "source": [
        "## Why Use Functions?\n",
        "\n",
        "* Reusability: Write once, use multiple times.\n",
        "* Modularity: Break down complex problems into simpler pieces.\n",
        "* Readability: Makes code easier to understand."
      ],
      "metadata": {
        "id": "SAkRrHhRzWmD"
      }
    },
    {
      "cell_type": "markdown",
      "source": [
        "## Defining Functions\n",
        "In Python, you define a function using the def keyword."
      ],
      "metadata": {
        "id": "kAl_9kaezghh"
      }
    },
    {
      "cell_type": "markdown",
      "source": [
        "```python\n",
        "def function_name(parameters):\n",
        "    \"\"\"Docstring describing the function.\"\"\"\n",
        "    # Function body\n",
        "    return value\n",
        "```"
      ],
      "metadata": {
        "id": "PPZNttktzlg5"
      }
    },
    {
      "cell_type": "markdown",
      "source": [
        "* def: Keyword to start a function definition.\n",
        "* function_name: A unique name to identify the function.\n",
        "* parameters: Optional. Variables that you can pass to the function.\n",
        "* return: Optional. Returns a value from the function."
      ],
      "metadata": {
        "id": "bnokA4qKzqN0"
      }
    },
    {
      "cell_type": "code",
      "source": [
        "def greet():\n",
        "    \"\"\"This function greets the user.\"\"\"\n",
        "    print(\"Hello, welcome to Python functions!\")\n",
        "\n",
        "greet()"
      ],
      "metadata": {
        "id": "Ya64ff_jz0Cz"
      },
      "execution_count": null,
      "outputs": []
    },
    {
      "cell_type": "code",
      "source": [
        "help(greet)"
      ],
      "metadata": {
        "id": "hAJq5WM5z2L-"
      },
      "execution_count": null,
      "outputs": []
    },
    {
      "cell_type": "markdown",
      "source": [
        "## Function Parameters and Arguments\n",
        "\n",
        "Parameters are variables listed in the function’s definition. Arguments are the values you pass to the function’s parameters."
      ],
      "metadata": {
        "id": "-Oh7wa8lz9UE"
      }
    },
    {
      "cell_type": "markdown",
      "source": [
        "### Positional Arguments"
      ],
      "metadata": {
        "id": "H5E0vlXR0D9A"
      }
    },
    {
      "cell_type": "code",
      "source": [
        "def add(a, b):\n",
        "    return a + b\n",
        "\n",
        "result = add(5, 3)\n",
        "print(\"The sum is:\", result)"
      ],
      "metadata": {
        "id": "VPDc5z_i0HZ8"
      },
      "execution_count": null,
      "outputs": []
    },
    {
      "cell_type": "markdown",
      "source": [
        "### Keyword Arguments\n",
        "\n",
        "You can also pass arguments using the key=value syntax."
      ],
      "metadata": {
        "id": "x_948kBv0ME1"
      }
    },
    {
      "cell_type": "code",
      "source": [
        "def introduce(name, age):\n",
        "    print(f\"My name is {name} and I am {age} years old.\")\n",
        "\n",
        "introduce(age=25, name=\"Alice\")"
      ],
      "metadata": {
        "id": "QvYEImMo0RnW"
      },
      "execution_count": null,
      "outputs": []
    },
    {
      "cell_type": "markdown",
      "source": [
        "### Default Parameters\n",
        "\n",
        "You can assign default values to parameters."
      ],
      "metadata": {
        "id": "3GwAzC8l0WY_"
      }
    },
    {
      "cell_type": "code",
      "source": [
        "def greet(name=\"Guest\"):\n",
        "    print(f\"Hello, {name}!\")\n",
        "\n",
        "greet()\n"
      ],
      "metadata": {
        "id": "-fguzLE90T_t"
      },
      "execution_count": null,
      "outputs": []
    },
    {
      "cell_type": "code",
      "source": [
        "greet(\"Bob\")"
      ],
      "metadata": {
        "id": "q--m-65nQ4E0"
      },
      "execution_count": null,
      "outputs": []
    },
    {
      "cell_type": "markdown",
      "source": [
        "## Mixed parameters/arguments\n",
        "\n",
        "* Non-default parameters precede default parameters\n",
        "* Keyword arguments follow positional arguments"
      ],
      "metadata": {
        "id": "UIFpLRJg2jj5"
      }
    },
    {
      "cell_type": "code",
      "source": [
        "def add(a, b=5):\n",
        "  return a + b\n",
        "\n",
        "print(add(10))"
      ],
      "metadata": {
        "id": "m5SLXNtwRDLf"
      },
      "execution_count": null,
      "outputs": []
    },
    {
      "cell_type": "markdown",
      "source": [
        "### Return Statement\n",
        "\n",
        "The return statement is used to exit a function and go back to the place from where it was called."
      ],
      "metadata": {
        "id": "f4N9eBKp0dpL"
      }
    },
    {
      "cell_type": "code",
      "source": [
        "def square(number):\n",
        "    return number * number\n",
        "\n",
        "result = square(4)\n",
        "print(\"The square is:\", result)"
      ],
      "metadata": {
        "id": "4j-Kp4Hk0jbk"
      },
      "execution_count": null,
      "outputs": []
    },
    {
      "cell_type": "markdown",
      "source": [
        "## Variable Scope\n",
        "\n",
        "Scope refers to the visibility of variables. Variables defined inside a function are not visible from outside."
      ],
      "metadata": {
        "id": "z9WeS-oZ0nSi"
      }
    },
    {
      "cell_type": "markdown",
      "source": [
        "### Local Variables"
      ],
      "metadata": {
        "id": "K_IIju0s0sU1"
      }
    },
    {
      "cell_type": "code",
      "source": [
        "del x"
      ],
      "metadata": {
        "id": "KO2Fl2MlSAYx"
      },
      "execution_count": null,
      "outputs": []
    },
    {
      "cell_type": "code",
      "source": [
        "def func():\n",
        "    x = 10  # Local variable\n",
        "    print(\"Inside function:\", x)\n",
        "\n",
        "func()"
      ],
      "metadata": {
        "id": "BOfz_5fn0u-f"
      },
      "execution_count": null,
      "outputs": []
    },
    {
      "cell_type": "code",
      "source": [
        "print(x)"
      ],
      "metadata": {
        "id": "oFHFmCmdR59P"
      },
      "execution_count": null,
      "outputs": []
    },
    {
      "cell_type": "markdown",
      "source": [
        "### Global Variables"
      ],
      "metadata": {
        "id": "81XdZPYs0xT1"
      }
    },
    {
      "cell_type": "code",
      "source": [
        "x = 20  # Global variable\n",
        "\n",
        "def func():\n",
        "    global x\n",
        "    x = 10\n",
        "    print(\"Inside function:\", x)\n",
        "\n",
        "func()\n",
        "print(\"Outside function:\", x)"
      ],
      "metadata": {
        "id": "jlmuLt2n00XN"
      },
      "execution_count": null,
      "outputs": []
    },
    {
      "cell_type": "markdown",
      "source": [
        "### Nonlocal Variables\n",
        "\n",
        "1. **Scope Resolution:** Python has three main scopes: local (inside the current function), nonlocal (in an enclosing function's scope), and global (module-level scope). The nonlocal keyword targets the nearest enclosing scope that is not global.\n",
        "2. **Purpose:** It enables a nested function to modify a variable in its enclosing function's scope, rather than creating a new local variable or relying on global variables.\n",
        "3. **Syntax:** The nonlocal keyword is followed by the name of the variable(s) to be modified.\n",
        "4. **Restriction:** The variable must already exist in an enclosing scope. If no such variable exists, Python raises a SyntaxError."
      ],
      "metadata": {
        "id": "MTEv2e_Lkeql"
      }
    },
    {
      "cell_type": "code",
      "source": [
        "def outer():\n",
        "  count = 0\n",
        "  def inner():\n",
        "    nonlocal count  # Declare count as nonlocal\n",
        "    count += 1     # Modify the outer function's count\n",
        "    print(f\"Inner count: {count}\")\n",
        "  inner()\n",
        "  print(f\"Outer count: {count}\")\n",
        "\n",
        "outer()"
      ],
      "metadata": {
        "id": "t69MC9Q2k09E"
      },
      "execution_count": null,
      "outputs": []
    },
    {
      "cell_type": "code",
      "source": [
        "def outer():\n",
        "  count = 0\n",
        "  def inner():\n",
        "    count = 0  # Creates a new local variable\n",
        "    count += 1\n",
        "    print(f\"Inner count: {count}\")\n",
        "  inner()\n",
        "  print(f\"Outer count: {count}\")\n",
        "\n",
        "outer()"
      ],
      "metadata": {
        "id": "_dOLTAl9k34w"
      },
      "execution_count": null,
      "outputs": []
    },
    {
      "cell_type": "code",
      "source": [
        "def outer():\n",
        "  x = 10\n",
        "  def middle():\n",
        "    x = 20\n",
        "    def inner():\n",
        "      nonlocal x  # Refers to x in middle(), not outer()\n",
        "      x += 5\n",
        "      print(f\"Inner x: {x}\")\n",
        "    inner()\n",
        "    print(f\"Middle x: {x}\")\n",
        "  middle()\n",
        "  print(f\"Outer x: {x}\")\n",
        "\n",
        "outer()"
      ],
      "metadata": {
        "id": "1j0JGDF2k6U1"
      },
      "execution_count": null,
      "outputs": []
    },
    {
      "cell_type": "markdown",
      "source": [
        "## Lambda Functions\n",
        "\n",
        "Lambda functions are small anonymous functions defined with the lambda keyword."
      ],
      "metadata": {
        "id": "kgHSnYd11JNK"
      }
    },
    {
      "cell_type": "markdown",
      "source": [
        "```python\n",
        "lambda arguments: expression\n",
        "```"
      ],
      "metadata": {
        "id": "tYWNoTdp1PKr"
      }
    },
    {
      "cell_type": "code",
      "source": [
        "def multiply(a, b):\n",
        "  return a * b"
      ],
      "metadata": {
        "id": "lDk3_SODUTwl"
      },
      "execution_count": null,
      "outputs": []
    },
    {
      "cell_type": "code",
      "source": [
        "multiply = lambda a, b: a * b\n",
        "print(\"Product:\", multiply(4, 5))"
      ],
      "metadata": {
        "id": "IA5YGLDG1Y-a"
      },
      "execution_count": null,
      "outputs": []
    },
    {
      "cell_type": "markdown",
      "source": [
        "## Variable-Length Arguments\n",
        "\n",
        "Sometimes, you may not know in advance how many arguments a function should accept."
      ],
      "metadata": {
        "id": "aQeUoHCT1d94"
      }
    },
    {
      "cell_type": "markdown",
      "source": [
        "### *args (Non-Keyword Arguments)"
      ],
      "metadata": {
        "id": "4A29p7N11kAP"
      }
    },
    {
      "cell_type": "code",
      "source": [
        "def sum_all(*args):\n",
        "  total = 0\n",
        "  for num in args:\n",
        "      total += num # total = total + num\n",
        "      print(total)\n",
        "  return total\n",
        "\n",
        "print(\"Sum:\", sum_all(1, 2, 3, 4, 5))"
      ],
      "metadata": {
        "id": "NXP7bOP41m6k"
      },
      "execution_count": null,
      "outputs": []
    },
    {
      "cell_type": "markdown",
      "source": [
        "### **kwargs (Keyword Arguments)"
      ],
      "metadata": {
        "id": "kLL9NXfc1oSK"
      }
    },
    {
      "cell_type": "code",
      "source": [
        "def print_info(**kwargs):\n",
        "  for key, value in kwargs.items():\n",
        "      print(f\"{key}: {value}\")\n",
        "\n",
        "print_info(name=\"Alice\", age=25, city=\"New York\")"
      ],
      "metadata": {
        "id": "0I4kUQPX1qx-"
      },
      "execution_count": null,
      "outputs": []
    },
    {
      "cell_type": "markdown",
      "source": [
        "## Keyword-Only Arguments\n",
        "To Enforce Keyword-Only Arguments: When an asterisk is placed before specific parameters in a function definition, it indicates that all parameters after the asterisk must be provided as keyword arguments."
      ],
      "metadata": {
        "id": "1sx6RkaK3a4M"
      }
    },
    {
      "cell_type": "code",
      "source": [
        "def example_func(a, b, *, c):\n",
        "    print(a, b, c)\n",
        "\n",
        "example_func(1, 2, c=3)  # Works fine\n",
        "example_func(1, 2, 3)    # Raises a TypeError"
      ],
      "metadata": {
        "id": "ywmJfyk2iOfz"
      },
      "execution_count": null,
      "outputs": []
    },
    {
      "cell_type": "markdown",
      "source": [
        "### Positional-only Arguments\n",
        "\n",
        "When a slash is used in a function definition, it indicates that all preceding parameters can only be specified as positional arguments, while any parameters after the slash can be specified as keyword arguments."
      ],
      "metadata": {
        "id": "iG7tkVsI3kjW"
      }
    },
    {
      "cell_type": "code",
      "source": [
        "def func(a, b, /, c):\n",
        "    print(a, b, c)\n",
        "\n",
        "func(1, 2, c=3)  # Valid\n",
        "func(1, b=2, c=3)     # Raises TypeError because c cannot be positional"
      ],
      "metadata": {
        "id": "XtKnX4U73qlj"
      },
      "execution_count": null,
      "outputs": []
    },
    {
      "cell_type": "markdown",
      "source": [
        "### Positional-only and Keyword-only Arguments\n"
      ],
      "metadata": {
        "id": "4ut6AbGxXtbM"
      }
    },
    {
      "cell_type": "code",
      "source": [
        "def func(a, /, b, *, c):\n",
        "    print(a, b, c)\n",
        "\n",
        "func(1, 2, c=3) # Valid\n",
        "func(1, b=2, c=3) # Valid\n",
        "func(1, 2, 3) # Error\n",
        "func(a=1, b=2, c=3) # Error"
      ],
      "metadata": {
        "id": "EhrMMXSYX1iQ"
      },
      "execution_count": null,
      "outputs": []
    },
    {
      "cell_type": "markdown",
      "metadata": {
        "id": "y5vouUVYKR3h"
      },
      "source": [
        "# Compound types: Strings, List and dictionaries\n",
        "\n",
        "[Data Structures](https://docs.python.org/3/tutorial/datastructures.html)\n",
        "\n",
        "\n",
        "![image.png](data:image/png;base64,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)"
      ]
    },
    {
      "cell_type": "code",
      "source": [
        "a = ['a', 'b', 'c', 'd', 'e', 'f']"
      ],
      "metadata": {
        "id": "Pe4qumNNatXw"
      },
      "execution_count": null,
      "outputs": []
    },
    {
      "cell_type": "markdown",
      "source": [
        "[begin: end: (direction)step]"
      ],
      "metadata": {
        "id": "l_d970vsblRn"
      }
    },
    {
      "cell_type": "code",
      "source": [
        "a[3::-1]"
      ],
      "metadata": {
        "id": "KNmBm-v9a4He"
      },
      "execution_count": null,
      "outputs": []
    },
    {
      "cell_type": "markdown",
      "metadata": {
        "id": "c2du--ERKR3i"
      },
      "source": [
        "## Strings\n",
        "\n",
        "[Docs](https://docs.python.org/3/library/stdtypes.html#text-sequence-type-str\n",
        ")"
      ]
    },
    {
      "cell_type": "markdown",
      "metadata": {
        "id": "oWgvS0qdKR3i"
      },
      "source": [
        "Strings are the variable type that is used for storing text messages."
      ]
    },
    {
      "cell_type": "code",
      "source": [
        "s = 'as\"d'\n",
        "print(s)\n",
        "s = \"a'sd\"\n",
        "print(s)"
      ],
      "metadata": {
        "id": "gqMzMDAhd4UU"
      },
      "execution_count": null,
      "outputs": []
    },
    {
      "cell_type": "code",
      "source": [
        "s = '''sdfsdfsdf\n",
        "fsdfsdf\n",
        "sdfsdfs\n",
        "sdfsdfsdf\n",
        "'''\n",
        "print(s)"
      ],
      "metadata": {
        "id": "FyBfRglmeDrF"
      },
      "execution_count": null,
      "outputs": []
    },
    {
      "cell_type": "code",
      "execution_count": null,
      "metadata": {
        "id": "5uii5aZ2KR3i"
      },
      "outputs": [],
      "source": [
        "s = \"Hello world\"\n",
        "type(s)"
      ]
    },
    {
      "cell_type": "code",
      "source": [
        "s = 'asd'\n",
        "s.center(20, 't')"
      ],
      "metadata": {
        "id": "vIeUGuR4emux"
      },
      "execution_count": null,
      "outputs": []
    },
    {
      "cell_type": "code",
      "execution_count": null,
      "metadata": {
        "id": "HLTyqaoOKR3i"
      },
      "outputs": [],
      "source": [
        "# length of the string: the number of characters\n",
        "len(s)"
      ]
    },
    {
      "cell_type": "code",
      "source": [
        "help(len)"
      ],
      "metadata": {
        "id": "iCDz9je-x5VD"
      },
      "execution_count": null,
      "outputs": []
    },
    {
      "cell_type": "code",
      "execution_count": null,
      "metadata": {
        "id": "fC5qwnZrKR3i"
      },
      "outputs": [],
      "source": [
        "# replace a substring in a string with something else\n",
        "s = \"Hello world Hello world\"\n",
        "\n",
        "s2 = s.replace(\"world\", \"test\", 2)\n",
        "print(s2)"
      ]
    },
    {
      "cell_type": "markdown",
      "metadata": {
        "id": "VgkXf62dKR3i"
      },
      "source": [
        "We can index a character in a string using `[]`:"
      ]
    },
    {
      "cell_type": "code",
      "source": [
        "s = \"Hello world\""
      ],
      "metadata": {
        "id": "Dr1cBmlElYyU"
      },
      "execution_count": null,
      "outputs": []
    },
    {
      "cell_type": "code",
      "execution_count": null,
      "metadata": {
        "id": "AwqDJfa5KR3i"
      },
      "outputs": [],
      "source": [
        "s[0]"
      ]
    },
    {
      "cell_type": "markdown",
      "metadata": {
        "id": "t6em7LBnKR3i"
      },
      "source": [
        "**Heads up MATLAB users:** Indexing start at 0!\n",
        "\n",
        "We can extract a part of a string using the syntax `[start:stop]`, which extracts characters between index `start` and `stop` -1 (the character at index `stop` is not included):"
      ]
    },
    {
      "cell_type": "code",
      "execution_count": null,
      "metadata": {
        "id": "ipItq3wKKR3i"
      },
      "outputs": [],
      "source": [
        "s[0:5]"
      ]
    },
    {
      "cell_type": "code",
      "execution_count": null,
      "metadata": {
        "id": "ZbXmJTSxKR3i"
      },
      "outputs": [],
      "source": [
        "s[4:5]"
      ]
    },
    {
      "cell_type": "markdown",
      "metadata": {
        "id": "W_dd_q_PKR3j"
      },
      "source": [
        "If we omit either (or both) of `start` or `stop` from `[start:stop]`, the default is the beginning and the end of the string, respectively:"
      ]
    },
    {
      "cell_type": "code",
      "execution_count": null,
      "metadata": {
        "id": "6qvcfpDxKR3j"
      },
      "outputs": [],
      "source": [
        "s[:5]"
      ]
    },
    {
      "cell_type": "code",
      "execution_count": null,
      "metadata": {
        "id": "BM6XDZZsKR3j"
      },
      "outputs": [],
      "source": [
        "s[6:]"
      ]
    },
    {
      "cell_type": "code",
      "execution_count": null,
      "metadata": {
        "id": "CWCYtb-MKR3j"
      },
      "outputs": [],
      "source": [
        "s[:]"
      ]
    },
    {
      "cell_type": "markdown",
      "metadata": {
        "id": "cCG6dkjuKR3j"
      },
      "source": [
        "We can also define the step size using the syntax `[start:end:step]` (the default value for `step` is 1, as we saw above):"
      ]
    },
    {
      "cell_type": "code",
      "execution_count": null,
      "metadata": {
        "id": "dBDkrzT4KR3j"
      },
      "outputs": [],
      "source": [
        "s[::1]"
      ]
    },
    {
      "cell_type": "code",
      "execution_count": null,
      "metadata": {
        "id": "mFChRQLxKR3j"
      },
      "outputs": [],
      "source": [
        "s[::2]"
      ]
    },
    {
      "cell_type": "code",
      "source": [
        "s = 'abcdef'\n",
        "s[4::-1]"
      ],
      "metadata": {
        "id": "_LLSKTDpl8xv"
      },
      "execution_count": null,
      "outputs": []
    },
    {
      "cell_type": "markdown",
      "metadata": {
        "id": "IZ7TBMa1KR3k"
      },
      "source": [
        "This technique is called *slicing*. Read more about the syntax here: https://docs.python.org/3/library/functions.html#slice"
      ]
    },
    {
      "cell_type": "markdown",
      "metadata": {
        "id": "ZtqpIxUNKR3k"
      },
      "source": [
        "Python has a very rich set of functions for text processing. See for example https://docs.python.org/3/library/string.html for more information."
      ]
    },
    {
      "cell_type": "markdown",
      "metadata": {
        "id": "gTRIr3G0KR3k"
      },
      "source": [
        "#### String formatting examples"
      ]
    },
    {
      "cell_type": "code",
      "execution_count": null,
      "metadata": {
        "id": "AAPbmn6vKR3k"
      },
      "outputs": [],
      "source": [
        "print(\"str1\", \"str2\", \"str3\", 2323)  # The print statement concatenates strings with a space"
      ]
    },
    {
      "cell_type": "code",
      "source": [
        "print(\"str1\", \"str2\", \"str3\", 2323, sep='_', end='')\n",
        "print(\"str1\", \"str2\", \"str3\", 2323, sep='_', end='')"
      ],
      "metadata": {
        "id": "0KviD4w8oMz4"
      },
      "execution_count": null,
      "outputs": []
    },
    {
      "cell_type": "code",
      "source": [
        "help(print)"
      ],
      "metadata": {
        "id": "jRjwLwZqn9wo"
      },
      "execution_count": null,
      "outputs": []
    },
    {
      "cell_type": "code",
      "execution_count": null,
      "metadata": {
        "id": "6aTE5QPNKR3k"
      },
      "outputs": [],
      "source": [
        "print(\"str1\", 1.0, False, -1j)  # The print statements converts all arguments to strings"
      ]
    },
    {
      "cell_type": "code",
      "execution_count": null,
      "metadata": {
        "id": "Lk-YmP79KR3k"
      },
      "outputs": [],
      "source": [
        "print(\"str1\" + \"str2\" + \"str3\") # strings added with + are concatenated without space"
      ]
    },
    {
      "cell_type": "code",
      "execution_count": null,
      "metadata": {
        "id": "nFrNdAyOKR3k"
      },
      "outputs": [],
      "source": [
        "print(\"value = %f\" % 1.0)       # we can use C-style string formatting"
      ]
    },
    {
      "cell_type": "code",
      "execution_count": null,
      "metadata": {
        "id": "ou4wrMH9KR3k"
      },
      "outputs": [],
      "source": [
        "# this formatting creates a string\n",
        "s2 = \"value1 = %.2f. value2 = %d\" % (3.1415, 1.5)\n",
        "\n",
        "print(s2)"
      ]
    },
    {
      "cell_type": "code",
      "execution_count": null,
      "metadata": {
        "id": "D6mYKF2RKR3k"
      },
      "outputs": [],
      "source": [
        "# alternative, more intuitive way of formatting a string\n",
        "s3 = 'value1 = {0}, value2 = {1}'.format(3.1415, 1.5)\n",
        "print(s3)"
      ]
    },
    {
      "cell_type": "code",
      "source": [
        "# alternative, more intuitive way of formatting a string\n",
        "s3 = 'value1 = {a}, value2 = {b} {0}'.format(2323, b=3.1415, a=1.5)\n",
        "\n",
        "print(s3)"
      ],
      "metadata": {
        "id": "mk-_JROmk7wN"
      },
      "execution_count": null,
      "outputs": []
    },
    {
      "cell_type": "markdown",
      "metadata": {
        "id": "R5-x02JBKR3l"
      },
      "source": [
        "## List\n",
        "\n",
        "[Docs](https://docs.python.org/3/library/stdtypes.html#list)"
      ]
    },
    {
      "cell_type": "markdown",
      "metadata": {
        "id": "-4W-pZjMKR3l"
      },
      "source": [
        "Lists are very similar to strings, except that each element can be of any type.\n",
        "\n",
        "The syntax for creating lists in Python is `[...]`:"
      ]
    },
    {
      "cell_type": "code",
      "execution_count": null,
      "metadata": {
        "id": "-OQOghKfKR3l"
      },
      "outputs": [],
      "source": [
        "l = [1, 2, 3, 4]\n",
        "\n",
        "print(type(l))\n",
        "print(l)"
      ]
    },
    {
      "cell_type": "markdown",
      "metadata": {
        "id": "dXkzASi4KR3l"
      },
      "source": [
        "We can use the same slicing techniques to manipulate lists as we could use on strings:\n"
      ]
    },
    {
      "cell_type": "code",
      "execution_count": null,
      "metadata": {
        "id": "J3E8_mN4KR3l"
      },
      "outputs": [],
      "source": [
        "print(l)\n",
        "\n",
        "print(l[1:3])\n",
        "\n",
        "print(l[::2])"
      ]
    },
    {
      "cell_type": "markdown",
      "metadata": {
        "id": "qJ0i9Y3RKR3l"
      },
      "source": [
        "**Heads up MATLAB users:** Indexing starts at 0!"
      ]
    },
    {
      "cell_type": "code",
      "execution_count": null,
      "metadata": {
        "id": "XBH_KBy1KR3l"
      },
      "outputs": [],
      "source": [
        "l[0]"
      ]
    },
    {
      "cell_type": "markdown",
      "metadata": {
        "id": "66qRlskxKR3l"
      },
      "source": [
        "Elements in a list do not all have to be of the same type:"
      ]
    },
    {
      "cell_type": "code",
      "execution_count": null,
      "metadata": {
        "id": "ZdESI-ZWKR3l"
      },
      "outputs": [],
      "source": [
        "l = [1, 'a', 1.0, 1-1j]\n",
        "\n",
        "print(l)"
      ]
    },
    {
      "cell_type": "markdown",
      "metadata": {
        "id": "7mV_xgJ_KR3l"
      },
      "source": [
        "Python lists can be inhomogeneous and arbitrarily nested:"
      ]
    },
    {
      "cell_type": "code",
      "execution_count": null,
      "metadata": {
        "id": "zd2aPJvjKR3l"
      },
      "outputs": [],
      "source": [
        "nested_list = [1, [2, [3, [4, [5]]]]]\n",
        "print(nested_list[1][1][1][1][0])\n"
      ]
    },
    {
      "cell_type": "markdown",
      "metadata": {
        "id": "HjPu3RdRKR3m"
      },
      "source": [
        "Lists play a very important role in Python. For example they are used in loops and other flow control structures (discussed below). There are a number of convenient functions for generating lists of various types, for example the `range` function:"
      ]
    },
    {
      "cell_type": "code",
      "execution_count": null,
      "metadata": {
        "id": "BvKenNQ7KR3m"
      },
      "outputs": [],
      "source": [
        "start = 10\n",
        "stop = 30\n",
        "step = 2\n",
        "\n",
        "list(range(start, stop, step))"
      ]
    },
    {
      "cell_type": "code",
      "execution_count": null,
      "metadata": {
        "id": "3BZB-jSFKR3m"
      },
      "outputs": [],
      "source": [
        "# in python 3 range generates an iterator, which can be converted to a list using 'list(...)'.\n",
        "# It has no effect in python 2\n",
        "list(range(start, stop, step))"
      ]
    },
    {
      "cell_type": "code",
      "execution_count": null,
      "metadata": {
        "id": "HXHvsv0DKR3m"
      },
      "outputs": [],
      "source": [
        "list(range(-10, 10))"
      ]
    },
    {
      "cell_type": "code",
      "execution_count": null,
      "metadata": {
        "id": "Lwwr1YcdKR3m"
      },
      "outputs": [],
      "source": [
        "s = 'abcdef'"
      ]
    },
    {
      "cell_type": "code",
      "execution_count": null,
      "metadata": {
        "id": "5Uw-u4SwKR3m"
      },
      "outputs": [],
      "source": [
        "# convert a string to a list by type casting:\n",
        "s2 = list(s)\n",
        "\n",
        "s2"
      ]
    },
    {
      "cell_type": "code",
      "source": [
        "s2 = [1, 5, 9, 2, 4, 7]\n",
        "print(s2)"
      ],
      "metadata": {
        "id": "zc0rwaN4tMQq"
      },
      "execution_count": null,
      "outputs": []
    },
    {
      "cell_type": "code",
      "source": [
        "w = sorted(s2)"
      ],
      "metadata": {
        "id": "DS3C7MnDug8t"
      },
      "execution_count": null,
      "outputs": []
    },
    {
      "cell_type": "code",
      "source": [
        "type(w)"
      ],
      "metadata": {
        "id": "rRGiAKySuECS"
      },
      "execution_count": null,
      "outputs": []
    },
    {
      "cell_type": "code",
      "execution_count": null,
      "metadata": {
        "id": "4db5jsnEKR3m"
      },
      "outputs": [],
      "source": [
        "# sorting lists\n",
        "s2.sort()\n",
        "\n",
        "print(s2)"
      ]
    },
    {
      "cell_type": "markdown",
      "metadata": {
        "id": "CaqTAd-fKR3m"
      },
      "source": [
        "#### Adding, inserting, modifying, and removing elements from lists"
      ]
    },
    {
      "cell_type": "markdown",
      "metadata": {
        "id": "kxNCTp1OKR3n"
      },
      "source": [
        "We can modify lists by assigning new values to elements in the list. In technical jargon, lists are *mutable*."
      ]
    },
    {
      "cell_type": "code",
      "execution_count": null,
      "metadata": {
        "id": "fLbNH9DkKR3n"
      },
      "outputs": [],
      "source": [
        "l[1:3] = [\"d\", \"d\"]\n",
        "\n",
        "print(l)"
      ]
    },
    {
      "cell_type": "markdown",
      "metadata": {
        "id": "sG1L3ANSKR3n"
      },
      "source": [
        "Insert an element at an specific index using `insert`"
      ]
    },
    {
      "cell_type": "code",
      "execution_count": null,
      "metadata": {
        "id": "VLUT3KZSKR3n"
      },
      "outputs": [],
      "source": [
        "l.insert(0, \"i\")\n",
        "l.insert(1, \"n\")\n",
        "l.insert(2, \"s\")\n",
        "l.insert(3, \"e\")\n",
        "l.insert(4, \"r\")\n",
        "l.insert(22, \"t\")\n",
        "\n",
        "print(l)"
      ]
    },
    {
      "cell_type": "markdown",
      "metadata": {
        "id": "EWOXNzYHKR3n"
      },
      "source": [
        "Remove first element with specific value using 'remove'"
      ]
    },
    {
      "cell_type": "code",
      "execution_count": null,
      "metadata": {
        "id": "L2LRWmD1KR3n"
      },
      "outputs": [],
      "source": [
        "l.remove(\"t\")\n",
        "\n",
        "print(l)"
      ]
    },
    {
      "cell_type": "markdown",
      "metadata": {
        "id": "PmZ-KwyjKR3n"
      },
      "source": [
        "Remove an element at a specific location using `del`:"
      ]
    },
    {
      "cell_type": "code",
      "execution_count": null,
      "metadata": {
        "id": "RMqGu8UXKR3n"
      },
      "outputs": [],
      "source": [
        "del l[7]\n",
        "del l[6]\n",
        "\n",
        "print(l)"
      ]
    },
    {
      "cell_type": "markdown",
      "metadata": {
        "id": "NVNkxA1MKR3n"
      },
      "source": [
        "See `help(list)` for more details, or read the online documentation"
      ]
    },
    {
      "cell_type": "markdown",
      "metadata": {
        "id": "z9KRWHsPKR3o"
      },
      "source": [
        "## Tuples\n",
        "\n",
        "[Docs](https://docs.python.org/3/library/stdtypes.html#tuple)"
      ]
    },
    {
      "cell_type": "markdown",
      "metadata": {
        "id": "slzSflI6KR3o"
      },
      "source": [
        "Tuples are like lists, except that they cannot be modified once created, that is they are *immutable*.\n",
        "\n",
        "In Python, tuples are created using the syntax `(..., ..., ...)`, or even `..., ...`:"
      ]
    },
    {
      "cell_type": "code",
      "execution_count": null,
      "metadata": {
        "id": "9G4KWgzSKR3o"
      },
      "outputs": [],
      "source": [
        "point = (10, 20)\n",
        "\n",
        "print(point, type(point))"
      ]
    },
    {
      "cell_type": "code",
      "execution_count": null,
      "metadata": {
        "id": "0Eh3OPa3KR3o"
      },
      "outputs": [],
      "source": [
        "point = 10, 20\n",
        "\n",
        "print(point, type(point))"
      ]
    },
    {
      "cell_type": "markdown",
      "metadata": {
        "id": "8-rj_oxXKR3o"
      },
      "source": [
        "We can unpack a tuple by assigning it to a comma-separated list of variables:"
      ]
    },
    {
      "cell_type": "code",
      "execution_count": null,
      "metadata": {
        "id": "lgwmDu8cKR3o"
      },
      "outputs": [],
      "source": [
        "x, y = point\n",
        "\n",
        "print(\"x =\", x)\n",
        "print(\"y =\", y)"
      ]
    },
    {
      "cell_type": "markdown",
      "metadata": {
        "id": "jQZoX0r3KR3o"
      },
      "source": [
        "If we try to assign a new value to an element in a tuple we get an error:"
      ]
    },
    {
      "cell_type": "code",
      "execution_count": null,
      "metadata": {
        "id": "PujeH4wLKR3o"
      },
      "outputs": [],
      "source": [
        "point[0] = 20"
      ]
    },
    {
      "cell_type": "markdown",
      "metadata": {
        "id": "fR-0U4ZpKR3o"
      },
      "source": [
        "## Dictionaries\n",
        "\n",
        "[Docs](https://docs.python.org/3/library/stdtypes.html#mapping-types-dict)"
      ]
    },
    {
      "cell_type": "markdown",
      "metadata": {
        "id": "6wZx8peKKR3o"
      },
      "source": [
        "Dictionaries are also like lists, except that each element is a key-value pair. The syntax for dictionaries is `{key1 : value1, ...}`:"
      ]
    },
    {
      "cell_type": "code",
      "source": [
        "l = [1., 2., 3.]"
      ],
      "metadata": {
        "id": "pL45m2L90o79"
      },
      "execution_count": null,
      "outputs": []
    },
    {
      "cell_type": "code",
      "source": [
        "l[0]"
      ],
      "metadata": {
        "id": "Cw-eoNsy0rgA"
      },
      "execution_count": null,
      "outputs": []
    },
    {
      "cell_type": "code",
      "execution_count": null,
      "metadata": {
        "id": "yTWoHcmXKR3o"
      },
      "outputs": [],
      "source": [
        "params = {\"parameter1\" : 1.0,\n",
        "          \"parameter2\" : 2.0,\n",
        "          \"parameter3\" : 3.0,}\n",
        "\n",
        "print(type(params))\n",
        "print(params)"
      ]
    },
    {
      "cell_type": "code",
      "source": [
        "params[(1, 2, 3)] = 'ccc'"
      ],
      "metadata": {
        "id": "ewthy_l20vNW"
      },
      "execution_count": null,
      "outputs": []
    },
    {
      "cell_type": "code",
      "source": [
        "params[[1, 2, 3, 4]] = 'qqwewe'"
      ],
      "metadata": {
        "id": "X7Uf5xz908Nz"
      },
      "execution_count": null,
      "outputs": []
    },
    {
      "cell_type": "code",
      "execution_count": null,
      "metadata": {
        "id": "kEaZABC7KR3o"
      },
      "outputs": [],
      "source": [
        "print(\"parameter1 = \" + str(params[\"parameter1\"]))\n",
        "print(\"parameter2 = \" + str(params[\"parameter2\"]))\n",
        "print(\"parameter3 = \" + str(params[\"parameter3\"]))"
      ]
    },
    {
      "cell_type": "code",
      "execution_count": null,
      "metadata": {
        "id": "WQSUiHswKR3p"
      },
      "outputs": [],
      "source": [
        "params[\"parameter1\"] = \"A\"\n",
        "params[\"parameter2\"] = \"B\"\n",
        "\n",
        "# add a new entry\n",
        "params[\"parameter4\"] = \"D\"\n",
        "\n",
        "print(\"parameter1 = \" + str(params[\"parameter1\"]))\n",
        "print(\"parameter2 = \" + str(params[\"parameter2\"]))\n",
        "print(\"parameter3 = \" + str(params[\"parameter3\"]))\n",
        "print(\"parameter4 = \" + str(params[\"parameter4\"]))"
      ]
    },
    {
      "cell_type": "markdown",
      "source": [
        "## Sets\n",
        "\n",
        "[Docs](https://docs.python.org/3/library/stdtypes.html#set)"
      ],
      "metadata": {
        "id": "lCCdQO95Mw_2"
      }
    },
    {
      "cell_type": "code",
      "source": [
        "x = ['apple', 'orange', 'apple', 'pear', 'orange', 'banana']"
      ],
      "metadata": {
        "id": "_AZZnFgs8pko"
      },
      "execution_count": null,
      "outputs": []
    },
    {
      "cell_type": "code",
      "source": [
        "len(x)"
      ],
      "metadata": {
        "id": "0pj9CvWC8yyM"
      },
      "execution_count": null,
      "outputs": []
    },
    {
      "cell_type": "code",
      "source": [
        "x[2]"
      ],
      "metadata": {
        "id": "BjnPuIbh803N"
      },
      "execution_count": null,
      "outputs": []
    },
    {
      "cell_type": "code",
      "source": [
        "basket = {'apple', 'orange', 'apple', 'pear', 'orange', 'banana'}\n",
        "print(basket)                      # show that duplicates have been removed"
      ],
      "metadata": {
        "id": "YcvQJmdsNUp0"
      },
      "execution_count": null,
      "outputs": []
    },
    {
      "cell_type": "code",
      "source": [
        "len(basket)"
      ],
      "metadata": {
        "id": "r6pLwI1X89Pp"
      },
      "execution_count": null,
      "outputs": []
    },
    {
      "cell_type": "code",
      "source": [
        "'orange' in basket                 # fast membership testing\n",
        "# 'crabgrass' in basket"
      ],
      "metadata": {
        "id": "q2yBxhcTNU_-"
      },
      "execution_count": null,
      "outputs": []
    },
    {
      "cell_type": "code",
      "source": [
        "a = set('abracadabra')\n",
        "b = set('alacazam')\n",
        "a                                  # unique letters in a"
      ],
      "metadata": {
        "id": "2mnSxSSvNVJ3"
      },
      "execution_count": null,
      "outputs": []
    },
    {
      "cell_type": "code",
      "source": [
        "a - b                              # letters in a but not in b"
      ],
      "metadata": {
        "id": "iw7OqilQNc2V"
      },
      "execution_count": null,
      "outputs": []
    },
    {
      "cell_type": "code",
      "source": [
        "a | b                             # letters in a or b or both"
      ],
      "metadata": {
        "id": "jCrJft8tNdaQ"
      },
      "execution_count": null,
      "outputs": []
    },
    {
      "cell_type": "code",
      "source": [
        "a & b                              # letters in both a and b"
      ],
      "metadata": {
        "id": "WZfB39EyNe3e"
      },
      "execution_count": null,
      "outputs": []
    }
  ]
}