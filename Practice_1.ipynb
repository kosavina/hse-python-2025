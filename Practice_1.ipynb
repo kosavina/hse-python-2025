{
  "nbformat": 4,
  "nbformat_minor": 0,
  "metadata": {
    "colab": {
      "provenance": []
    },
    "kernelspec": {
      "name": "python3",
      "display_name": "Python 3"
    },
    "language_info": {
      "name": "python"
    }
  },
  "cells": [
    {
      "cell_type": "markdown",
      "source": [
        "## Practice 1 (04 Oct 2025)\n",
        "\n",
        "[![Open In Colab](https://colab.research.google.com/assets/colab-badge.svg)](https://colab.research.google.com/github/kosavina/hse-python-2025/blob/main/Practice_1.ipynb)"
      ],
      "metadata": {
        "id": "T-oM1_QkarpH"
      }
    },
    {
      "cell_type": "markdown",
      "source": [
        "**1. Define a Simple Function:**\n",
        "\n",
        "Write a function called greet that takes no inputs and prints \"Hello, Python!\" when called.\n",
        "\n",
        "Call the function and observe the output.\n"
      ],
      "metadata": {
        "id": "kwb7HEUUUHDg"
      }
    },
    {
      "cell_type": "code",
      "source": [],
      "metadata": {
        "id": "IYqyEW1SaTTS"
      },
      "execution_count": null,
      "outputs": []
    },
    {
      "cell_type": "markdown",
      "source": [
        "**2. Function with Input and Return:**\n",
        "\n",
        "Define a function add_two that takes one integer input x and returns x + 2.\n",
        "\n",
        "Call it with x = 5 and print the result. Expected output: 7.\n"
      ],
      "metadata": {
        "id": "st-rHJzPUVqh"
      }
    },
    {
      "cell_type": "code",
      "source": [],
      "metadata": {
        "id": "uDyzUxW7aT1b"
      },
      "execution_count": null,
      "outputs": []
    },
    {
      "cell_type": "markdown",
      "source": [
        "**3. Print vs Return:**\n",
        "\n",
        "Define a function square_print that takes an input x and prints x ** 2 but does not return anything.\n",
        "\n",
        "Assign the result to a variable result and print result.\n",
        "\n",
        "What is the type of result?\n",
        "\n",
        "Hint: Use 'type(result)'"
      ],
      "metadata": {
        "id": "f2yQ_8hqUj7h"
      }
    },
    {
      "cell_type": "code",
      "source": [],
      "metadata": {
        "id": "o4BPDbMTaUZd"
      },
      "execution_count": null,
      "outputs": []
    },
    {
      "cell_type": "markdown",
      "source": [
        "**4. Multiple Inputs:**\n",
        "\n",
        "Write a function multiply that takes two inputs a and b and returns their product.\n",
        "\n",
        "Call it with a = 3.5 and b = 2 and print the result.\n",
        "\n",
        "Expected output: 7.0.\n"
      ],
      "metadata": {
        "id": "fFVa8QfdVEnm"
      }
    },
    {
      "cell_type": "code",
      "source": [],
      "metadata": {
        "id": "wryTxQ1VaYg1"
      },
      "execution_count": null,
      "outputs": []
    },
    {
      "cell_type": "markdown",
      "source": [
        "**5. Function with Print and Return:**\n",
        "\n",
        "Define power that takes base and exp, prints base ** exp, and returns the same value.\n",
        "\n",
        "Call it with base = 2 and exp = 3.\n",
        "\n",
        "What gets printed, and what is the returned value?\n",
        "\n",
        "Expected: Print 8, return 8.\n"
      ],
      "metadata": {
        "id": "wcHul-3ZVOEk"
      }
    },
    {
      "cell_type": "code",
      "source": [],
      "metadata": {
        "id": "MEyM47PBaZCT"
      },
      "execution_count": null,
      "outputs": []
    },
    {
      "cell_type": "markdown",
      "source": [
        "**6. No Return Value:**\n",
        "\n",
        "Write a function say_hello that takes a name (string) as input and prints \"Hello, [name]!\".\n",
        "\n",
        "Call it with \"Alice\" and assign to output.\n",
        "\n",
        "Print type(output).\n",
        "\n",
        "Expected: <class 'NoneType'>.\n"
      ],
      "metadata": {
        "id": "pb2KTZ3eVXJG"
      }
    },
    {
      "cell_type": "code",
      "source": [],
      "metadata": {
        "id": "HRdlgDqLaZav"
      },
      "execution_count": null,
      "outputs": []
    },
    {
      "cell_type": "markdown",
      "source": [
        "**7. Mathematical Function:**\n",
        "\n",
        "Create a function area_circle that takes radius r (float) and returns πr² (use math.pi after importing math).\n",
        "\n",
        "Call with r = 5 and print the result (approx. 78.54)."
      ],
      "metadata": {
        "id": "OcAxqJLNVgEh"
      }
    },
    {
      "cell_type": "code",
      "source": [],
      "metadata": {
        "id": "SWr0XQhZaZyX"
      },
      "execution_count": null,
      "outputs": []
    },
    {
      "cell_type": "markdown",
      "source": [
        "**8. Boolean Input Function:**\n",
        "\n",
        "Define is_even that takes an integer n and returns True if n % 2 == 0, else False.\n",
        "\n",
        "Test with n = 4 and n = 7.\n",
        "\n",
        "Expected: True, False.\n"
      ],
      "metadata": {
        "id": "v0zCKICVVlrV"
      }
    },
    {
      "cell_type": "code",
      "source": [],
      "metadata": {
        "id": "kvU537SbaaLZ"
      },
      "execution_count": null,
      "outputs": []
    },
    {
      "cell_type": "markdown",
      "source": [
        "**9. Complex Number Function:**\n",
        "\n",
        "Write complex_sum that takes two complex numbers c1 and c2 and returns their sum.\n",
        "\n",
        "Test with c1 = 1 + 2j and c2 = 3 - 4j.\n",
        "\n",
        "Expected: (4-2j).\n"
      ],
      "metadata": {
        "id": "tVnQ78AkVsha"
      }
    },
    {
      "cell_type": "code",
      "source": [],
      "metadata": {
        "id": "rk30OxUwaaku"
      },
      "execution_count": null,
      "outputs": []
    },
    {
      "cell_type": "markdown",
      "source": [
        "**10. Function Chaining:**\n",
        "\n",
        "Define double (returns x * 2) and square (returns x ** 2).\n",
        "\n",
        "Create a pipeline: square(double(3)).\n",
        "\n",
        "Expected: 36.\n"
      ],
      "metadata": {
        "id": "G1hRFqvsVx1g"
      }
    },
    {
      "cell_type": "code",
      "source": [],
      "metadata": {
        "id": "6lSQdBnjaa6w"
      },
      "execution_count": null,
      "outputs": []
    },
    {
      "cell_type": "markdown",
      "source": [
        "**11. Basic Assignment:**\n",
        "\n",
        "Assign pi = 3.14159 to a variable.\n",
        "\n",
        "Print it and its type.\n",
        "\n",
        "Change it to pi = 3 and print again.\n",
        "\n",
        "What changed about the type?\n"
      ],
      "metadata": {
        "id": "rLsEat-hV9J_"
      }
    },
    {
      "cell_type": "code",
      "source": [],
      "metadata": {
        "id": "mPoSPGJLabWk"
      },
      "execution_count": null,
      "outputs": []
    },
    {
      "cell_type": "markdown",
      "source": [
        "**12. Multiple Assignments:**\n",
        "\n",
        "Assign a = 10, then b = a.\n",
        "\n",
        "Print a and b.\n",
        "\n",
        "Now change a = 20 and print both.\n",
        "\n",
        "Did b change? Why?\n"
      ],
      "metadata": {
        "id": "LpV-f81cWFJV"
      }
    },
    {
      "cell_type": "code",
      "source": [],
      "metadata": {
        "id": "B7tpW10NabsQ"
      },
      "execution_count": null,
      "outputs": []
    },
    {
      "cell_type": "markdown",
      "source": [
        "**13. Undeclared Variable:**\n",
        "\n",
        "Try printing a variable unknown without assigning it first.\n",
        "\n",
        "What error do you get?\n",
        "\n",
        "Fix it by assigning unknown = 42 and reprint.\n"
      ],
      "metadata": {
        "id": "XV6YnuhXWNtI"
      }
    },
    {
      "cell_type": "code",
      "source": [],
      "metadata": {
        "id": "BeduFuEUacC6"
      },
      "execution_count": null,
      "outputs": []
    },
    {
      "cell_type": "markdown",
      "source": [
        "**14. Dynamic Typing:**\n",
        "\n",
        "Assign value = \"Hello\".\n",
        "\n",
        "Print type(value).\n",
        "\n",
        "Reassign value = 100.\n",
        "\n",
        "Print type(value) again.\n",
        "\n",
        "Explain the output.\n"
      ],
      "metadata": {
        "id": "fZjyKcymWWgm"
      }
    },
    {
      "cell_type": "code",
      "source": [],
      "metadata": {
        "id": "2-Ejc3AQacZp"
      },
      "execution_count": null,
      "outputs": []
    },
    {
      "cell_type": "markdown",
      "source": [
        "**15. Assignment in Function:**\n",
        "\n",
        "Inside a function update_var, assign global_x = 50 (use global if needed, but for now assume local).\n",
        "\n",
        "Call the function and print global_x outside.\n",
        "\n",
        "What happens? (Hint: Scope issue.)\n"
      ],
      "metadata": {
        "id": "nvbsQU6EWgpG"
      }
    },
    {
      "cell_type": "code",
      "source": [],
      "metadata": {
        "id": "pTzRiLfUacv-"
      },
      "execution_count": null,
      "outputs": []
    },
    {
      "cell_type": "markdown",
      "source": [
        "**16. Integer and Float:**\n",
        "\n",
        "Assign i = 5 (int) and f = 5.0 (float).\n",
        "\n",
        "Print both and their types.\n",
        "\n",
        "Add them: result = i + f.\n",
        "\n",
        "What is type(result)?\n"
      ],
      "metadata": {
        "id": "jA4yxE16Wt7p"
      }
    },
    {
      "cell_type": "code",
      "source": [],
      "metadata": {
        "id": "rY-ZirhAadIV"
      },
      "execution_count": null,
      "outputs": []
    },
    {
      "cell_type": "markdown",
      "source": [
        "**17. Boolean Values:**\n",
        "\n",
        "Assign t = True and f = False.\n",
        "\n",
        "Print type(t).\n",
        "\n",
        "What is int(t)?\n",
        "\n",
        "What is bool(0)?\n"
      ],
      "metadata": {
        "id": "DvK3tB1VW3I7"
      }
    },
    {
      "cell_type": "code",
      "source": [],
      "metadata": {
        "id": "xPgFYn57adge"
      },
      "execution_count": null,
      "outputs": []
    },
    {
      "cell_type": "markdown",
      "source": [
        "**18. Complex Numbers:**\n",
        "\n",
        "Assign c = 3 + 5j.\n",
        "\n",
        "Print c, c.real, and c.imag.\n",
        "\n",
        "What are their types?\n"
      ],
      "metadata": {
        "id": "V2_qOKXdW-GB"
      }
    },
    {
      "cell_type": "code",
      "source": [],
      "metadata": {
        "id": "a5mLhZdsad4Z"
      },
      "execution_count": null,
      "outputs": []
    },
    {
      "cell_type": "markdown",
      "source": [
        "**19. Type Checking with type():**\n",
        "\n",
        "Assign num = 42.0.\n",
        "\n",
        "Check if type(num) is float (True) and type(num) is int (False).\n",
        "\n",
        "Print both results.\n"
      ],
      "metadata": {
        "id": "NlPCFS5BXDoL"
      }
    },
    {
      "cell_type": "code",
      "source": [],
      "metadata": {
        "id": "rB_cqHSnaePV"
      },
      "execution_count": null,
      "outputs": []
    },
    {
      "cell_type": "markdown",
      "source": [
        "**20. isinstance() Check:**\n",
        "\n",
        "For x = \"Python\", use isinstance(x, str) and print the result (True).\n",
        "\n",
        "Now for x = 3, check isinstance(x, (int, float)) (True).\n"
      ],
      "metadata": {
        "id": "LTLV1cTDXKpc"
      }
    },
    {
      "cell_type": "code",
      "source": [],
      "metadata": {
        "id": "KqU63glraelo"
      },
      "execution_count": null,
      "outputs": []
    },
    {
      "cell_type": "markdown",
      "source": [
        "**21. Import types Module:**\n",
        "\n",
        "Import types.\n",
        "\n",
        "Check if len (built-in) is types.BuiltinFunctionType (True).\n",
        "\n",
        "Define a simple function test_func() and check if it's types.FunctionType (True).\n"
      ],
      "metadata": {
        "id": "aD5qDue3XS7W"
      }
    },
    {
      "cell_type": "code",
      "source": [],
      "metadata": {
        "id": "XHNIzDDPae9v"
      },
      "execution_count": null,
      "outputs": []
    },
    {
      "cell_type": "markdown",
      "source": [
        "**22. Mixed Types:**\n",
        "\n",
        "Assign mixed = [1, 2.5, True, 1j].\n",
        "\n",
        "For each element, print the value and type(element).\n"
      ],
      "metadata": {
        "id": "YSo2pEeTXa-n"
      }
    },
    {
      "cell_type": "code",
      "source": [],
      "metadata": {
        "id": "pyOmvBJMafXH"
      },
      "execution_count": null,
      "outputs": []
    },
    {
      "cell_type": "markdown",
      "source": [
        "**23. Float to Int:**\n",
        "\n",
        "Assign f = 9.7.\n",
        "\n",
        "Print int(f) (9) and round(f) (10).\n",
        "\n",
        "Import math and print math.floor(f) (9) and math.ceil(f) (10).\n"
      ],
      "metadata": {
        "id": "Ls5o14SVXi6Z"
      }
    },
    {
      "cell_type": "code",
      "source": [],
      "metadata": {
        "id": "hhGqN7DkafuC"
      },
      "execution_count": null,
      "outputs": []
    },
    {
      "cell_type": "markdown",
      "source": [
        "**24. Int to Float:**\n",
        "\n",
        "Assign i = 7.\n",
        "\n",
        "Print float(i) (7.0) and its type.\n",
        "\n",
        "What is complex(i)?"
      ],
      "metadata": {
        "id": "k_2g5gLXXpaC"
      }
    },
    {
      "cell_type": "code",
      "source": [],
      "metadata": {
        "id": "Ay_HkRe0agFw"
      },
      "execution_count": null,
      "outputs": []
    },
    {
      "cell_type": "markdown",
      "source": [
        "**25. Bool Casting:**\n",
        "\n",
        "Assign zero = 0.\n",
        "\n",
        "Print bool(zero) (False).\n",
        "\n",
        "Assign one = 1.\n",
        "\n",
        "Print bool(one) (True).\n",
        "\n",
        "What is bool([]) (empty list, False)?\n"
      ],
      "metadata": {
        "id": "_K5TZ-VHXxY0"
      }
    },
    {
      "cell_type": "code",
      "source": [],
      "metadata": {
        "id": "gDc2udQtageQ"
      },
      "execution_count": null,
      "outputs": []
    },
    {
      "cell_type": "markdown",
      "source": [
        "**26. Arithmetic Operators:**\n",
        "\n",
        "Compute\n",
        "  - 10 // 3 (3),\n",
        "  - 10 / 3 (3.333...),\n",
        "  - 2 ** 4 (16)\n",
        "  - -5 % 3 (1).\n",
        "  \n",
        "Print all.\n"
      ],
      "metadata": {
        "id": "3wRCfNhjX72P"
      }
    },
    {
      "cell_type": "code",
      "source": [],
      "metadata": {
        "id": "Vt-4cPeMag3z"
      },
      "execution_count": null,
      "outputs": []
    },
    {
      "cell_type": "markdown",
      "source": [
        "**27. Boolean Operators:**\n",
        "\n",
        "Evaluate\n",
        "  - True and False (False)\n",
        "  - not True (False)\n",
        "  - ((True or False) and True) (True).\n",
        "  \n",
        "Print each.\n"
      ],
      "metadata": {
        "id": "QM47d3nIYIIk"
      }
    },
    {
      "cell_type": "code",
      "source": [],
      "metadata": {
        "id": "6iQqYO58ahOW"
      },
      "execution_count": null,
      "outputs": []
    },
    {
      "cell_type": "markdown",
      "source": [
        "**28. Comparisons:**\n",
        "\n",
        "For a = 5, b = 5.0, check\n",
        "  - a == b (True)\n",
        "  - a is b (False)\n",
        "  - a > b (False).\n",
        "  \n",
        "Explain == vs is.\n"
      ],
      "metadata": {
        "id": "3tDN9cqNYeY6"
      }
    },
    {
      "cell_type": "code",
      "source": [],
      "metadata": {
        "id": "IQTbwrQKahmE"
      },
      "execution_count": null,
      "outputs": []
    },
    {
      "cell_type": "markdown",
      "source": [
        "**29. Chained Comparisons:**\n",
        "\n",
        "Check 1 < 2 <= 2 < 3 (True).\n",
        "\n",
        "Check 1 <= 1 == 1 (True).\n",
        "\n",
        "Print both.\n"
      ],
      "metadata": {
        "id": "hUmUXLvCYprW"
      }
    },
    {
      "cell_type": "code",
      "source": [],
      "metadata": {
        "id": "5VQdifOoaiAd"
      },
      "execution_count": null,
      "outputs": []
    },
    {
      "cell_type": "markdown",
      "source": [
        "**30. Floating Point Precision in Comparisons:**\n",
        "\n",
        "Evaluate the expression 0.1 + 0.2 == 0.3.\n",
        "\n",
        "What is the result, and why is it not True? (Hint: Floating-point arithmetic limitations.)\n",
        "\n",
        "Import the math module and use math.isclose(0.1 + 0.2, 0.3) to check approximate equality.\n",
        "\n",
        "Print both results and explain the difference.\n",
        "\n",
        "Expected: First prints False; second prints True."
      ],
      "metadata": {
        "id": "RpjE1pB8Y8We"
      }
    },
    {
      "cell_type": "code",
      "source": [],
      "metadata": {
        "id": "_Ro5JcAlaiYW"
      },
      "execution_count": null,
      "outputs": []
    }
  ]
}