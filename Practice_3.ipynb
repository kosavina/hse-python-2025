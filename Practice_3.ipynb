{
  "nbformat": 4,
  "nbformat_minor": 0,
  "metadata": {
    "colab": {
      "provenance": []
    },
    "kernelspec": {
      "name": "python3",
      "display_name": "Python 3"
    },
    "language_info": {
      "name": "python"
    }
  },
  "cells": [
    {
      "cell_type": "markdown",
      "source": [
        "## Practice 3 (18 Oct 2025)\n",
        "\n",
        "[![Open In Colab](https://colab.research.google.com/assets/colab-badge.svg)](https://colab.research.google.com/github/kosavina/hse-python-2025/blob/main/Practice_3.ipynb)"
      ],
      "metadata": {
        "id": "GrAM4nmufGah"
      }
    },
    {
      "cell_type": "markdown",
      "source": [
        "1. Write a function `check_eligibility(age, income, has_license)` that returns \"Eligible for loan\" if the person is at least 21 years old, has an income over 40000, and has a license (True). If age is under 21 but income is over 60000 and has license, return \"Eligible with high income\". Otherwise, return \"Not eligible\"."
      ],
      "metadata": {
        "id": "6FGNfg1nfU2Q"
      }
    },
    {
      "cell_type": "code",
      "source": [],
      "metadata": {
        "id": "CZFZxYq0fgM0"
      },
      "execution_count": null,
      "outputs": []
    },
    {
      "cell_type": "markdown",
      "source": [
        "2. Create a function classify_number(n) that checks if n is positive, negative, or zero. If positive, further classify if it's even or odd. Return a string like \"Positive even\", \"Positive odd\", \"Negative\", or \"Zero\"."
      ],
      "metadata": {
        "id": "nHxp1KjIh4g2"
      }
    },
    {
      "cell_type": "code",
      "source": [],
      "metadata": {
        "id": "_99oHXHih5aZ"
      },
      "execution_count": null,
      "outputs": []
    },
    {
      "cell_type": "markdown",
      "source": [
        "3. Write a while loop that starts with num = 1 and doubles it each iteration until it exceeds 1000. Count how many doublings occur and print the count and final number."
      ],
      "metadata": {
        "id": "vdwET2Xth5yE"
      }
    },
    {
      "cell_type": "code",
      "source": [],
      "metadata": {
        "id": "Yetz1F64h77i"
      },
      "execution_count": null,
      "outputs": []
    },
    {
      "cell_type": "markdown",
      "source": [
        "4. Using a for loop over range(1, 20), print numbers that are multiples of 3 but skip multiples of 6, and stop the loop if a number greater than 15 is encountered."
      ],
      "metadata": {
        "id": "vcQLp63ph8OU"
      }
    },
    {
      "cell_type": "code",
      "source": [],
      "metadata": {
        "id": "BytTHkqGh-Lj"
      },
      "execution_count": null,
      "outputs": []
    },
    {
      "cell_type": "markdown",
      "source": [
        "5. Write a for loop to check if a list [2, 4, 6, 8, 10] contains any odd number. If no odd numbers are found (no break), print \"All even\" in the else clause. Use break if an odd is found."
      ],
      "metadata": {
        "id": "guZhGRKzh-gZ"
      }
    },
    {
      "cell_type": "code",
      "source": [],
      "metadata": {
        "id": "Y7anQGchiBHD"
      },
      "execution_count": null,
      "outputs": []
    },
    {
      "cell_type": "markdown",
      "source": [
        "6. Implement a while loop that counts from 1 to 10, but use pass as a placeholder for numbers divisible by 3 (do nothing), and print others."
      ],
      "metadata": {
        "id": "DhQPCb1diBad"
      }
    },
    {
      "cell_type": "code",
      "source": [],
      "metadata": {
        "id": "4nyyp4wPiDmK"
      },
      "execution_count": null,
      "outputs": []
    },
    {
      "cell_type": "markdown",
      "source": [
        "7. Use map to create a list of sums from two lists: [1, 2, 3] and [4, 5, 6], but only if both numbers are even (use a lambda that checks and sums or returns 0)."
      ],
      "metadata": {
        "id": "9xaO1t5_iD6w"
      }
    },
    {
      "cell_type": "code",
      "source": [],
      "metadata": {
        "id": "HlgCX9g_iF-i"
      },
      "execution_count": null,
      "outputs": []
    },
    {
      "cell_type": "markdown",
      "source": [
        "8. Define a function is_prime(n) and use filter to get all prime numbers from a list [2, 3, 4, 5, 6, 7, 8, 9, 10]."
      ],
      "metadata": {
        "id": "5CWdgBnciJNS"
      }
    },
    {
      "cell_type": "code",
      "source": [],
      "metadata": {
        "id": "NMyXxkdKiLI-"
      },
      "execution_count": null,
      "outputs": []
    },
    {
      "cell_type": "markdown",
      "source": [
        "9. Use reduce from functools to compute the product of all numbers in [1, 2, 3, 4] starting with an initializer of 1."
      ],
      "metadata": {
        "id": "JTrjpsMSiLby"
      }
    },
    {
      "cell_type": "code",
      "source": [],
      "metadata": {
        "id": "cDCf4AvviOag"
      },
      "execution_count": null,
      "outputs": []
    },
    {
      "cell_type": "markdown",
      "source": [
        "10. From a list [1, 2, 3, 4, 5, 6], filter even numbers, map to their cubes, then reduce to sum them."
      ],
      "metadata": {
        "id": "fLOOqiTSiOqw"
      }
    },
    {
      "cell_type": "code",
      "source": [],
      "metadata": {
        "id": "gd7OONrUiRWN"
      },
      "execution_count": null,
      "outputs": []
    },
    {
      "cell_type": "markdown",
      "source": [
        "11. Create a list comprehension that generates squares of numbers from 1 to 10, but only include those whose square ends with 6 (check square % 10 == 6)."
      ],
      "metadata": {
        "id": "CkY2emwaiRtR"
      }
    },
    {
      "cell_type": "code",
      "source": [],
      "metadata": {
        "id": "YYyJ2O9oiU7t"
      },
      "execution_count": null,
      "outputs": []
    },
    {
      "cell_type": "markdown",
      "source": [
        "12. From a list [\"apple\", \"banana\", \"cherry\"], create a dictionary where keys are words and values are their vowel counts (a, e, i, o, u)."
      ],
      "metadata": {
        "id": "1krXLKAGiVRm"
      }
    },
    {
      "cell_type": "code",
      "source": [],
      "metadata": {
        "id": "7rmWraznib1H"
      },
      "execution_count": null,
      "outputs": []
    },
    {
      "cell_type": "markdown",
      "source": [
        "13. From a list [1, 2, 2, 3, 4, 4, 5], use set comprehension to get unique even numbers squared."
      ],
      "metadata": {
        "id": "M3d97hYBicOO"
      }
    },
    {
      "cell_type": "code",
      "source": [],
      "metadata": {
        "id": "GA0hSxmQiefv"
      },
      "execution_count": null,
      "outputs": []
    },
    {
      "cell_type": "markdown",
      "source": [
        "14. Use a generator expression in tuple() to create a tuple of factorials for numbers 1 to 5 (factorial can be computed with a loop or math.factorial, but implement simply)."
      ],
      "metadata": {
        "id": "zG0uXcvqie4I"
      }
    },
    {
      "cell_type": "code",
      "source": [],
      "metadata": {
        "id": "D9ZvOdBmigtO"
      },
      "execution_count": null,
      "outputs": []
    },
    {
      "cell_type": "markdown",
      "source": [
        "15. Create a Counter from [\"apple\", \"banana\", \"apple\"], then update it with [\"banana\", \"cherry\"], and get the two most common items."
      ],
      "metadata": {
        "id": "K_yl2D4jig_m"
      }
    },
    {
      "cell_type": "code",
      "source": [],
      "metadata": {
        "id": "tAvQI16dijPi"
      },
      "execution_count": null,
      "outputs": []
    },
    {
      "cell_type": "markdown",
      "source": [
        "16. From a Counter {'a': 3, 'b': 2, 'c': 1}, generate a list of elements repeated by their counts using counter.elements()."
      ],
      "metadata": {
        "id": "fxfP3yd-ijjA"
      }
    },
    {
      "cell_type": "code",
      "source": [],
      "metadata": {
        "id": "9U4oiOMKilaR"
      },
      "execution_count": null,
      "outputs": []
    },
    {
      "cell_type": "markdown",
      "source": [
        "17. Write a function safe_divide(a, b) that divides a by b, catches ZeroDivisionError and returns \"Division by zero\", else returns the result, and finally prints \"Operation complete\"."
      ],
      "metadata": {
        "id": "wBSnC5IWil22"
      }
    },
    {
      "cell_type": "code",
      "source": [],
      "metadata": {
        "id": "IEqaGqSBir75"
      },
      "execution_count": null,
      "outputs": []
    },
    {
      "cell_type": "markdown",
      "source": [
        "18. In a try block, attempt to open a file \"nonexistent.txt\" and read it. Catch FileNotFoundError and print \"File not found\", catch any other exception as \"Unknown error\", and use else to print the content if successful."
      ],
      "metadata": {
        "id": "dtOmPG0hisXM"
      }
    },
    {
      "cell_type": "code",
      "source": [],
      "metadata": {
        "id": "Dochzf2Oiuhr"
      },
      "execution_count": null,
      "outputs": []
    },
    {
      "cell_type": "markdown",
      "source": [
        "19. Write a function validate_age(age) that raises a ValueError if age < 18, otherwise returns \"Valid\". Handle the exception and return \"Invalid age\"."
      ],
      "metadata": {
        "id": "iVvqojzTiu6B"
      }
    },
    {
      "cell_type": "code",
      "source": [],
      "metadata": {
        "id": "-m7Ygp20iyU7"
      },
      "execution_count": null,
      "outputs": []
    },
    {
      "cell_type": "markdown",
      "source": [
        "20. Use a list comprehension to flatten a nested list [[1, 2], [3, 4], [5]] into a single list of numbers greater than 2."
      ],
      "metadata": {
        "id": "6AwxqNIuiymR"
      }
    },
    {
      "cell_type": "code",
      "source": [],
      "metadata": {
        "id": "akaZZAayi2Jc"
      },
      "execution_count": null,
      "outputs": []
    }
  ]
}