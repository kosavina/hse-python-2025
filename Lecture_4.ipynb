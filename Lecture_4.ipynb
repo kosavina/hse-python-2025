{
  "cells": [
    {
      "cell_type": "markdown",
      "source": [
        "# Lecture 4 (25 Oct 2025)\n",
        "\n",
        "[![Open In Colab](https://colab.research.google.com/assets/colab-badge.svg)](https://colab.research.google.com/github/kosavina/hse-python-2025/blob/main/Lecture_4.ipynb)"
      ],
      "metadata": {
        "id": "hAqFLSwM5nIV"
      },
      "id": "hAqFLSwM5nIV"
    },
    {
      "cell_type": "markdown",
      "metadata": {
        "id": "bf02826b-e527-43b4-a42d-1577c070e3ba"
      },
      "source": [
        "## [Numpy](https://numpy.org/doc/stable/user/index.html)"
      ],
      "id": "bf02826b-e527-43b4-a42d-1577c070e3ba"
    },
    {
      "cell_type": "markdown",
      "metadata": {
        "id": "61e9f793-d834-4362-bd11-47754caa6fd0"
      },
      "source": [
        "To use Numpy, we first need to import the `numpy` package. By convention, we import it using the alias `np`. Then, when we want to use modules or functions in this library, we preface them with `np.`"
      ],
      "id": "61e9f793-d834-4362-bd11-47754caa6fd0"
    },
    {
      "cell_type": "code",
      "execution_count": null,
      "metadata": {
        "id": "03ba5ce8-938d-4219-8237-3e08291c2318"
      },
      "outputs": [],
      "source": [
        "import numpy as np"
      ],
      "id": "03ba5ce8-938d-4219-8237-3e08291c2318"
    },
    {
      "cell_type": "markdown",
      "metadata": {
        "id": "190fe0ab-4ee6-459d-8492-c816258b0286"
      },
      "source": [
        "### Arrays and array construction"
      ],
      "id": "190fe0ab-4ee6-459d-8492-c816258b0286"
    },
    {
      "cell_type": "markdown",
      "metadata": {
        "id": "b86ed7e5-47cf-4dbc-a950-8d6b3ad52f57"
      },
      "source": [
        "A numpy array is a grid of values, all of the same type, and is indexed by a tuple of nonnegative integers. The number of dimensions is the rank of the array; the shape of an array is a tuple of integers giving the size of the array along each dimension."
      ],
      "id": "b86ed7e5-47cf-4dbc-a950-8d6b3ad52f57"
    },
    {
      "cell_type": "markdown",
      "metadata": {
        "id": "0964684d-78c5-4619-8145-d224cffb1d8a"
      },
      "source": [
        "We can create a `numpy` array by passing a Python list to `np.array()`."
      ],
      "id": "0964684d-78c5-4619-8145-d224cffb1d8a"
    },
    {
      "cell_type": "code",
      "execution_count": null,
      "metadata": {
        "id": "8e173212-5a79-437b-a7b6-5346e439de82"
      },
      "outputs": [],
      "source": [
        "a = np.array([1, 2, 3])  # Create a rank 1 array"
      ],
      "id": "8e173212-5a79-437b-a7b6-5346e439de82"
    },
    {
      "cell_type": "markdown",
      "metadata": {
        "id": "eb5aac84-6891-446a-9a67-d5f4309f2ba6"
      },
      "source": [
        "This creates the array we can see on the right here:\n",
        "\n",
        "![](http://jalammar.github.io/images/numpy/create-numpy-array-1.png)"
      ],
      "id": "eb5aac84-6891-446a-9a67-d5f4309f2ba6"
    },
    {
      "cell_type": "code",
      "source": [
        "print(id(a), type(a), a.shape, a[0], a[1], a[2])"
      ],
      "metadata": {
        "id": "S-cCG5a789gD"
      },
      "id": "S-cCG5a789gD",
      "execution_count": null,
      "outputs": []
    },
    {
      "cell_type": "code",
      "execution_count": null,
      "metadata": {
        "id": "a5dd201a-213d-417a-8542-e32ceb55a687"
      },
      "outputs": [],
      "source": [
        "a[0] = 5                 # Change an element of the array\n",
        "print(id(a), a)"
      ],
      "id": "a5dd201a-213d-417a-8542-e32ceb55a687"
    },
    {
      "cell_type": "markdown",
      "metadata": {
        "id": "234030fa-8140-4f6e-8b8e-2a94ad931778"
      },
      "source": [
        "To create a `numpy` array with more dimensions, we can pass nested lists, like this:\n",
        "\n",
        "![](http://jalammar.github.io/images/numpy/numpy-array-create-2d.png)\n",
        "\n",
        "![](http://jalammar.github.io/images/numpy/numpy-3d-array.png)"
      ],
      "id": "234030fa-8140-4f6e-8b8e-2a94ad931778"
    },
    {
      "cell_type": "code",
      "execution_count": null,
      "metadata": {
        "id": "3ff3db12-c0d1-4895-8ba7-200bbdf41d0f"
      },
      "outputs": [],
      "source": [
        "b = np.array(\n",
        "    [\n",
        "        [1, 2],\n",
        "        [3, 4]\n",
        "    ]\n",
        ") # Create a rank 2 array\n",
        "print(b)"
      ],
      "id": "3ff3db12-c0d1-4895-8ba7-200bbdf41d0f"
    },
    {
      "cell_type": "code",
      "execution_count": null,
      "metadata": {
        "id": "3898a66e-cde5-4749-980c-f72e5e453a10"
      },
      "outputs": [],
      "source": [
        "print(b.shape)"
      ],
      "id": "3898a66e-cde5-4749-980c-f72e5e453a10"
    },
    {
      "cell_type": "markdown",
      "metadata": {
        "id": "59994140-982d-44d4-b735-c368cf11ab8c"
      },
      "source": [
        "There are often cases when we want numpy to initialize the values of the array for us. numpy provides methods like `ones()`, `zeros()`, and `random.random()` for these cases. We just pass them the number of elements we want it to generate:\n",
        "\n",
        "![](http://jalammar.github.io/images/numpy/create-numpy-array-ones-zeros-random.png)"
      ],
      "id": "59994140-982d-44d4-b735-c368cf11ab8c"
    },
    {
      "cell_type": "markdown",
      "metadata": {
        "id": "f5cd30f4-91ac-421a-b25a-8cfbddb518c7"
      },
      "source": [
        "We can also use these methods to produce multi-dimensional arrays, as long as we pass them a tuple describing the dimensions of the matrix we want to create:\n",
        "\n",
        "![](http://jalammar.github.io/images/numpy/numpy-matrix-ones-zeros-random.png)\n",
        "\n",
        "![](http://jalammar.github.io/images/numpy/numpy-3d-array-creation.png)"
      ],
      "id": "f5cd30f4-91ac-421a-b25a-8cfbddb518c7"
    },
    {
      "cell_type": "markdown",
      "metadata": {
        "id": "735fccf7-462b-4091-9c87-d1ea8add559c"
      },
      "source": [
        "Sometimes, we need an array of a specific shape with “placeholder” values that we plan to fill in with the result of a computation. The `zeros` or `ones` functions are handy for this:"
      ],
      "id": "735fccf7-462b-4091-9c87-d1ea8add559c"
    },
    {
      "cell_type": "code",
      "execution_count": null,
      "metadata": {
        "id": "61dddfaf-a5eb-4d3d-a59d-85ea7e18d71a"
      },
      "outputs": [],
      "source": [
        "a = np.zeros((2, 2))  # Create an array of all zeros\n",
        "print(a)"
      ],
      "id": "61dddfaf-a5eb-4d3d-a59d-85ea7e18d71a"
    },
    {
      "cell_type": "code",
      "execution_count": null,
      "metadata": {
        "id": "aab64565-d940-42ae-915b-58c564384d48"
      },
      "outputs": [],
      "source": [
        "b = np.ones((1, 2)) # Create an array of all ones\n",
        "print(b)"
      ],
      "id": "aab64565-d940-42ae-915b-58c564384d48"
    },
    {
      "cell_type": "code",
      "execution_count": null,
      "metadata": {
        "id": "121ece5c-b965-44a1-9643-44c4b29e1c5a"
      },
      "outputs": [],
      "source": [
        "c = np.full((2, 2), 7)  # Create a constant array\n",
        "print(c)"
      ],
      "id": "121ece5c-b965-44a1-9643-44c4b29e1c5a"
    },
    {
      "cell_type": "code",
      "execution_count": null,
      "metadata": {
        "id": "70627e5f-197d-46cf-984e-dfba32277650"
      },
      "outputs": [],
      "source": [
        "d = np.eye(4) # Create a 2x2 identity matrix\n",
        "print(d)"
      ],
      "id": "70627e5f-197d-46cf-984e-dfba32277650"
    },
    {
      "cell_type": "code",
      "execution_count": null,
      "metadata": {
        "id": "6f0c09f0-3894-47fd-a349-4ecc04fb9aad"
      },
      "outputs": [],
      "source": [
        "e = np.random.random((2, 2))  # Create an array filled with random values\n",
        "print(e)"
      ],
      "id": "6f0c09f0-3894-47fd-a349-4ecc04fb9aad"
    },
    {
      "cell_type": "code",
      "source": [
        "help(np.random.random)"
      ],
      "metadata": {
        "id": "ht9nqqdQ_9Tl"
      },
      "id": "ht9nqqdQ_9Tl",
      "execution_count": null,
      "outputs": []
    },
    {
      "cell_type": "markdown",
      "metadata": {
        "id": "64c38479-b55e-4dfc-8474-90d4782c0722"
      },
      "source": [
        "Numpy also has two useful functions for creating sequences of numbers: `arange` and `linspace`.\n",
        "\n",
        "The `arange` function accepts three arguments, which define the start value, stop value of a half-open interval, and step size. (The default step size, if not explicitly specified, is 1; the default start value, if not explicitly specified, is 0.)\n",
        "\n",
        "The `linspace` function is similar, but we can specify the number of values instead of the step size, and it will create a sequence of evenly spaced values."
      ],
      "id": "64c38479-b55e-4dfc-8474-90d4782c0722"
    },
    {
      "cell_type": "code",
      "source": [
        "%%time\n",
        "\n",
        "np.array(range(int(1.e8)))"
      ],
      "metadata": {
        "id": "JA209YVVhlbO"
      },
      "id": "JA209YVVhlbO",
      "execution_count": null,
      "outputs": []
    },
    {
      "cell_type": "code",
      "source": [
        "%%time\n",
        "\n",
        "np.arange(1.e8)"
      ],
      "metadata": {
        "id": "bXceIgOciHhO"
      },
      "id": "bXceIgOciHhO",
      "execution_count": null,
      "outputs": []
    },
    {
      "cell_type": "code",
      "execution_count": null,
      "metadata": {
        "id": "1c6208b2-5503-4fb0-9902-439bf83df7b0"
      },
      "outputs": [],
      "source": [
        "f = np.arange(5, 10, 0.55)   # Create an array of values starting at 10 in increments of 5\n",
        "print(f)"
      ],
      "id": "1c6208b2-5503-4fb0-9902-439bf83df7b0"
    },
    {
      "cell_type": "markdown",
      "metadata": {
        "id": "9d78987c-9542-4ecf-8ce5-153be2bc29a2"
      },
      "source": [
        "Note this ends on 45, not 50 (does not include the top end of the interval)."
      ],
      "id": "9d78987c-9542-4ecf-8ce5-153be2bc29a2"
    },
    {
      "cell_type": "code",
      "execution_count": null,
      "metadata": {
        "id": "9e23b524-d187-4da2-bc91-6fb6ea401764"
      },
      "outputs": [],
      "source": [
        "g = np.linspace(0., 1., num=1)\n",
        "print(g)"
      ],
      "id": "9e23b524-d187-4da2-bc91-6fb6ea401764"
    },
    {
      "cell_type": "code",
      "source": [
        "def f(x):\n",
        "  return x ** 2\n",
        "\n",
        "import seaborn as sns\n",
        "\n",
        "n_pts = 1\n",
        "x = np.linspace(0, 1, num=n_pts)\n",
        "sns.lineplot(x=x, y=f(x))"
      ],
      "metadata": {
        "id": "5Vh1ulhpi8YV"
      },
      "id": "5Vh1ulhpi8YV",
      "execution_count": null,
      "outputs": []
    },
    {
      "cell_type": "markdown",
      "metadata": {
        "id": "4a46dbd6-7be1-4cff-99b0-0fa9727e638f"
      },
      "source": [
        "Sometimes, we may want to construct an array from existing arrays by “stacking” the existing arrays, either vertically or horizontally. We can use `vstack()` (or `row_stack`) and `hstack()` (or `column_stack`), respectively."
      ],
      "id": "4a46dbd6-7be1-4cff-99b0-0fa9727e638f"
    },
    {
      "cell_type": "code",
      "execution_count": null,
      "metadata": {
        "id": "8f18be1e-aaf6-4434-83fd-beb4a5f12375"
      },
      "outputs": [],
      "source": [
        "a = np.array([1, 2, 3])\n",
        "b = np.array([4, 5, 6])\n"
      ],
      "id": "8f18be1e-aaf6-4434-83fd-beb4a5f12375"
    },
    {
      "cell_type": "code",
      "source": [
        "np.vstack((a, b))"
      ],
      "metadata": {
        "id": "iaeK4hUQeSIA"
      },
      "id": "iaeK4hUQeSIA",
      "execution_count": null,
      "outputs": []
    },
    {
      "cell_type": "code",
      "source": [
        "np.hstack((a, b))"
      ],
      "metadata": {
        "id": "wLC7UPX2eaG_"
      },
      "id": "wLC7UPX2eaG_",
      "execution_count": null,
      "outputs": []
    },
    {
      "cell_type": "code",
      "source": [
        "a[None, :].shape"
      ],
      "metadata": {
        "id": "LgEwIh0Nf0wh"
      },
      "id": "LgEwIh0Nf0wh",
      "execution_count": null,
      "outputs": []
    },
    {
      "cell_type": "code",
      "source": [
        "np.stack((a[None, :], b[None, :]), axis=1).shape"
      ],
      "metadata": {
        "id": "p2-pAzwTecic"
      },
      "id": "p2-pAzwTecic",
      "execution_count": null,
      "outputs": []
    },
    {
      "cell_type": "code",
      "execution_count": null,
      "metadata": {
        "id": "1b2c6801-7af0-4b5d-a6cc-8e95997c50b4"
      },
      "outputs": [],
      "source": [
        "a = np.array([[7], [8], [9]])\n",
        "b = np.array([[4], [5], [6]])\n",
        "np.hstack((a,b))"
      ],
      "id": "1b2c6801-7af0-4b5d-a6cc-8e95997c50b4"
    },
    {
      "cell_type": "markdown",
      "metadata": {
        "id": "e5fcad1c-e41e-49cf-b525-d1346167594a"
      },
      "source": [
        "### Array indexing"
      ],
      "id": "e5fcad1c-e41e-49cf-b525-d1346167594a"
    },
    {
      "cell_type": "markdown",
      "metadata": {
        "id": "83f93d78-5e62-45d1-a37f-3083dd808190"
      },
      "source": [
        "Numpy offers several ways to index into arrays."
      ],
      "id": "83f93d78-5e62-45d1-a37f-3083dd808190"
    },
    {
      "cell_type": "markdown",
      "metadata": {
        "id": "054e77f3-7369-426c-99ee-79ef4ad3252a"
      },
      "source": [
        "We can index and slice numpy arrays in all the ways we can slice Python lists:\n",
        "\n",
        "![](http://jalammar.github.io/images/numpy/numpy-array-slice.png)\n",
        "\n",
        "And you can index and slice numpy arrays in multiple dimensions. If slicing an array with more than one dimension, you should specify a slice for each dimension:\n",
        "\n",
        "![](http://jalammar.github.io/images/numpy/numpy-matrix-indexing.png)"
      ],
      "id": "054e77f3-7369-426c-99ee-79ef4ad3252a"
    },
    {
      "cell_type": "markdown",
      "source": [
        "Create the following rank 2 array with shape (3, 4)\n",
        "```python\n",
        "[[ 1  2  3  4]\n",
        " [ 5  6  7  8]\n",
        " [ 9 10 11 12]]\n",
        "```\n",
        "\n",
        "Use slicing to pull out the subarray consisting of the first 2 rows and columns 1 and 2;\n",
        "\n",
        "b is the following array of shape (2, 2):\n",
        "```python\n",
        "[[2 3]\n",
        " [6 7]]\n",
        "```"
      ],
      "metadata": {
        "id": "VTKuDlO2g4y2"
      },
      "id": "VTKuDlO2g4y2"
    },
    {
      "cell_type": "code",
      "execution_count": null,
      "metadata": {
        "id": "d94de2b0-983c-45ca-b36c-524a2db3a32c"
      },
      "outputs": [],
      "source": [
        "a = np.array(\n",
        "    [\n",
        "        [1, 2, 3, 4],\n",
        "        [5, 6, 7, 8],\n",
        "        [9, 10, 11, 12]\n",
        "    ]\n",
        ")\n",
        "print(a)\n",
        "\n",
        "b = a[:2, 1:3]\n",
        "print(b)"
      ],
      "id": "d94de2b0-983c-45ca-b36c-524a2db3a32c"
    },
    {
      "cell_type": "markdown",
      "metadata": {
        "id": "fadca993-9d2e-4dde-9388-6415fadeef98"
      },
      "source": [
        "A slice of an array is a view into the same data, so modifying it will modify the original array."
      ],
      "id": "fadca993-9d2e-4dde-9388-6415fadeef98"
    },
    {
      "cell_type": "code",
      "execution_count": null,
      "metadata": {
        "id": "1041b4a5-4e49-4119-917e-615561fcf570"
      },
      "outputs": [],
      "source": [
        "print(a[0, 1])\n",
        "b[0, 0] = 77    # b[0, 0] is the same piece of data as a[0, 1]\n",
        "print(a[0, 1])"
      ],
      "id": "1041b4a5-4e49-4119-917e-615561fcf570"
    },
    {
      "cell_type": "markdown",
      "metadata": {
        "id": "995e2a9c-2f80-469e-a40c-76a1d94a5841"
      },
      "source": [
        "You can also mix integer indexing with slice indexing. However, doing so will yield an array of lower rank than the original array. Note that this is quite different from the way that MATLAB handles array slicing:"
      ],
      "id": "995e2a9c-2f80-469e-a40c-76a1d94a5841"
    },
    {
      "cell_type": "code",
      "execution_count": null,
      "metadata": {
        "id": "b608b60c-5379-497f-9e11-d8f2caf05c55"
      },
      "outputs": [],
      "source": [
        "a = np.array(\n",
        "    [\n",
        "        [1, 2, 3, 4],\n",
        "        [5, 6, 7, 8],\n",
        "        [9, 10, 11, 12]\n",
        "    ]\n",
        ")\n",
        "print(a)"
      ],
      "id": "b608b60c-5379-497f-9e11-d8f2caf05c55"
    },
    {
      "cell_type": "markdown",
      "metadata": {
        "id": "58f38253-463c-48d0-a702-3ddf94120629"
      },
      "source": [
        "Two ways of accessing the data in the middle row of the array. Mixing integer indexing with slices yields an array of lower rank, while using only slices yields an array of the same rank as the original array:"
      ],
      "id": "58f38253-463c-48d0-a702-3ddf94120629"
    },
    {
      "cell_type": "code",
      "execution_count": null,
      "metadata": {
        "id": "0c3dd6e7-04b8-4f7a-b233-117cde5e2b4e"
      },
      "outputs": [],
      "source": [
        "row_r1 = a[1, :]    # Rank 1 view of the second row of a\n",
        "row_r2 = a[1:2, :]  # Rank 2 view of the second row of a\n",
        "row_r3 = a[[1], :]  # Rank 2 view of the second row of a\n",
        "print(row_r1, row_r1.shape)\n",
        "print(row_r2, row_r2.shape)\n",
        "print(row_r3, row_r3.shape)"
      ],
      "id": "0c3dd6e7-04b8-4f7a-b233-117cde5e2b4e"
    },
    {
      "cell_type": "code",
      "execution_count": null,
      "metadata": {
        "id": "d1c9bb25-d326-454b-89e3-be5139149855"
      },
      "outputs": [],
      "source": [
        "# We can make the same distinction when accessing columns of an array:\n",
        "col_r1 = a[:, 1]\n",
        "col_r2 = a[:, 1:2]\n",
        "print(col_r1, col_r1.shape)\n",
        "print(col_r2, col_r2.shape)"
      ],
      "id": "d1c9bb25-d326-454b-89e3-be5139149855"
    },
    {
      "cell_type": "markdown",
      "metadata": {
        "id": "a7835461-34e9-4437-8f9b-ad6b909de079"
      },
      "source": [
        "Integer array indexing: When you index into numpy arrays using slicing, the resulting array view will always be a subarray of the original array. In contrast, integer array indexing allows you to construct arbitrary arrays using the data from another array. Here is an example:"
      ],
      "id": "a7835461-34e9-4437-8f9b-ad6b909de079"
    },
    {
      "cell_type": "code",
      "execution_count": null,
      "metadata": {
        "id": "806d91e7-981a-4955-9e1b-ea0226eec00e"
      },
      "outputs": [],
      "source": [
        "a = np.array(\n",
        "    [\n",
        "        [1, 2],\n",
        "        [3, 4],\n",
        "        [5, 6],\n",
        "    ]\n",
        ")\n",
        "a\n"
      ],
      "id": "806d91e7-981a-4955-9e1b-ea0226eec00e"
    },
    {
      "cell_type": "code",
      "source": [
        "# An example of integer array indexing.\n",
        "# The returned array will have shape (3,) and\n",
        "print(a[[0, 1, 2], [0, 1, 0]])\n",
        "\n",
        "# The above example of integer array indexing is equivalent to this:\n",
        "print(np.array([a[0, 0], a[1, 1], a[2, 0]]))"
      ],
      "metadata": {
        "id": "21jLC8LduQ5_"
      },
      "id": "21jLC8LduQ5_",
      "execution_count": null,
      "outputs": []
    },
    {
      "cell_type": "code",
      "execution_count": null,
      "metadata": {
        "id": "07ae8f7b-ea13-4cfe-b26a-3fb6cdda4bdd"
      },
      "outputs": [],
      "source": [
        "# When using integer array indexing, you can reuse the same\n",
        "# element from the source array:\n",
        "print(a[[0, 0], [1, 1]])\n",
        "\n",
        "# Equivalent to the previous integer array indexing example\n",
        "print(np.array([a[0, 1], a[0, 1]]))"
      ],
      "id": "07ae8f7b-ea13-4cfe-b26a-3fb6cdda4bdd"
    },
    {
      "cell_type": "markdown",
      "metadata": {
        "id": "24ebdd61-2313-4aec-a02a-e4b898906ec5"
      },
      "source": [
        "One useful trick with integer array indexing is selecting or mutating one element from each row of a matrix:"
      ],
      "id": "24ebdd61-2313-4aec-a02a-e4b898906ec5"
    },
    {
      "cell_type": "code",
      "execution_count": null,
      "metadata": {
        "id": "1260ecb9-799c-4a08-8d77-5da2abc5db8f"
      },
      "outputs": [],
      "source": [
        "# Create a new array from which we will select elements\n",
        "a = np.array(\n",
        "    [\n",
        "        [1, 2, 3],\n",
        "        [4, 5, 6,],\n",
        "        [7, 8, 9],\n",
        "        [10, 11, 12]\n",
        "    ]\n",
        ")\n",
        "print(a)"
      ],
      "id": "1260ecb9-799c-4a08-8d77-5da2abc5db8f"
    },
    {
      "cell_type": "code",
      "execution_count": null,
      "metadata": {
        "id": "76d3c86a-3d03-423d-909b-09598b903965"
      },
      "outputs": [],
      "source": [
        "# Create an array of indices\n",
        "columns = np.array([0, 2, 0, 1])\n",
        "rows = np.array([0, 1, 2, 3])\n",
        "\n",
        "# Select one element from each row of a using the indices in b\n",
        "print(a[rows, columns])  # Prints \"[ 1  6  7 11]\""
      ],
      "id": "76d3c86a-3d03-423d-909b-09598b903965"
    },
    {
      "cell_type": "code",
      "execution_count": null,
      "metadata": {
        "id": "4a3a192e-ba4f-481e-92c5-2b625bcb2a80"
      },
      "outputs": [],
      "source": [
        "# Mutate one element from each row of a using the indices in b\n",
        "a[np.arange(4), columns] += 10\n",
        "print(a)"
      ],
      "id": "4a3a192e-ba4f-481e-92c5-2b625bcb2a80"
    },
    {
      "cell_type": "markdown",
      "metadata": {
        "id": "e61369aa-296b-428c-84df-54a0e3a69e31"
      },
      "source": [
        "Boolean array indexing: Boolean array indexing lets you pick out arbitrary elements of an array. Frequently this type of indexing is used to select the elements of an array that satisfy some condition. Here is an example:"
      ],
      "id": "e61369aa-296b-428c-84df-54a0e3a69e31"
    },
    {
      "cell_type": "code",
      "execution_count": null,
      "metadata": {
        "id": "92dd26a4-a2d2-4d0d-9d9a-6c9de8d4dbcd"
      },
      "outputs": [],
      "source": [
        "a = np.array(\n",
        "    [\n",
        "        [1, 2],\n",
        "        [3, 4],\n",
        "        [5, 6],\n",
        "    ]\n",
        ")\n",
        "print(a)\n",
        "bool_idx = (a > 2)\n",
        "print(bool_idx)"
      ],
      "id": "92dd26a4-a2d2-4d0d-9d9a-6c9de8d4dbcd"
    },
    {
      "cell_type": "code",
      "execution_count": null,
      "metadata": {
        "id": "52f31c05-406f-4c5d-ad25-212194c69cd0"
      },
      "outputs": [],
      "source": [
        "# We use boolean array indexing to construct a rank 1 array\n",
        "# consisting of the elements of a corresponding to the True values\n",
        "# of bool_idx\n",
        "# print(a[bool_idx])\n",
        "\n",
        "# We can do all of the above in a single concise statement:\n",
        "print(a[a > 2])"
      ],
      "id": "52f31c05-406f-4c5d-ad25-212194c69cd0"
    },
    {
      "cell_type": "markdown",
      "metadata": {
        "id": "ebb38476-c368-49d4-87cf-ac5c57c7eca8"
      },
      "source": [
        "When working with numpy arrays, it’s often helpful to get the *indices* (not only the values) of array elements that meet certain conditions. There are a few numpy functions that you’ll definitely want to remember:\n",
        "\n",
        "-   [`argmax`](https://numpy.org/doc/stable/reference/generated/numpy.argmax.html) (get index of maximum element in array)\n",
        "-   [`argmin`](https://numpy.org/doc/stable/reference/generated/numpy.argmin.html) (get index of minimum element in array)\n",
        "-   [`argsort`](https://numpy.org/doc/stable/reference/generated/numpy.argsort.html) (get sorted list of indices, by element value, in ascending order)\n",
        "-   [`where`](https://numpy.org/doc/stable/reference/generated/numpy.where.html) (get indices of elements that meet some condition)"
      ],
      "id": "ebb38476-c368-49d4-87cf-ac5c57c7eca8"
    },
    {
      "cell_type": "code",
      "source": [
        "a = np.array(\n",
        "    [\n",
        "        [1, 2, 3],\n",
        "        [4, 5, 6,],\n",
        "        [7, 8, 9],\n",
        "        [10, 11, 12]\n",
        "    ]\n",
        ")\n",
        "\n",
        "print(a)"
      ],
      "metadata": {
        "id": "2dy6kuwpw5nS"
      },
      "id": "2dy6kuwpw5nS",
      "execution_count": null,
      "outputs": []
    },
    {
      "cell_type": "code",
      "source": [
        "print(np.where(a > 5))"
      ],
      "metadata": {
        "id": "otkkJZJumAH0"
      },
      "id": "otkkJZJumAH0",
      "execution_count": null,
      "outputs": []
    },
    {
      "cell_type": "code",
      "source": [
        "a[np.where(a > 5)]"
      ],
      "metadata": {
        "id": "lGAgzt5SmDcY"
      },
      "id": "lGAgzt5SmDcY",
      "execution_count": null,
      "outputs": []
    },
    {
      "cell_type": "code",
      "source": [
        "a > 5"
      ],
      "metadata": {
        "id": "Yw1FOucoxS5h"
      },
      "id": "Yw1FOucoxS5h",
      "execution_count": null,
      "outputs": []
    },
    {
      "cell_type": "code",
      "execution_count": null,
      "metadata": {
        "id": "c26e1c0c-8c12-4df9-99cd-9614e36b64ae"
      },
      "outputs": [],
      "source": [
        "a = np.array([1, 8, 9, -3, 2, 4, 7, 9])\n",
        "\n",
        "# Get the index of the maximum element in a\n",
        "print(np.argmax(a))\n",
        "\n",
        "# Get the index of the minimum element in a\n",
        "# (this array has two elements with the maximum value -\n",
        "# only one index is returned)\n",
        "print(np.argmin(a))\n",
        "\n",
        "# Get sorted list of indices\n",
        "print(np.argsort(a))\n",
        "\n",
        "# Get sorted list of indices in descending order\n",
        "# [::-1] is a special slicing index that returns the reversed list\n",
        "print(np.argsort(a)[::-1])\n",
        "\n",
        "# Get indices of elements that meet some condition\n",
        "# this returns a tuple, the list of indices is the first entry\n",
        "# so we use [0] to get it\n",
        "print(np.where(a > 5)[0])\n",
        "\n",
        "# Get indices of elements that meet some condition\n",
        "# this example shows how to get the index of *all* the max values\n",
        "print(np.where(a >= a[np.argmax(a)])[0])"
      ],
      "id": "c26e1c0c-8c12-4df9-99cd-9614e36b64ae"
    },
    {
      "cell_type": "markdown",
      "metadata": {
        "id": "83e9e67d-6b7c-4b76-897a-ed48c3d578f9"
      },
      "source": [
        "For brevity we have left out a lot of details about numpy array indexing; if you want to know more you should read the documentation."
      ],
      "id": "83e9e67d-6b7c-4b76-897a-ed48c3d578f9"
    },
    {
      "cell_type": "markdown",
      "metadata": {
        "id": "7ab927d6-f7d6-4b6f-ad1d-60451d55b670"
      },
      "source": [
        "### Datatypes"
      ],
      "id": "7ab927d6-f7d6-4b6f-ad1d-60451d55b670"
    },
    {
      "cell_type": "markdown",
      "metadata": {
        "id": "3ccb9dea-1ee7-42e8-b5b9-a623fe7ab745"
      },
      "source": [
        "Every numpy array is a grid of elements of the same type. Numpy provides a large set of numeric datatypes that you can use to construct arrays. Numpy tries to guess a datatype when you create an array, but functions that construct arrays usually also include an optional argument to explicitly specify the datatype. Here is an example:"
      ],
      "id": "3ccb9dea-1ee7-42e8-b5b9-a623fe7ab745"
    },
    {
      "cell_type": "code",
      "execution_count": null,
      "metadata": {
        "id": "2b021a07-6390-4216-931d-06bf28a996dc"
      },
      "outputs": [],
      "source": [
        "x = np.array([1, 2])  # Let numpy choose the datatype\n",
        "y = np.array([1.0, 2.0])  # Let numpy choose the datatype\n",
        "z = np.array([1, 2], dtype=np.int32)  # Force a particular datatype\n",
        "\n",
        "print(x.dtype, y.dtype, z.dtype)"
      ],
      "id": "2b021a07-6390-4216-931d-06bf28a996dc"
    },
    {
      "cell_type": "markdown",
      "metadata": {
        "id": "cb3c901b-b344-400d-9e0f-b2fa70e28e4d"
      },
      "source": [
        "### Array math"
      ],
      "id": "cb3c901b-b344-400d-9e0f-b2fa70e28e4d"
    },
    {
      "cell_type": "markdown",
      "metadata": {
        "id": "2fea02dd-c4f7-4bd4-8006-9a2cb0c7cef2"
      },
      "source": [
        "What makes working with `numpy` so powerful and convenient is that it comes with many *vectorized* math functions for computation over elements of an array. These functions are highly optimized and are *very* fast - much, much faster than using an explicit `for` loop.\n",
        "\n",
        "For example, let’s create a large array of random values and then sum it both ways. We’ll use a `%%time` *cell magic* to time them."
      ],
      "id": "2fea02dd-c4f7-4bd4-8006-9a2cb0c7cef2"
    },
    {
      "cell_type": "code",
      "execution_count": null,
      "metadata": {
        "id": "92314cea-6001-4207-b40e-d0208a1597e2"
      },
      "outputs": [],
      "source": [
        "a = np.random.random(100_000_000)"
      ],
      "id": "92314cea-6001-4207-b40e-d0208a1597e2"
    },
    {
      "cell_type": "code",
      "source": [
        "a"
      ],
      "metadata": {
        "id": "Z381fvwiz2_H"
      },
      "id": "Z381fvwiz2_H",
      "execution_count": null,
      "outputs": []
    },
    {
      "cell_type": "code",
      "execution_count": null,
      "metadata": {
        "id": "33a4e0ed-340e-436c-882a-df2224c8af21"
      },
      "outputs": [],
      "source": [
        "%%time\n",
        "x = np.sum(a)"
      ],
      "id": "33a4e0ed-340e-436c-882a-df2224c8af21"
    },
    {
      "cell_type": "code",
      "execution_count": null,
      "metadata": {
        "id": "7252032c-bc87-4124-bb9d-0d2fada3e226"
      },
      "outputs": [],
      "source": [
        "%%time\n",
        "x = 0\n",
        "for element in a:\n",
        "  x = x + element"
      ],
      "id": "7252032c-bc87-4124-bb9d-0d2fada3e226"
    },
    {
      "cell_type": "markdown",
      "metadata": {
        "id": "c75990d9-6999-40a2-a0e3-e8207110676a"
      },
      "source": [
        "Look at the “Wall Time” in the output - note how much faster the vectorized version of the operation is! This type of fast computation is a major enabler of machine learning, which requires a *lot* of computation.\n",
        "\n",
        "Whenever possible, we will try to use these vectorized operations."
      ],
      "id": "c75990d9-6999-40a2-a0e3-e8207110676a"
    },
    {
      "cell_type": "markdown",
      "metadata": {
        "id": "b2120332-98ac-4685-9488-054a21ec141f"
      },
      "source": [
        "Some mathematic functions are available both as operator overloads and as functions in the numpy module."
      ],
      "id": "b2120332-98ac-4685-9488-054a21ec141f"
    },
    {
      "cell_type": "markdown",
      "metadata": {
        "id": "604243cf-4411-44a3-9b25-789631caf959"
      },
      "source": [
        "For example, you can perform an elementwise sum on two arrays using either the + operator or the `add()` function.\n",
        "\n",
        "![](http://jalammar.github.io/images/numpy/numpy-arrays-adding-1.png)\n",
        "\n",
        "![](http://jalammar.github.io/images/numpy/numpy-matrix-arithmetic.png)"
      ],
      "id": "604243cf-4411-44a3-9b25-789631caf959"
    },
    {
      "cell_type": "code",
      "source": [
        "a = [1, 2]\n",
        "b = [3, 4]\n",
        "c = [0, 0]\n",
        "for i in range(2):\n",
        "  c[i] = a[i] + b[i]\n",
        "\n",
        "c"
      ],
      "metadata": {
        "id": "rasZ4xu60Lay"
      },
      "id": "rasZ4xu60Lay",
      "execution_count": null,
      "outputs": []
    },
    {
      "cell_type": "code",
      "source": [
        "a + b"
      ],
      "metadata": {
        "id": "Qo_C2DIz0efJ"
      },
      "id": "Qo_C2DIz0efJ",
      "execution_count": null,
      "outputs": []
    },
    {
      "cell_type": "code",
      "execution_count": null,
      "metadata": {
        "id": "e6d49bb6-ebfe-4416-8a7f-c1f5b77e5e8a"
      },
      "outputs": [],
      "source": [
        "x = np.array([[1, 2], [3, 4]], dtype=np.float64)\n",
        "y = np.array([[5, 6], [7, 8]], dtype=np.float64)\n",
        "\n",
        "# Elementwise sum; both produce the array\n",
        "print(x + y)\n",
        "print(np.add(x, y))"
      ],
      "id": "e6d49bb6-ebfe-4416-8a7f-c1f5b77e5e8a"
    },
    {
      "cell_type": "markdown",
      "metadata": {
        "id": "66adf079-d0e8-4ceb-ae88-4e78447bb6d5"
      },
      "source": [
        "And this works for other operations as well, not only addition:\n",
        "\n",
        "![](http://jalammar.github.io/images/numpy/numpy-array-subtract-multiply-divide.png)"
      ],
      "id": "66adf079-d0e8-4ceb-ae88-4e78447bb6d5"
    },
    {
      "cell_type": "code",
      "execution_count": null,
      "metadata": {
        "id": "83178bc8-6909-42ad-af86-1a7a76516a4c"
      },
      "outputs": [],
      "source": [
        "# Elementwise difference; both produce the array\n",
        "print(x - y)\n",
        "print(np.subtract(x, y))"
      ],
      "id": "83178bc8-6909-42ad-af86-1a7a76516a4c"
    },
    {
      "cell_type": "code",
      "execution_count": null,
      "metadata": {
        "id": "3bbca1af-53ab-44d7-a9df-e5a69463f715"
      },
      "outputs": [],
      "source": [
        "# Elementwise product; both produce the array\n",
        "print(x * y)\n",
        "print(np.multiply(x, y))"
      ],
      "id": "3bbca1af-53ab-44d7-a9df-e5a69463f715"
    },
    {
      "cell_type": "code",
      "execution_count": null,
      "metadata": {
        "id": "e98baa36-56e0-4fdc-b371-ebe02e600e0f"
      },
      "outputs": [],
      "source": [
        "# Elementwise division; both produce the array\n",
        "# [[ 0.2         0.33333333]\n",
        "#  [ 0.42857143  0.5       ]]\n",
        "print(x / y)\n",
        "print(np.divide(x, y))"
      ],
      "id": "e98baa36-56e0-4fdc-b371-ebe02e600e0f"
    },
    {
      "cell_type": "code",
      "execution_count": null,
      "metadata": {
        "id": "226ebb2f-a24c-4f22-ae1c-d4c5302882a8"
      },
      "outputs": [],
      "source": [
        "# Elementwise square root; produces the array\n",
        "# [[ 1.          1.41421356]\n",
        "#  [ 1.73205081  2.        ]]\n",
        "print(np.sqrt(x))"
      ],
      "id": "226ebb2f-a24c-4f22-ae1c-d4c5302882a8"
    },
    {
      "cell_type": "markdown",
      "metadata": {
        "id": "d2125bff-5063-482e-97ac-f997665fe8a9"
      },
      "source": [
        "Note that unlike MATLAB, `*` is elementwise multiplication, not matrix multiplication. We instead use the `dot()` function to compute inner products of vectors, to multiply a vector by a matrix, and to multiply matrices. `dot()` is available both as a function in the numpy module and as an instance method of array objects:\n",
        "\n",
        "![](http://jalammar.github.io/images/numpy/numpy-matrix-dot-product-1.png)"
      ],
      "id": "d2125bff-5063-482e-97ac-f997665fe8a9"
    },
    {
      "cell_type": "code",
      "execution_count": null,
      "metadata": {
        "id": "6e8eaf91-4f6a-4c82-b2a9-b4ab9c840554"
      },
      "outputs": [],
      "source": [
        "x = np.array([[1, 2], [3, 4]])\n",
        "y = np.array([[5, 6], [7, 8]])\n",
        "\n",
        "v = np.array([9, 10])\n",
        "w = np.array([11, 12])\n",
        "\n",
        "# Inner product of vectors; both produce 219\n",
        "print(v.dot(w))\n",
        "print(np.dot(v, w))"
      ],
      "id": "6e8eaf91-4f6a-4c82-b2a9-b4ab9c840554"
    },
    {
      "cell_type": "markdown",
      "metadata": {
        "id": "15dfbf0b-74c0-4684-81a9-851d4ebabe6a"
      },
      "source": [
        "You can also use the `@` operator which is equivalent to numpy's `matmul` (and is similar to numpy's `dot`) operator."
      ],
      "id": "15dfbf0b-74c0-4684-81a9-851d4ebabe6a"
    },
    {
      "cell_type": "code",
      "source": [
        "v * w"
      ],
      "metadata": {
        "id": "hX-ZtSPY1Ikk"
      },
      "id": "hX-ZtSPY1Ikk",
      "execution_count": null,
      "outputs": []
    },
    {
      "cell_type": "code",
      "execution_count": null,
      "metadata": {
        "id": "d0168e19-0fbe-43fc-a561-43db3eab3e6a"
      },
      "outputs": [],
      "source": [
        "print(v @ w)"
      ],
      "id": "d0168e19-0fbe-43fc-a561-43db3eab3e6a"
    },
    {
      "cell_type": "code",
      "source": [
        "print(np.matmul(v, w))"
      ],
      "metadata": {
        "id": "FBzFLCc5rT_P"
      },
      "id": "FBzFLCc5rT_P",
      "execution_count": null,
      "outputs": []
    },
    {
      "cell_type": "code",
      "source": [
        "print(v.dot(w))"
      ],
      "metadata": {
        "id": "xQ-5xUz_rj0t"
      },
      "id": "xQ-5xUz_rj0t",
      "execution_count": null,
      "outputs": []
    },
    {
      "cell_type": "code",
      "execution_count": null,
      "metadata": {
        "id": "ed5a07e9-5e8c-4e92-9db6-9e0e7daf8e27"
      },
      "outputs": [],
      "source": [
        "# Matrix / vector product; both produce the rank 1 array [29 67]\n",
        "print(x.dot(v))\n",
        "print(np.dot(x, v))\n",
        "print(x @ v)"
      ],
      "id": "ed5a07e9-5e8c-4e92-9db6-9e0e7daf8e27"
    },
    {
      "cell_type": "code",
      "execution_count": null,
      "metadata": {
        "id": "e42300f0-be37-4c96-9d21-7c67cf06d370"
      },
      "outputs": [],
      "source": [
        "# Matrix / matrix product; both produce the rank 2 array\n",
        "# [[19 22]\n",
        "#  [43 50]]\n",
        "print(x.dot(y))\n",
        "print(np.dot(x, y))\n",
        "print(x @ y)"
      ],
      "id": "e42300f0-be37-4c96-9d21-7c67cf06d370"
    },
    {
      "cell_type": "markdown",
      "metadata": {
        "id": "df7ccfe0-587f-46e6-83c4-6a6cc38ff1ea"
      },
      "source": [
        "Besides for the functions that overload operators, Numpy also provides many useful functions for performing computations on arrays, such as `min()`, `max()`, `sum()`, and others:\n",
        "\n",
        "![](http://jalammar.github.io/images/numpy/numpy-matrix-aggregation-1.png)"
      ],
      "id": "df7ccfe0-587f-46e6-83c4-6a6cc38ff1ea"
    },
    {
      "cell_type": "code",
      "execution_count": null,
      "metadata": {
        "id": "66adf5e5-773e-48fd-aff1-b42cec7a0491"
      },
      "outputs": [],
      "source": [
        "x = np.array([[1, 2], [3, 4], [5, 6]])\n",
        "\n",
        "print(np.max(x))  # Compute max of all elements; prints \"6\"\n",
        "print(np.min(x))  # Compute min of all elements; prints \"1\"\n",
        "print(np.sum(x))  # Compute sum of all elements; prints \"21\""
      ],
      "id": "66adf5e5-773e-48fd-aff1-b42cec7a0491"
    },
    {
      "cell_type": "markdown",
      "metadata": {
        "id": "96121e02-4803-40ec-a8be-5c054519754d"
      },
      "source": [
        "Not only can we aggregate all the values in a matrix using these functions, but we can also aggregate across the rows or columns by using the `axis` parameter:\n",
        "\n",
        "![](http://jalammar.github.io/images/numpy/numpy-matrix-aggregation-4.png)"
      ],
      "id": "96121e02-4803-40ec-a8be-5c054519754d"
    },
    {
      "cell_type": "code",
      "source": [
        "x"
      ],
      "metadata": {
        "id": "oYEcDApU1bLG"
      },
      "id": "oYEcDApU1bLG",
      "execution_count": null,
      "outputs": []
    },
    {
      "cell_type": "code",
      "source": [
        "np.sum(x, axis=1)"
      ],
      "metadata": {
        "id": "bv22tiFc1cwL"
      },
      "id": "bv22tiFc1cwL",
      "execution_count": null,
      "outputs": []
    },
    {
      "cell_type": "code",
      "execution_count": null,
      "metadata": {
        "id": "c5b0a1f4-4a9e-4d6f-aec0-21473253cda3"
      },
      "outputs": [],
      "source": [
        "print(np.max(x, axis=0))  # Compute max of each column; prints \"[5 6]\"\n",
        "print(np.max(x, axis=1))  # Compute max of each row; prints \"[2 5 6]\""
      ],
      "id": "c5b0a1f4-4a9e-4d6f-aec0-21473253cda3"
    },
    {
      "cell_type": "markdown",
      "metadata": {
        "id": "e9b3473b-9d78-49b4-b405-9dcf386b93e0"
      },
      "source": [
        "You can find the full list of mathematical functions provided by numpy in the [documentation](http://docs.scipy.org/doc/numpy/reference/routines.math.html)."
      ],
      "id": "e9b3473b-9d78-49b4-b405-9dcf386b93e0"
    },
    {
      "cell_type": "markdown",
      "metadata": {
        "id": "d39ad048-edd3-4c0c-9620-13a8ba6cbf01"
      },
      "source": [
        "Apart from computing mathematical functions using arrays, we frequently need to reshape or otherwise manipulate data in arrays. The simplest example of this type of operation is transposing a matrix; to transpose a matrix, simply use the T attribute of an array object.\n",
        "\n",
        "![](http://jalammar.github.io/images/numpy/numpy-transpose.png)"
      ],
      "id": "d39ad048-edd3-4c0c-9620-13a8ba6cbf01"
    },
    {
      "cell_type": "code",
      "execution_count": null,
      "metadata": {
        "id": "d50bc55d-177e-4d6a-aea9-291c48620eba"
      },
      "outputs": [],
      "source": [
        "x = np.array([[1, 2], [3, 4], [5, 6]])\n",
        "\n",
        "print(x)\n",
        "print(\"transpose\\n\", x.T)"
      ],
      "id": "d50bc55d-177e-4d6a-aea9-291c48620eba"
    },
    {
      "cell_type": "code",
      "execution_count": null,
      "metadata": {
        "id": "ddb52688-8f4d-4eb4-8249-c63a56b639a2"
      },
      "outputs": [],
      "source": [
        "v = np.array([[1,2,3]])\n",
        "print(v)\n",
        "print(\"transpose\\n\", v.T)"
      ],
      "id": "ddb52688-8f4d-4eb4-8249-c63a56b639a2"
    },
    {
      "cell_type": "markdown",
      "metadata": {
        "id": "aed0f9ad-f114-42a5-aae1-09672bdffc97"
      },
      "source": [
        "In more advanced use case, you may find yourself needing to change the dimensions of a certain matrix. This is often the case in machine learning applications where a certain model expects a certain shape for the inputs that is different from your dataset. numpy's `reshape()` method is useful in these cases.\n",
        "\n",
        "![](http://jalammar.github.io/images/numpy/numpy-reshape.png)"
      ],
      "id": "aed0f9ad-f114-42a5-aae1-09672bdffc97"
    },
    {
      "cell_type": "markdown",
      "metadata": {
        "id": "59c09a49-bad1-4c70-a137-7c9a3c26d625"
      },
      "source": [
        "A common task in this class will be to convert a 1D array to a 2D array, and vice versa. We can use `reshape()` for this."
      ],
      "id": "59c09a49-bad1-4c70-a137-7c9a3c26d625"
    },
    {
      "cell_type": "markdown",
      "metadata": {
        "id": "3ecf3a91-68c3-4186-a7ec-583d08e685db"
      },
      "source": [
        "For example, suppose we had this 2D array, but we need to pass it to a function that expects a 1D array."
      ],
      "id": "3ecf3a91-68c3-4186-a7ec-583d08e685db"
    },
    {
      "cell_type": "code",
      "execution_count": null,
      "metadata": {
        "id": "b1884a4d-c183-4c1a-b4aa-0e9e9925f284"
      },
      "outputs": [],
      "source": [
        "w = np.array([[1], [2], [3]])\n",
        "print(w)\n",
        "w.shape"
      ],
      "id": "b1884a4d-c183-4c1a-b4aa-0e9e9925f284"
    },
    {
      "cell_type": "code",
      "source": [
        "w = w.reshape(1, 1, -1)\n",
        "w.shape"
      ],
      "metadata": {
        "id": "KCz_33VZ2Ii6"
      },
      "id": "KCz_33VZ2Ii6",
      "execution_count": null,
      "outputs": []
    },
    {
      "cell_type": "markdown",
      "metadata": {
        "id": "7bd067b9-1f56-4714-8baa-75f81a8b4d2c"
      },
      "source": [
        "We can remove the “unnecessary” extra dimension with"
      ],
      "id": "7bd067b9-1f56-4714-8baa-75f81a8b4d2c"
    },
    {
      "cell_type": "code",
      "execution_count": null,
      "metadata": {
        "id": "31ac2e61-d3de-4b10-ab04-df7d879754b1"
      },
      "outputs": [],
      "source": [
        "y = w.reshape(-1,)\n",
        "print(y)\n",
        "y.shape"
      ],
      "id": "31ac2e61-d3de-4b10-ab04-df7d879754b1"
    },
    {
      "cell_type": "markdown",
      "metadata": {
        "id": "3224804b-5a14-4607-a536-4b3d584ee815"
      },
      "source": [
        "Note that we can pass -1 as one dimension and numpy will infer the correct size based on our matrix size!\n",
        "\n",
        "There’s also a `squeeze()` function that removes *all* of the “unnecessary” dimensions (dimensions that have size 1) from an array:"
      ],
      "id": "3224804b-5a14-4607-a536-4b3d584ee815"
    },
    {
      "cell_type": "code",
      "execution_count": null,
      "metadata": {
        "id": "9c4a3539-3c94-4ac1-bae5-ccf4837dcccb"
      },
      "outputs": [],
      "source": [
        "z = w.squeeze()\n",
        "print(z)\n",
        "z.shape"
      ],
      "id": "9c4a3539-3c94-4ac1-bae5-ccf4837dcccb"
    },
    {
      "cell_type": "markdown",
      "metadata": {
        "id": "38a91793-4a23-44c9-babf-2a304434fefb"
      },
      "source": [
        "To go from a 1D to 2D array, we can just add in another dimension of size 1:"
      ],
      "id": "38a91793-4a23-44c9-babf-2a304434fefb"
    },
    {
      "cell_type": "code",
      "execution_count": null,
      "metadata": {
        "id": "616aac7c-8dda-4239-bef8-95d6992ec41f"
      },
      "outputs": [],
      "source": [
        "y.reshape((-1, 1))"
      ],
      "id": "616aac7c-8dda-4239-bef8-95d6992ec41f"
    },
    {
      "cell_type": "markdown",
      "source": [
        "### Using np.matrix\n",
        "\n",
        "`np.matrix` is specifically designed for matrix operations and is a subclass of ndarray."
      ],
      "metadata": {
        "id": "mvusVhccMYbN"
      },
      "id": "mvusVhccMYbN"
    },
    {
      "cell_type": "code",
      "source": [
        "# Creating an array using np.array\n",
        "array_a = np.array([[1, 2],\n",
        "                    [3, 4],\n",
        "                    [5, 6]])\n",
        "print(\"Array created using np.array:\")\n",
        "print(array_a)"
      ],
      "metadata": {
        "id": "Xpcb5j5SMoQZ"
      },
      "id": "Xpcb5j5SMoQZ",
      "execution_count": null,
      "outputs": []
    },
    {
      "cell_type": "code",
      "source": [
        "# Creating a matrix using np.matrix\n",
        "matrix_a = np.matrix([[1, 2],\n",
        "                      [3, 4],\n",
        "                      [5, 6]])\n",
        "print(\"Matrix created using np.matrix:\")\n",
        "print(matrix_a)"
      ],
      "metadata": {
        "id": "IHMxripfMa5p"
      },
      "id": "IHMxripfMa5p",
      "execution_count": null,
      "outputs": []
    },
    {
      "cell_type": "markdown",
      "source": [
        "#### Key Differences Between np.matrix and np.array"
      ],
      "metadata": {
        "id": "5vE5xW9TMrCi"
      },
      "id": "5vE5xW9TMrCi"
    },
    {
      "cell_type": "markdown",
      "source": [
        "1. Dimensionality\n",
        "\n",
        "`np.matrix` is always two-dimensional, whereas `np.array` can be one-dimensional, two-dimensional, or more."
      ],
      "metadata": {
        "id": "UIkIgNChMvHJ"
      },
      "id": "UIkIgNChMvHJ"
    },
    {
      "cell_type": "code",
      "source": [
        "# Checking the dimensions\n",
        "print(\"Dimensions of matrix_a:\", matrix_a.ndim)  # Should output 2\n",
        "print(\"Dimensions of array_a:\", array_a.ndim)    # Should output 2"
      ],
      "metadata": {
        "id": "N3d6hAODM3Zd"
      },
      "id": "N3d6hAODM3Zd",
      "execution_count": null,
      "outputs": []
    },
    {
      "cell_type": "markdown",
      "source": [
        "2. Behavior of Operators\n",
        "\n",
        "The * operator behaves differently for matrices and arrays. For np.matrix, it performs matrix multiplication. For np.array, it performs element-wise multiplication."
      ],
      "metadata": {
        "id": "bXAM28R7M5a_"
      },
      "id": "bXAM28R7M5a_"
    },
    {
      "cell_type": "code",
      "source": [
        "# Matrix multiplication using np.matrix\n",
        "matrix_b = np.matrix(\n",
        "    [\n",
        "        [7, 8, 9],\n",
        "        [10, 11, 12]\n",
        "    ]\n",
        ")\n",
        "matrix_product = matrix_a * matrix_b  # Matrix multiplication\n",
        "print(\"Matrix product (np.matrix):\")\n",
        "print(matrix_product)\n",
        "\n",
        "# Element-wise multiplication using np.array\n",
        "# array_b = np.array([[7, 8, 9],\n",
        "#                      [10, 11, 12]])\n",
        "\n",
        "# array_b = np.array([[7, 8],\n",
        "#                     [9, 10],\n",
        "#                     [11, 12]])\n",
        "\n",
        "# array_product = array_a * array_b  # Element-wise multiplication\n",
        "# print(\"Element-wise product (np.array):\")\n",
        "# print(array_product)"
      ],
      "metadata": {
        "id": "wMC5Whu2NBg2"
      },
      "id": "wMC5Whu2NBg2",
      "execution_count": null,
      "outputs": []
    },
    {
      "cell_type": "code",
      "source": [
        "# Element-wise multiplication using np.array\n",
        "array_b = np.array(\n",
        "    [\n",
        "        [7, 8, 9],\n",
        "        [10, 11, 12]\n",
        "    ]\n",
        ")"
      ],
      "metadata": {
        "id": "7MdfgaZ4tX0f"
      },
      "id": "7MdfgaZ4tX0f",
      "execution_count": null,
      "outputs": []
    },
    {
      "cell_type": "code",
      "source": [
        "array_a * array_b"
      ],
      "metadata": {
        "id": "NbrR1yop3QDw"
      },
      "id": "NbrR1yop3QDw",
      "execution_count": null,
      "outputs": []
    },
    {
      "cell_type": "code",
      "source": [
        "array_b = np.array(\n",
        "    [\n",
        "        [7, 8],\n",
        "        [9, 10],\n",
        "        [11, 12]\n",
        "    ]\n",
        ")\n"
      ],
      "metadata": {
        "id": "vqDy5Ct4tpZm"
      },
      "id": "vqDy5Ct4tpZm",
      "execution_count": null,
      "outputs": []
    },
    {
      "cell_type": "code",
      "source": [
        "array_a * array_b"
      ],
      "metadata": {
        "id": "DDecAz8c3RcE"
      },
      "id": "DDecAz8c3RcE",
      "execution_count": null,
      "outputs": []
    },
    {
      "cell_type": "code",
      "source": [
        "matrix_a * array_b.reshape(2, 3)"
      ],
      "metadata": {
        "id": "l6UQG3gI3VZn"
      },
      "id": "l6UQG3gI3VZn",
      "execution_count": null,
      "outputs": []
    },
    {
      "cell_type": "code",
      "source": [
        "type(matrix_a * array_b.reshape(2, 3))"
      ],
      "metadata": {
        "id": "3MkCHnZL3bFN"
      },
      "id": "3MkCHnZL3bFN",
      "execution_count": null,
      "outputs": []
    },
    {
      "cell_type": "markdown",
      "source": [
        "3. Use of Functions\n",
        "\n",
        "Certain functions behave differently or are not available for np.matrix. For example, the np.sum function operates differently."
      ],
      "metadata": {
        "id": "4hsp4IPNNzZa"
      },
      "id": "4hsp4IPNNzZa"
    },
    {
      "cell_type": "code",
      "source": [
        "# Summing along an axis for np.array\n",
        "sum_array = np.sum(array_a, axis=0)\n",
        "print(\"Sum of array along axis 0 (np.array):\")\n",
        "print(sum_array)\n",
        "\n",
        "# Summing along an axis for np.matrix\n",
        "sum_matrix = np.sum(matrix_a, axis=0)\n",
        "print(\"Sum of matrix along axis 0 (np.matrix):\")\n",
        "print(sum_matrix)"
      ],
      "metadata": {
        "id": "9iopcD_VNq7d"
      },
      "id": "9iopcD_VNq7d",
      "execution_count": null,
      "outputs": []
    },
    {
      "cell_type": "markdown",
      "metadata": {
        "id": "2f732295-05f9-4b61-9f24-8efd6b41de8d"
      },
      "source": [
        "### Broadcasting"
      ],
      "id": "2f732295-05f9-4b61-9f24-8efd6b41de8d"
    },
    {
      "cell_type": "markdown",
      "metadata": {
        "id": "2a85d55c-e7e9-4552-b3af-4476d5ccbe86"
      },
      "source": [
        "Broadcasting is a powerful mechanism that allows numpy to work with arrays of different shapes when performing arithmetic operations."
      ],
      "id": "2a85d55c-e7e9-4552-b3af-4476d5ccbe86"
    },
    {
      "cell_type": "markdown",
      "metadata": {
        "id": "7c21ce51-aeab-4da1-8d7f-60507ae6c22d"
      },
      "source": [
        "For example: basic linear algebra, we can only add (and perform similar element-wise operations) two matrics that have the *same* dimension. In numpy, if we want to add two matrics that have different dimensions, numpy will implicitly “extend” the dimension of one matrix to match the other so that we can perform the operation.\n",
        "\n",
        "So these operations will work, instead of returning an error:\n",
        "\n",
        "![](https://sebastianraschka.com/images/blog/2020/numpy-intro/broadcasting-1.png)\n",
        "\n",
        "![](https://sebastianraschka.com/images/blog/2020/numpy-intro/broadcasting-2.png)"
      ],
      "id": "7c21ce51-aeab-4da1-8d7f-60507ae6c22d"
    },
    {
      "cell_type": "code",
      "source": [
        "a = [1, 2, 3]\n",
        "a + 1"
      ],
      "metadata": {
        "id": "Nb08WKd734GU"
      },
      "id": "Nb08WKd734GU",
      "execution_count": null,
      "outputs": []
    },
    {
      "cell_type": "code",
      "source": [
        "a = np.array([1, 2, 3])\n",
        "a + 1"
      ],
      "metadata": {
        "id": "dTVIYQ1p32Pm"
      },
      "id": "dTVIYQ1p32Pm",
      "execution_count": null,
      "outputs": []
    },
    {
      "cell_type": "markdown",
      "metadata": {
        "id": "aa6e5252-c604-45b4-870a-4e7c6020ae99"
      },
      "source": [
        "Broadcasting two arrays together follows these rules:\n",
        "\n",
        "**Rule 1**: If the two arrays differ in their number of dimensions, the shape of the one with fewer dimensions is padded with ones on its leading (left) side.\n",
        "\n",
        "For example, in the following cell, `a` will be implicitly extended to shape (1,3):"
      ],
      "id": "aa6e5252-c604-45b4-870a-4e7c6020ae99"
    },
    {
      "cell_type": "code",
      "source": [
        "a = np.array([[1, 2, 3]])\n",
        "print(a.shape)\n",
        "b = np.array([6])\n",
        "print(b.shape)\n"
      ],
      "metadata": {
        "id": "xGvQiu0e4w5Y"
      },
      "id": "xGvQiu0e4w5Y",
      "execution_count": null,
      "outputs": []
    },
    {
      "cell_type": "code",
      "source": [
        "b = np.array([[6]])\n",
        "b.shape"
      ],
      "metadata": {
        "id": "MNtt7IV25F1Y"
      },
      "id": "MNtt7IV25F1Y",
      "execution_count": null,
      "outputs": []
    },
    {
      "cell_type": "code",
      "source": [
        "b = np.array([[6, 6, 6]])\n",
        "b.shape"
      ],
      "metadata": {
        "id": "5pBTblHD5max"
      },
      "id": "5pBTblHD5max",
      "execution_count": null,
      "outputs": []
    },
    {
      "cell_type": "code",
      "source": [
        "a + b"
      ],
      "metadata": {
        "id": "MqCgjF364_8t"
      },
      "id": "MqCgjF364_8t",
      "execution_count": null,
      "outputs": []
    },
    {
      "cell_type": "code",
      "source": [
        "a = np.array([[1, 2, 3]])\n",
        "print(a.shape)\n",
        "b = np.array([6])\n",
        "print(b.shape)\n"
      ],
      "metadata": {
        "id": "2cKJAemVumok"
      },
      "id": "2cKJAemVumok",
      "execution_count": null,
      "outputs": []
    },
    {
      "cell_type": "code",
      "source": [
        "a + b"
      ],
      "metadata": {
        "id": "rUI-ZRxGuoaY"
      },
      "id": "rUI-ZRxGuoaY",
      "execution_count": null,
      "outputs": []
    },
    {
      "cell_type": "code",
      "execution_count": null,
      "metadata": {
        "id": "3e32bef1-4753-4893-89ca-4edc7288c766"
      },
      "outputs": [],
      "source": [
        "a = np.array([1, 2, 3])         # has shape (3,): one dimension\n",
        "b = np.array([[4], [5], [6]]) # has shape (3,1): two dimensions\n",
        "c = a + b                     # will have shape (3,3) (two dimensions)\n",
        "print(c)"
      ],
      "id": "3e32bef1-4753-4893-89ca-4edc7288c766"
    },
    {
      "cell_type": "markdown",
      "metadata": {
        "id": "d148066a-992b-4b46-9944-0cce3ac61189"
      },
      "source": [
        "**Rule 2**: If the shape of the two arrays does not match in any dimension, the array with shape equal to 1 in that dimension is stretched to match the other shape.\n",
        "\n",
        "For example, in the following cell `a` will be implicitly extended to shape (3,2):"
      ],
      "id": "d148066a-992b-4b46-9944-0cce3ac61189"
    },
    {
      "cell_type": "code",
      "execution_count": null,
      "metadata": {
        "id": "3ce72464-c36b-45e5-8de5-f24eb11c63fb"
      },
      "outputs": [],
      "source": [
        "a = np.array([[1],[2],[3]])         # has shape (3,1)\n",
        "b = np.array([[4,5], [6,7], [8,9]]) # has shape (3,2)\n",
        "c = a + b                           # will have shape (3,2)\n",
        "print(c)"
      ],
      "id": "3ce72464-c36b-45e5-8de5-f24eb11c63fb"
    },
    {
      "cell_type": "markdown",
      "metadata": {
        "id": "3cc70138-0b7f-4a3c-a561-416491b24704"
      },
      "source": [
        "**Rule 3**: If in any dimension the sizes disagree and neither is equal to 1, an error is raised:"
      ],
      "id": "3cc70138-0b7f-4a3c-a561-416491b24704"
    },
    {
      "cell_type": "code",
      "execution_count": null,
      "metadata": {
        "id": "c73f809a-5255-4958-b8af-f5c078838df5"
      },
      "outputs": [],
      "source": [
        "a = np.array([[1], [2], [3], [4]])      # has shape (4,1)\n",
        "b = np.array([[4, 5], [6, 7], [8, 9]])  # has shape (3,2)\n",
        "c = a + b                            # ValueError: operands could not be broadcast"
      ],
      "id": "c73f809a-5255-4958-b8af-f5c078838df5"
    },
    {
      "cell_type": "markdown",
      "metadata": {
        "id": "9fcb707a-3ec0-4d0c-a1d3-7410a58262e2"
      },
      "source": [
        "For more detail, you can read the explanation from the [documentation](http://docs.scipy.org/doc/numpy/user/basics.broadcasting.html)."
      ],
      "id": "9fcb707a-3ec0-4d0c-a1d3-7410a58262e2"
    },
    {
      "cell_type": "markdown",
      "metadata": {
        "id": "bf330eac-6a83-4878-bfaa-f11f300928ac"
      },
      "source": [
        "Functions that support broadcasting are known as universal functions. You can find the list of all universal functions in the [documentation](http://docs.scipy.org/doc/numpy/reference/ufuncs.html#available-ufuncs)."
      ],
      "id": "bf330eac-6a83-4878-bfaa-f11f300928ac"
    },
    {
      "cell_type": "markdown",
      "metadata": {
        "id": "497f6be0-fc5e-4d99-aec4-2435498c61ea"
      },
      "source": [
        "Here are a few visual examples involving broadcasting.\n",
        "\n",
        "![](http://jalammar.github.io/images/numpy/numpy-array-broadcast.png)\n",
        "\n",
        "Note that these arrays are compatible in each dimension if they have either the same size in that dimension, or if one array has size 1 in that dimension.\n",
        "\n",
        "![](http://jalammar.github.io/images/numpy/numpy-matrix-broadcast.png)"
      ],
      "id": "497f6be0-fc5e-4d99-aec4-2435498c61ea"
    },
    {
      "cell_type": "markdown",
      "metadata": {
        "id": "cbc5165b-fc47-4e14-8b58-3012adbad24e"
      },
      "source": [
        "And here are some more practical applications:"
      ],
      "id": "cbc5165b-fc47-4e14-8b58-3012adbad24e"
    },
    {
      "cell_type": "code",
      "source": [
        "data = np.arange(1, 7).reshape(-1, 2)\n",
        "print(data.shape)\n",
        "\n",
        "ones_row = np.array([[1, 1]])\n",
        "print(ones_row.shape)\n"
      ],
      "metadata": {
        "id": "bZ2k39xM6kx3"
      },
      "id": "bZ2k39xM6kx3",
      "execution_count": null,
      "outputs": []
    },
    {
      "cell_type": "code",
      "execution_count": null,
      "metadata": {
        "id": "e5636e31-b864-461e-b1bc-875549a857fa"
      },
      "outputs": [],
      "source": [
        "# Compute outer product of vectors\n",
        "\n",
        "v = np.array([1, 2, 3])  # v has shape (3,)\n",
        "w = np.array([4, 5])    # w has shape (2,)\n",
        "\n",
        "# To compute an outer product, we first reshape v to be a column\n",
        "# vector of shape (3, 1); we can then broadcast it against w to yield\n",
        "# an output of shape (3, 2), which is the outer product of v and w:\n",
        "\n",
        "print(np.reshape(v, (3, 1)) * w)"
      ],
      "id": "e5636e31-b864-461e-b1bc-875549a857fa"
    },
    {
      "cell_type": "code",
      "execution_count": null,
      "metadata": {
        "id": "5fe4f55d-ad71-4f12-93d9-52e82790b8f0"
      },
      "outputs": [],
      "source": [
        "# Add a vector to each row of a matrix\n",
        "x = np.array([[1, 2, 3], [4, 5, 6]])\n",
        "# x has shape (2, 3) and v has shape (3,) so they broadcast to (2, 3),\n",
        "# giving the following matrix:\n",
        "\n",
        "print(x + v)"
      ],
      "id": "5fe4f55d-ad71-4f12-93d9-52e82790b8f0"
    },
    {
      "cell_type": "code",
      "execution_count": null,
      "metadata": {
        "id": "5b703d95-f109-4828-968f-6b3f42dd281e"
      },
      "outputs": [],
      "source": [
        "# Add a vector to each column of a matrix\n",
        "# x has shape (2, 3) and w has shape (2,).\n",
        "# If we transpose x then it has shape (3, 2) and can be broadcast\n",
        "# against w to yield a result of shape (3, 2); transposing this result\n",
        "# yields the final result of shape (2, 3) which is the matrix x with\n",
        "# the vector w added to each column. Gives the following matrix:\n",
        "\n",
        "print((x.T + w).T)"
      ],
      "id": "5b703d95-f109-4828-968f-6b3f42dd281e"
    },
    {
      "cell_type": "code",
      "execution_count": null,
      "metadata": {
        "id": "7f9e6053-4439-47cd-9890-e1607fa398fe"
      },
      "outputs": [],
      "source": [
        "# Another solution is to reshape w to be a row vector of shape (2, 1);\n",
        "# we can then broadcast it directly against x to produce the same\n",
        "# output.\n",
        "print(x + np.reshape(w, (2, 1)))"
      ],
      "id": "7f9e6053-4439-47cd-9890-e1607fa398fe"
    },
    {
      "cell_type": "code",
      "execution_count": null,
      "metadata": {
        "id": "2d4ac7f1-4aa5-445a-8cad-3cafc8946055"
      },
      "outputs": [],
      "source": [
        "# Multiply a matrix by a constant:\n",
        "# x has shape (2, 3). Numpy treats scalars as arrays of shape ();\n",
        "# these can be broadcast together to shape (2, 3), producing the\n",
        "# following array:\n",
        "print(x * 2)"
      ],
      "id": "2d4ac7f1-4aa5-445a-8cad-3cafc8946055"
    },
    {
      "cell_type": "markdown",
      "metadata": {
        "id": "a2b8e88d-856f-4bd2-b266-cc579edc202f"
      },
      "source": [
        "Broadcasting typically makes your code more concise and faster, so you should strive to use it where possible."
      ],
      "id": "a2b8e88d-856f-4bd2-b266-cc579edc202f"
    }
  ],
  "nbformat": 4,
  "nbformat_minor": 5,
  "metadata": {
    "colab": {
      "provenance": []
    },
    "language_info": {
      "name": "python"
    },
    "kernelspec": {
      "name": "python3",
      "display_name": "Python 3"
    }
  }
}