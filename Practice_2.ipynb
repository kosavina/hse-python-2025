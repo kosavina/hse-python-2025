{
  "nbformat": 4,
  "nbformat_minor": 0,
  "metadata": {
    "colab": {
      "provenance": []
    },
    "kernelspec": {
      "name": "python3",
      "display_name": "Python 3"
    },
    "language_info": {
      "name": "python"
    }
  },
  "cells": [
    {
      "cell_type": "markdown",
      "source": [
        "## Practice 2 (11 Oct 2025)\n",
        "\n",
        "[![Open In Colab](https://colab.research.google.com/assets/colab-badge.svg)](https://colab.research.google.com/github/kosavina/hse-python-2025/blob/main/Practice_2.ipynb)"
      ],
      "metadata": {
        "id": "tHrK5Ly4eGZj"
      }
    },
    {
      "cell_type": "markdown",
      "source": [
        "1. Write a function <font color=#dcdcaa>calculate_area</font> that takes the <font color=#9cdcfe>radius</font> of a circle as a positional argument and an optional parameter <font color=#9cdcfe>pi</font> with a default value of <font color=#b5cea8>3.14</font>. The function should return the area of the circle. Test it with <font color=#9cdcfe>radius</font> <font color=#b5cea8>5</font> and a custom <font color=#9cdcfe>pi</font> value of <font color=#b5cea8>3.1416</font>."
      ],
      "metadata": {
        "id": "YlVNDqZdedQw"
      }
    },
    {
      "cell_type": "code",
      "source": [],
      "metadata": {
        "id": "zAm36w81emI_"
      },
      "execution_count": null,
      "outputs": []
    },
    {
      "cell_type": "markdown",
      "source": [
        "2. Create a function <font color=#dcdcaa>greet_multiple</font> that uses <font color=#9cdcfe>*args</font> to accept any number of names and prints a greeting, like <font color=#b5cea8>\"Hello, [name_1], [name_2], ... !\"</font>. Call it with <font color=#b5cea8>3</font> different names."
      ],
      "metadata": {
        "id": "wnVR1r24g4Ik"
      }
    },
    {
      "cell_type": "code",
      "source": [],
      "metadata": {
        "id": "LckSLQS9iCAm"
      },
      "execution_count": null,
      "outputs": []
    },
    {
      "cell_type": "markdown",
      "source": [
        "3. Define a function <font color=#dcdcaa>person_info</font> that uses <font color=#9cdcfe>**kwargs</font> to accept arbitrary key-value pairs about a person (e.g., <font color=#9cdcfe>name</font>, <font color=#9cdcfe>age</font>, <font color=#9cdcfe>city</font>) and prints them in the format <font color=#b5cea8>\"key: value\"</font>. Test it with at least <font color=#b5cea8>4</font> attributes."
      ],
      "metadata": {
        "id": "_uJkSro9iTYX"
      }
    },
    {
      "cell_type": "code",
      "source": [],
      "metadata": {
        "id": "EkufhrVWinLg"
      },
      "execution_count": null,
      "outputs": []
    },
    {
      "cell_type": "markdown",
      "source": [
        "4. Write a lambda function that takes two numbers and returns their product if the first is even, or their sum if the first is odd. Assign it to a variable and test with inputs (<font color=#b5cea8>4</font>, <font color=#b5cea8>5</font>) and (<font color=#b5cea8>3</font>, <font color=#b5cea8>5</font>).\n",
        "\n",
        "Hint: use ternary operator (conditional expression)\n",
        "\n",
        "```python\n",
        "\"Positive\" if number > 0 else \"Non-positive\"\n",
        "```"
      ],
      "metadata": {
        "id": "f8ATdGGpi7GK"
      }
    },
    {
      "cell_type": "code",
      "source": [],
      "metadata": {
        "id": "1-kzXE9Ki9f6"
      },
      "execution_count": null,
      "outputs": []
    },
    {
      "cell_type": "markdown",
      "source": [
        "5. Create a function <font color=#dcdcaa>outer</font> with a local variable <font color=#9cdcfe>x</font> = <font color=#b5cea8>10</font>. Inside it, define an inner function <font color=#dcdcaa>inner</font> that modifies <font color=#9cdcfe>x</font> using the <font color=#dcdcaa>nonlocal</font> keyword (assume Python <font color=#b5cea8>3</font>). Print <font color=#9cdcfe>x</font> before and after modification."
      ],
      "metadata": {
        "id": "JdPxHKqAjQX3"
      }
    },
    {
      "cell_type": "code",
      "source": [],
      "metadata": {
        "id": "cebBL1nyj6dv"
      },
      "execution_count": null,
      "outputs": []
    },
    {
      "cell_type": "markdown",
      "source": [
        "6. Write a function <font color=#dcdcaa>modify_global</font> that declares a global variable <font color=#9cdcfe>counter</font> (initialize it outside the function to <font color=#b5cea8>0</font>) and increments it by a given amount. Call it twice and print the global <font color=#9cdcfe>counter</font> after each call."
      ],
      "metadata": {
        "id": "TYkpI6CxlR1Q"
      }
    },
    {
      "cell_type": "code",
      "source": [],
      "metadata": {
        "id": "YizIzLWDlXOn"
      },
      "execution_count": null,
      "outputs": []
    },
    {
      "cell_type": "markdown",
      "source": [
        "7. Define a function <font color=#dcdcaa>process_numbers</font> with positional-only arguments for two numbers (use <font color=#b5cea8>/</font> in the definition) and a keyword-only argument for an operation (<font color=#b5cea8>'add'</font> or <font color=#b5cea8>'multiply'</font>). Perform the operation and return the result."
      ],
      "metadata": {
        "id": "ztJynHGglaFE"
      }
    },
    {
      "cell_type": "code",
      "source": [],
      "metadata": {
        "id": "SznxLaF1lk_v"
      },
      "execution_count": null,
      "outputs": []
    },
    {
      "cell_type": "markdown",
      "source": [
        "8. Create a function <font color=#dcdcaa>mixed_args</font> with one positional argument, one default argument, a *<font color=#9cdcfe>args</font> for extras, and a keyword-only argument. Print all inputs and return their sum if they are numbers."
      ],
      "metadata": {
        "id": "mRbGOkOrl5ur"
      }
    },
    {
      "cell_type": "code",
      "source": [],
      "metadata": {
        "id": "hwArqbRzmXM3"
      },
      "execution_count": null,
      "outputs": []
    },
    {
      "cell_type": "markdown",
      "source": [
        "9. Write a function <font color=#dcdcaa>reverse_string</font> that takes a string and returns it reversed using slicing with a step of <font color=#b5cea8>-1</font>. Test with <font color=#b5cea8>\"Python\"</font>."
      ],
      "metadata": {
        "id": "bVGtMQM9ojC4"
      }
    },
    {
      "cell_type": "code",
      "source": [],
      "metadata": {
        "id": "M7-N-nHtonFX"
      },
      "execution_count": null,
      "outputs": []
    },
    {
      "cell_type": "markdown",
      "source": [
        "10. Create a function <font color=#dcdcaa>format_message</font> that uses f-strings to format a message with a <font color=#9cdcfe>name</font>, <font color=#9cdcfe>age</font>, and <font color=#9cdcfe>city</font> provided as arguments. Ensure <font color=#9cdcfe>age</font> is formatted as an integer."
      ],
      "metadata": {
        "id": "wOw556oLoop4"
      }
    },
    {
      "cell_type": "code",
      "source": [],
      "metadata": {
        "id": "LweHPXkzoq7p"
      },
      "execution_count": null,
      "outputs": []
    },
    {
      "cell_type": "markdown",
      "source": [
        "11. Write a function <font color=#dcdcaa>count_vowels</font> that takes a string and returns the count of vowels (<font color=#b5cea8>a</font>, <font color=#b5cea8>e</font>, <font color=#b5cea8>i</font>, <font color=#b5cea8>o</font>, <font color=#b5cea8>u</font>) using a loop and string membership check."
      ],
      "metadata": {
        "id": "bVuV7PtSorWu"
      }
    },
    {
      "cell_type": "code",
      "source": [],
      "metadata": {
        "id": "W1NuUJ5aos8i"
      },
      "execution_count": null,
      "outputs": []
    },
    {
      "cell_type": "markdown",
      "source": [
        "12. Define a function <font color=#dcdcaa>replace_and_slice</font> that replaces all spaces in a string with underscores and then slices the first <font color=#b5cea8>5</font> characters. Test with <font color=#b5cea8>\"Hello World Python\"</font>."
      ],
      "metadata": {
        "id": "QKK1eHNgotUf"
      }
    },
    {
      "cell_type": "code",
      "source": [],
      "metadata": {
        "id": "_-FBDiNDou9e"
      },
      "execution_count": null,
      "outputs": []
    },
    {
      "cell_type": "markdown",
      "source": [
        "13. Create a function <font color=#dcdcaa>c_style_format</font> that uses % formatting to create a string with a float (to <font color=#b5cea8>3</font> decimal places) and an integer. Return the formatted string."
      ],
      "metadata": {
        "id": "29fYlcLAovXG"
      }
    },
    {
      "cell_type": "code",
      "source": [],
      "metadata": {
        "id": "HqEsdc22oygk"
      },
      "execution_count": null,
      "outputs": []
    },
    {
      "cell_type": "markdown",
      "source": [
        "14. Write a function <font color=#dcdcaa>list_manip</font> that takes a list, sorts it in descending order, and returns the sorted list without modifying the original."
      ],
      "metadata": {
        "id": "A8unkhnNo2js"
      }
    },
    {
      "cell_type": "code",
      "source": [],
      "metadata": {
        "id": "zM6NRSKeo4CB"
      },
      "execution_count": null,
      "outputs": []
    },
    {
      "cell_type": "markdown",
      "source": [
        "15. Define a function <font color=#dcdcaa>nested_access</font> that takes a nested list (at least <font color=#b5cea8>3</font> levels deep) and returns the innermost element using indexing."
      ],
      "metadata": {
        "id": "ZEnDjUBXo5kD"
      }
    },
    {
      "cell_type": "code",
      "source": [],
      "metadata": {
        "id": "H8tBXQQoo6ew"
      },
      "execution_count": null,
      "outputs": []
    },
    {
      "cell_type": "markdown",
      "source": [
        "16. Create a function <font color=#dcdcaa>range_to_list</font> that generates a list from <font color=#dcdcaa>range</font>(<font color=#b5cea8>1</font>, <font color=#b5cea8>20</font>, <font color=#b5cea8>3</font>), inserts <font color=#b5cea8>'mid'</font> at the middle index, and removes the last element."
      ],
      "metadata": {
        "id": "AOXMoS2Ao67P"
      }
    },
    {
      "cell_type": "code",
      "source": [],
      "metadata": {
        "id": "3x-mq95Uo9li"
      },
      "execution_count": null,
      "outputs": []
    },
    {
      "cell_type": "markdown",
      "source": [
        "17. Write a function <font color=#dcdcaa>list_to_string</font> that converts a list of strings to a single string joined by commas, then splits it back into a list and returns the result."
      ],
      "metadata": {
        "id": "YhfoDDa_pBnp"
      }
    },
    {
      "cell_type": "code",
      "source": [],
      "metadata": {
        "id": "pOvXJiSppCZu"
      },
      "execution_count": null,
      "outputs": []
    },
    {
      "cell_type": "markdown",
      "source": [
        "18. Define a function <font color=#dcdcaa>remove_duplicates</font> that takes a list with duplicates, converts it to a set to remove duplicates, and returns a sorted list."
      ],
      "metadata": {
        "id": "pGslMYY0pD-X"
      }
    },
    {
      "cell_type": "code",
      "source": [],
      "metadata": {
        "id": "fj400TKTpFEP"
      },
      "execution_count": null,
      "outputs": []
    },
    {
      "cell_type": "markdown",
      "source": [
        "19. Create a function <font color=#dcdcaa>tuple_unpack</font> that returns a tuple (<font color=#9cdcfe>name</font>, <font color=#9cdcfe>age</font>, <font color=#9cdcfe>city</font>), unpacks it inside the function, and prints each value formatted."
      ],
      "metadata": {
        "id": "3F2W0pkPpF6Y"
      }
    },
    {
      "cell_type": "code",
      "source": [],
      "metadata": {
        "id": "nBljFWbopIL4"
      },
      "execution_count": null,
      "outputs": []
    },
    {
      "cell_type": "markdown",
      "source": [
        "20. Write a function <font color=#dcdcaa>immutable_test</font> that attempts to modify a tuple element (handling the error) and instead creates a new tuple by concatenating two tuples.\n",
        "\n",
        "Hint: use exception handling\n",
        "\n",
        "```python\n",
        "try:\n",
        "  ...\n",
        "except:\n",
        "  pass\n",
        "```"
      ],
      "metadata": {
        "id": "0JpkcGVvpImi"
      }
    },
    {
      "cell_type": "code",
      "source": [],
      "metadata": {
        "id": "snEWfzaHpOQU"
      },
      "execution_count": null,
      "outputs": []
    },
    {
      "cell_type": "markdown",
      "source": [
        "21. Define a function <font color=#dcdcaa>dict_update</font> that takes a dictionary, adds a new key-value pair, updates an existing key, and deletes another key. Return the modified dict."
      ],
      "metadata": {
        "id": "wTbN4UsMplRx"
      }
    },
    {
      "cell_type": "code",
      "source": [],
      "metadata": {
        "id": "a_PW_KICpnL0"
      },
      "execution_count": null,
      "outputs": []
    },
    {
      "cell_type": "markdown",
      "source": [
        "22. Create a function <font color=#dcdcaa>dict_from_lists</font> that takes two lists (<font color=#9cdcfe>keys</font> and <font color=#9cdcfe>values</font>) of equal length and creates a dictionary from them using <font color=#dcdcaa>zip</font>."
      ],
      "metadata": {
        "id": "__irMMlWppY6"
      }
    },
    {
      "cell_type": "code",
      "source": [],
      "metadata": {
        "id": "yBZLEWf_prsV"
      },
      "execution_count": null,
      "outputs": []
    },
    {
      "cell_type": "markdown",
      "source": [
        "23. Write a function <font color=#dcdcaa>merge_dicts</font> that takes two dictionaries and merges them, with values from the second overriding the first if keys overlap."
      ],
      "metadata": {
        "id": "NRO5MbRcpuyk"
      }
    },
    {
      "cell_type": "code",
      "source": [],
      "metadata": {
        "id": "OqjhlLy9qKAd"
      },
      "execution_count": null,
      "outputs": []
    },
    {
      "cell_type": "markdown",
      "source": [
        "24. Define a function <font color=#dcdcaa>set_operations</font> that takes two lists, converts them to sets, and returns their union, intersection, and symmetric difference as a tuple."
      ],
      "metadata": {
        "id": "ulo8Cq0-p6-s"
      }
    },
    {
      "cell_type": "code",
      "source": [],
      "metadata": {
        "id": "niKoFW6Kp77d"
      },
      "execution_count": null,
      "outputs": []
    },
    {
      "cell_type": "markdown",
      "source": [
        "25. Create a function <font color=#dcdcaa>check_membership</font> that takes a set and a list of items, checks membership for each item, and returns a list of booleans."
      ],
      "metadata": {
        "id": "iZSBnYYkqLFV"
      }
    },
    {
      "cell_type": "code",
      "source": [],
      "metadata": {
        "id": "n1ZSLc_dqNRc"
      },
      "execution_count": null,
      "outputs": []
    },
    {
      "cell_type": "markdown",
      "source": [
        "26. Write a function <font color=#dcdcaa>advanced_slice</font> that takes a list and returns a slice from index <font color=#b5cea8>2</font> to <font color=#b5cea8>-2</font> with a step of <font color=#b5cea8>2</font>, reversed."
      ],
      "metadata": {
        "id": "zB2IuXrMqNso"
      }
    },
    {
      "cell_type": "code",
      "source": [],
      "metadata": {
        "id": "uwUM99ZLqP33"
      },
      "execution_count": null,
      "outputs": []
    },
    {
      "cell_type": "markdown",
      "source": [
        "27. Define a function <font color=#dcdcaa>lambda_sort</font> that takes a list of tuples (<font color=#9cdcfe>name</font>, <font color=#9cdcfe>score</font>) and sorts it by <font color=#9cdcfe>score</font> using a lambda key."
      ],
      "metadata": {
        "id": "gbOr4F-IqQLY"
      }
    },
    {
      "cell_type": "code",
      "source": [],
      "metadata": {
        "id": "ZlOI6DRLqST9"
      },
      "execution_count": null,
      "outputs": []
    },
    {
      "cell_type": "markdown",
      "source": [
        "28. Create a function <font color=#dcdcaa>global_local_interaction</font> that uses a global variable, shadows it with a local one, and demonstrates scope by printing both."
      ],
      "metadata": {
        "id": "T-Rzh63qqSnY"
      }
    },
    {
      "cell_type": "code",
      "source": [],
      "metadata": {
        "id": "_6KsDgkbqUTR"
      },
      "execution_count": null,
      "outputs": []
    },
    {
      "cell_type": "markdown",
      "source": [
        "29. Write a function <font color=#dcdcaa>kwargs_to_dict</font> that accepts **<font color=#9cdcfe>kwargs</font>, filters for numeric values, and returns a new dict with only those entries."
      ],
      "metadata": {
        "id": "UCDciDMGqUuX"
      }
    },
    {
      "cell_type": "code",
      "source": [],
      "metadata": {
        "id": "n6h4jo1MqWVD"
      },
      "execution_count": null,
      "outputs": []
    },
    {
      "cell_type": "markdown",
      "source": [
        "30. Define a function <font color=#dcdcaa>string_list_dict</font> that takes a string, splits it into a list of words, counts occurrences in a dict, and returns the dict sorted by count descending."
      ],
      "metadata": {
        "id": "aJDnj1TaqXcX"
      }
    },
    {
      "cell_type": "code",
      "source": [],
      "metadata": {
        "id": "J-IJTcbYqYeo"
      },
      "execution_count": null,
      "outputs": []
    }
  ]
}